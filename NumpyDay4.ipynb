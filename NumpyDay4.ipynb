{
 "cells": [
  {
   "cell_type": "markdown",
   "id": "d0e65ced",
   "metadata": {},
   "source": [
    "__DAY 4__"
   ]
  },
  {
   "cell_type": "code",
   "execution_count": 2,
   "id": "19b28b62",
   "metadata": {},
   "outputs": [],
   "source": [
    "import numpy as np"
   ]
  },
  {
   "cell_type": "markdown",
   "id": "c061ffb1",
   "metadata": {},
   "source": [
    "__SPeed Comparision : (python list and numpy_array)__"
   ]
  },
  {
   "cell_type": "code",
   "execution_count": 3,
   "id": "5c281a44",
   "metadata": {},
   "outputs": [],
   "source": [
    "# speed of List :\n",
    "A=[i for i in range(0,10000000)]\n",
    "B=[i for i in range(10000000,20000000)]"
   ]
  },
  {
   "cell_type": "code",
   "execution_count": 4,
   "id": "7ffb4174",
   "metadata": {},
   "outputs": [
    {
     "name": "stdout",
     "output_type": "stream",
     "text": [
      "Time Taken  11.827651900001001\n"
     ]
    }
   ],
   "source": [
    "import time \n",
    "start=time.monotonic()\n",
    "c=[]\n",
    "for i in range(len(A)):\n",
    "    c.append(A[i]+B[i])\n",
    "\n",
    "end=time.monotonic()\n",
    "print(\"Time Taken \",end-start)"
   ]
  },
  {
   "cell_type": "code",
   "execution_count": 5,
   "id": "577b1212",
   "metadata": {},
   "outputs": [],
   "source": [
    "#Numpy Speed\n",
    "numpyA=np.arange(0,10000000)\n",
    "numpyB=np.arange(10000000,20000000)\n"
   ]
  },
  {
   "cell_type": "code",
   "execution_count": 6,
   "id": "95f819a3",
   "metadata": {},
   "outputs": [
    {
     "name": "stdout",
     "output_type": "stream",
     "text": [
      "Time Taken  0.08554999999978463\n"
     ]
    }
   ],
   "source": [
    "start=time.monotonic()\n",
    "\n",
    "numpyc=numpyA+numpyB\n",
    "\n",
    "end=time.monotonic()\n",
    "print(\"Time Taken \",end-start)"
   ]
  },
  {
   "cell_type": "markdown",
   "id": "91028447",
   "metadata": {},
   "source": [
    "__Numpy Is Approximately 10-50 times Faster than Python Lists__\n",
    "\n",
    "__Why__\n",
    "- NumPy arrays use C-style arrays underneath.\n",
    "\n",
    "- - This means:\n",
    "\n",
    "  - Data is stored in contiguous memory blocks.\n",
    "\n",
    "  - All elements are of the same data type, enabling fast access and arithmetic using compiled C loops.\n",
    "  - Python List: stores references to objects\n",
    "   - NumPy Array: stores raw values directly in memory\n",
    "- No Reference Overhead\n",
    "  - Python lists store pointers (references) to actual objects.\n",
    "\n",
    "  - Every time you access an element in a list, Python follows the reference to get the value.\n",
    "\n",
    "  - NumPy arrays store the actual values in memory, not references.NumPy avoids this extra step = faster access.NumPy arrays are fixed-size.\n",
    "\n",
    "- You can’t insert or delete elements directly.\n",
    "\n",
    "- Homogenous data in Numpy arrays .\n",
    "\n",
    "- convenient way to code with larger data sets"
   ]
  },
  {
   "cell_type": "markdown",
   "id": "148d3494",
   "metadata": {},
   "source": [
    "__Memory comparision : (python list and numpy_array)__"
   ]
  },
  {
   "cell_type": "code",
   "execution_count": 7,
   "id": "051ab904",
   "metadata": {},
   "outputs": [
    {
     "name": "stdout",
     "output_type": "stream",
     "text": [
      "Size : 10875.8740234375 Mb\n"
     ]
    }
   ],
   "source": [
    "#List Size \n",
    "import sys\n",
    "A=[i for i in range(0,10000000)]\n",
    "size=sys.getsizeof(A)/(1024*8)\n",
    "print(\"Size :\",size,\"Mb\")"
   ]
  },
  {
   "cell_type": "code",
   "execution_count": 8,
   "id": "a5090d1d",
   "metadata": {},
   "outputs": [
    {
     "name": "stdout",
     "output_type": "stream",
     "text": [
      "Size : 9765.638671875 Mb\n"
     ]
    }
   ],
   "source": [
    "#Numpy array Size \n",
    "import sys\n",
    "A=np.arange(10000000)\n",
    "size=sys.getsizeof(A)/(1024*8)\n",
    "print(\"Size :\",size,\"Mb\")\n",
    "\n",
    "# we can Observe both are almost same memory"
   ]
  },
  {
   "cell_type": "code",
   "execution_count": 9,
   "id": "df22b8c1",
   "metadata": {},
   "outputs": [
    {
     "name": "stdout",
     "output_type": "stream",
     "text": [
      "Size : 2441.419921875 Mb\n"
     ]
    }
   ],
   "source": [
    "# using lower Precision numbers like int8,int16 ,int32 \n",
    "# to reduce the size \n",
    "# for example storing the month (1-12) we can use int8 rather than int64\n",
    "# that highly reduce the size\n",
    "A=np.arange(10000000,dtype=np.int16)\n",
    "size=sys.getsizeof(A)/(1024*8)\n",
    "print(\"Size :\",size,\"Mb\")"
   ]
  },
  {
   "cell_type": "markdown",
   "id": "d48b8aeb",
   "metadata": {},
   "source": [
    "# Advance Indexing (Fancy Indexing,Boolean Indexing)"
   ]
  },
  {
   "cell_type": "code",
   "execution_count": 10,
   "id": "65f395ac",
   "metadata": {},
   "outputs": [
    {
     "name": "stdout",
     "output_type": "stream",
     "text": [
      "[[ 0  1  2]\n",
      " [ 3  4  5]\n",
      " [ 6  7  8]\n",
      " [ 9 10 11]]\n",
      "4\n",
      "[[4 5]\n",
      " [7 8]]\n"
     ]
    }
   ],
   "source": [
    "#simple Indexing\n",
    "a=np.arange(12).reshape(4,3)\n",
    "print(a)\n",
    "\n",
    "# indexing\n",
    "print(a[1,1])\n",
    "\n",
    "# slicing\n",
    "print(a[1:3,1:])"
   ]
  },
  {
   "cell_type": "markdown",
   "id": "62442c5f",
   "metadata": {},
   "source": [
    "__Fancy Indexing__"
   ]
  },
  {
   "cell_type": "code",
   "execution_count": 11,
   "id": "9dc21ba6",
   "metadata": {},
   "outputs": [
    {
     "data": {
      "text/plain": [
       "'Fancy indexing means:\\n indexing an array using a list or array of indices,\\n   rather than a single index or a slice.\\n\\nIt gives you more control over which elements to extract, reorder, or modify.\\n'"
      ]
     },
     "execution_count": 11,
     "metadata": {},
     "output_type": "execute_result"
    }
   ],
   "source": [
    "\"\"\"Fancy indexing means:\n",
    " indexing an array using a list or array of indices,\n",
    "   rather than a single index or a slice.\n",
    "\n",
    "It gives you more control over which elements to extract, reorder, or modify.\n",
    "\"\"\""
   ]
  },
  {
   "cell_type": "code",
   "execution_count": 12,
   "id": "2bcc0eb8",
   "metadata": {},
   "outputs": [
    {
     "name": "stdout",
     "output_type": "stream",
     "text": [
      "[10 40 50]\n"
     ]
    }
   ],
   "source": [
    "\n",
    "# what if someone says you to get only the 1st row ,3rd row and 4th row\n",
    "# here we cannot find any pattern for slicing so use the Fancy Indexing\n",
    "# we cannot do this with slicing and indexing directly\n",
    "\n",
    "#so pass the directly  index_list  of what you want \n",
    "\n",
    "arr = np.array([10, 20, 30, 40, 50])\n",
    "\n",
    "# Access elements at index 0, 3, and 4\n",
    "indices = [0, 3, 4]\n",
    "print(arr[indices])  # Output: [10 30 50]\n"
   ]
  },
  {
   "cell_type": "code",
   "execution_count": 13,
   "id": "dca3fe18",
   "metadata": {},
   "outputs": [
    {
     "name": "stdout",
     "output_type": "stream",
     "text": [
      "[50 50 10 20]\n"
     ]
    }
   ],
   "source": [
    "# Repeat and reorder elements\n",
    "print(arr[[4, 4, 0, 1]])  # Output: [50 50 10 20]"
   ]
  },
  {
   "cell_type": "code",
   "execution_count": 14,
   "id": "4fd27028",
   "metadata": {},
   "outputs": [
    {
     "name": "stdout",
     "output_type": "stream",
     "text": [
      "array\n",
      " [[ 0  1  2  3]\n",
      " [ 4  5  6  7]\n",
      " [ 8  9 10 11]\n",
      " [12 13 14 15]\n",
      " [16 17 18 19]\n",
      " [20 21 22 23]]\n",
      "\n",
      "1st,2nd,5th,3rd,2nd \n",
      " [[ 0  1  2  3]\n",
      " [ 4  5  6  7]\n",
      " [16 17 18 19]\n",
      " [ 8  9 10 11]\n",
      " [ 4  5  6  7]]\n",
      "\n",
      "all rows -> 1st,3rd,2nd columns \n",
      " [[ 0  2  1]\n",
      " [ 4  6  5]\n",
      " [ 8 10  9]\n",
      " [12 14 13]\n",
      " [16 18 17]\n",
      " [20 22 21]]\n"
     ]
    }
   ],
   "source": [
    "# Fancy Indexing in 2D Arrays\n",
    "\"\"\"SyntAx:\n",
    "arr2d[row_indices, col_indices]\"\"\"\n",
    "\n",
    "a=np.arange(0,24).reshape(6,4)\n",
    "print(\"array\\n\",a)\n",
    "\n",
    "# access the 1st,2nd,5th,3rd,2nd row in same order  and all columns \n",
    "rows=[0,1,4,2,1]\n",
    "print(\"\\n1st,2nd,5th,3rd,2nd \\n\",a[rows])\n",
    "\n",
    "# access all rows and columns in order 1st,3rd,2nd\n",
    "columns=[0,2,1]\n",
    "print(\"\\nall rows -> 1st,3rd,2nd columns \\n\",a[:,columns])"
   ]
  },
  {
   "cell_type": "code",
   "execution_count": 15,
   "id": "2faf9e93",
   "metadata": {},
   "outputs": [
    {
     "name": "stdout",
     "output_type": "stream",
     "text": [
      "[[ 0  1  2  3]\n",
      " [ 4  5  6  7]\n",
      " [ 8  9 10 11]\n",
      " [12 13 14 15]\n",
      " [16 17 18 19]\n",
      " [20 21 22 23]]\n",
      "After changing to 0\n",
      " [[ 0  0  0  0]\n",
      " [ 0  0  0  0]\n",
      " [ 8  9 10 11]\n",
      " [12 13 14 15]\n",
      " [ 0  0  0  0]\n",
      " [20 21 22 23]]\n"
     ]
    }
   ],
   "source": [
    "# Modifying Values with Fancy Indexing\n",
    "# change the 1st row,2nd row,5th row =0\n",
    "c=a.copy()\n",
    "print(c)\n",
    "rows=[0,1,4]\n",
    "c[rows]=0\n",
    "\n",
    "print(\"After changing to 0\\n\",c)"
   ]
  },
  {
   "cell_type": "markdown",
   "id": "c6ad3360",
   "metadata": {},
   "source": [
    "__Boolean Indexing__"
   ]
  },
  {
   "cell_type": "code",
   "execution_count": 16,
   "id": "266d0f65",
   "metadata": {},
   "outputs": [
    {
     "data": {
      "text/plain": [
       "' Boolean Indexing lets you filter NumPy arrays\\n  using boolean values (True / False).\\n'"
      ]
     },
     "execution_count": 16,
     "metadata": {},
     "output_type": "execute_result"
    }
   ],
   "source": [
    "\"\"\" Boolean Indexing lets you filter NumPy arrays\n",
    "  using boolean values (True / False).\n",
    "\"\"\""
   ]
  },
  {
   "cell_type": "code",
   "execution_count": 17,
   "id": "da5f3a65",
   "metadata": {},
   "outputs": [
    {
     "name": "stdout",
     "output_type": "stream",
     "text": [
      "Boolean mask: [False False False  True  True]\n",
      "Filtered values: [40 50]\n"
     ]
    }
   ],
   "source": [
    "\n",
    "# question: Create the Numpy array that contains elements >30 from given array\n",
    "import numpy as np\n",
    "\n",
    "arr = np.array([10, 20, 30, 40, 50])\n",
    "\n",
    "# Get elements greater than 30\n",
    "mask = arr > 30\n",
    "print(\"Boolean mask:\", mask)         # [False False False  True  True]\n",
    "print(\"Filtered values:\", arr[mask]) # [40 50]\n"
   ]
  },
  {
   "cell_type": "code",
   "execution_count": 18,
   "id": "bcbc0743",
   "metadata": {},
   "outputs": [
    {
     "name": "stdout",
     "output_type": "stream",
     "text": [
      "[[97 12  5 13]\n",
      " [33 21 25 22]\n",
      " [89 69 49 99]\n",
      " [53 42 90 29]\n",
      " [44 13 80 14]\n",
      " [94 14 45 63]]\n"
     ]
    }
   ],
   "source": [
    "\"\"\"\n",
    "Q.\n",
    "1.create the Numpy array of (6,4) random numbers from 1-100\n",
    "\n",
    "2.create the Numpy array Such that elements >50 from Above Array.\n",
    "\n",
    "3. Create the Numpy arrry such that elements are Even from above array\n",
    "\n",
    "4. Create the Numpy arrry such that elements are ( Even and >50 ) from above array\n",
    " \"\"\"\n",
    "\n",
    "#1..\n",
    "Array=np.random.randint(1,100,size=(6,4))\n",
    "print(Array)"
   ]
  },
  {
   "cell_type": "code",
   "execution_count": 19,
   "id": "b1eaeb29",
   "metadata": {},
   "outputs": [
    {
     "name": "stdout",
     "output_type": "stream",
     "text": [
      "[[ True False False False]\n",
      " [False False False False]\n",
      " [ True  True False  True]\n",
      " [ True False  True False]\n",
      " [False False  True False]\n",
      " [ True False False  True]]\n",
      "[ 0  8  9 11 12 14 18 20 23]\n"
     ]
    }
   ],
   "source": [
    "#2..\n",
    "# Getting the Boolean Array\n",
    "mask=Array > 50 \n",
    "print(mask)\n",
    "\n",
    "#using this Boolean Array As mask to get the COndtion True Elements only\n",
    "TrueValueElements=a[mask]\n",
    "print(TrueValueElements)"
   ]
  },
  {
   "cell_type": "code",
   "execution_count": 20,
   "id": "31536670",
   "metadata": {},
   "outputs": [
    {
     "name": "stdout",
     "output_type": "stream",
     "text": [
      "[[False  True False False]\n",
      " [False False False  True]\n",
      " [False False False False]\n",
      " [False  True  True False]\n",
      " [ True False  True  True]\n",
      " [ True  True False False]]\n",
      "[12 22 42 90 44 80 14 94 14]\n"
     ]
    }
   ],
   "source": [
    "#3..\n",
    "#boolean format\n",
    "mask=(Array%2==0)\n",
    "print(mask)\n",
    "#print the Condition True ELements(Even Numbers)\n",
    "print(Array[mask])\n"
   ]
  },
  {
   "cell_type": "markdown",
   "id": "82d99fa3",
   "metadata": {},
   "source": [
    "___Understanding The( and ) And (&) Difference :__\n",
    "\n",
    "\n",
    "--> (&) — Bitwise AND (Binary logic)\n",
    "\n",
    "Used with integers or arrays (like NumPy arrays).Performs a bitwise AND operation on corresponding bits.\n",
    "\n",
    "--> Using (and) with NumPy arrays raises an error.\n",
    "\n",
    "__Why?__ \n",
    "--> When We use (and) Python expects a single boolean value on each side, like:\n",
    "(True and False  # Works)\n",
    "\n",
    "but when we use \n",
    "\n",
    "\n",
    "a = np.array([True, False, True])\n",
    "\n",
    "b = np.array([False, False, True])\n",
    "\n",
    "a and b  #  Error!\n",
    "\n",
    "Python doesn’t know what to do here, because:\n",
    "\n",
    "a and b are arrays, not simple True or False.\n",
    "\n",
    "Python tries to convert the arrays to a single boolean, like bool(a), but...\n",
    "\n",
    "When you do bool(a) on a NumPy array with more than one element, NumPy raises this error:\n",
    "\"\"\""
   ]
  },
  {
   "cell_type": "code",
   "execution_count": 21,
   "id": "fb239ffd",
   "metadata": {},
   "outputs": [
    {
     "name": "stdout",
     "output_type": "stream",
     "text": [
      "[[False False False False]\n",
      " [False False False False]\n",
      " [False False False False]\n",
      " [False False  True False]\n",
      " [False False  True False]\n",
      " [ True False False False]]\n",
      "[90 80 94]\n"
     ]
    }
   ],
   "source": [
    "#4..\n",
    "\"\"\"Use & , | , and ~  with parentheses around conditions\"\"\"\n",
    "mask=((Array>50) & (Array%2==0))\n",
    "print(mask)\n",
    "\n",
    "print(Array[mask])"
   ]
  },
  {
   "cell_type": "markdown",
   "id": "d59e55be",
   "metadata": {},
   "source": [
    "__BroadCasting__\n",
    "\n",
    "The Term Broadcasting Describes How Numpy treats Arrays with Different Shapes During Arithmetic Opeations.\n",
    "\n",
    "The smaller Array is \"broadcast\" across the larger array so that they can have compatible Shapes\n",
    "\n",
    "__Broadcasting is the method NumPy uses to perform operations on arrays of different shapes as if they had the same shape, without actually copying the data.__\n",
    "\n",
    "__It’s like “stretching” the smaller array to match the bigger one — automatically and efficiently.__ \n",
    "\n"
   ]
  },
  {
   "cell_type": "code",
   "execution_count": 33,
   "id": "fe3943b5",
   "metadata": {},
   "outputs": [
    {
     "data": {
      "text/plain": [
       "array([[ 0,  2,  4],\n",
       "       [ 6,  8, 10]])"
      ]
     },
     "execution_count": 33,
     "metadata": {},
     "output_type": "execute_result"
    }
   ],
   "source": [
    "# same Shapes Operations:\n",
    "a=np.arange(6).reshape(2,3)\n",
    "b=np.arange(6).reshape(2,3)\n",
    "\n",
    "a+b"
   ]
  },
  {
   "cell_type": "code",
   "execution_count": 25,
   "id": "aaf5743b",
   "metadata": {},
   "outputs": [
    {
     "name": "stdout",
     "output_type": "stream",
     "text": [
      "a=\n",
      " [[0 1 2]\n",
      " [3 4 5]]\n",
      "b=\n",
      " [[0 1 2]]\n"
     ]
    },
    {
     "data": {
      "text/plain": [
       "array([[0, 2, 4],\n",
       "       [3, 5, 7]])"
      ]
     },
     "execution_count": 25,
     "metadata": {},
     "output_type": "execute_result"
    }
   ],
   "source": [
    "# Different Shapes Operations:\n",
    "a=np.arange(6).reshape(2,3)\n",
    "print(\"a=\\n\",a)\n",
    "b=np.arange(3).reshape(1,3)\n",
    "print(\"b=\\n\",b)\n",
    "\n",
    "a+b"
   ]
  },
  {
   "cell_type": "markdown",
   "id": "976fe780",
   "metadata": {},
   "source": [
    "#### Broadcasting Rules\n",
    "\n",
    "**1. Make the two arrays have the same number of dimensions.**<br>\n",
    "- If the numbers of dimensions of the two arrays are different, add new dimensions with size 1 to the head of the array with the smaller dimension.<br>"
   ]
  },
  {
   "cell_type": "markdown",
   "id": "6e681a6b",
   "metadata": {},
   "source": [
    "**2. Make each dimension of the two arrays the same size.**<br>\n",
    "- If the sizes of each dimension of the two arrays do not match, dimensions with size 1 are stretched to the size of the other array.\n",
    "- If there is a dimension whose size is not 1 in either of the two arrays, it cannot be broadcasted, and an error is raised."
   ]
  },
  {
   "cell_type": "markdown",
   "id": "3290ed6f",
   "metadata": {},
   "source": [
    "<img src = \"https://jakevdp.github.io/PythonDataScienceHandbook/figures/02.05-broadcasting.png\">"
   ]
  },
  {
   "cell_type": "code",
   "execution_count": 34,
   "id": "913bdf12",
   "metadata": {},
   "outputs": [
    {
     "name": "stdout",
     "output_type": "stream",
     "text": [
      "a=\n",
      " [[ 0  1  2]\n",
      " [ 3  4  5]\n",
      " [ 6  7  8]\n",
      " [ 9 10 11]]\n",
      "b=\n",
      " [0 1 2]\n"
     ]
    },
    {
     "data": {
      "text/plain": [
       "array([[ 0,  2,  4],\n",
       "       [ 3,  5,  7],\n",
       "       [ 6,  8, 10],\n",
       "       [ 9, 11, 13]])"
      ]
     },
     "execution_count": 34,
     "metadata": {},
     "output_type": "execute_result"
    }
   ],
   "source": [
    "# more Examples\n",
    "a=np.arange(12).reshape(4,3)    #-> (4,3)\n",
    "print(\"a=\\n\",a)\n",
    "b=np.arange(3).reshape(3)       #-> (3,)\n",
    "print(\"b=\\n\",b)\n",
    "\"\"\"\n",
    "How broadcasting happens:\n",
    "\n",
    "a.shape = (4, 3)\n",
    "b.shape = (3,)\n",
    "\n",
    "Step 1:\n",
    "Align shapes from the right:\n",
    "a -> (4, 3)\n",
    "b ->     (3)\n",
    "\n",
    "Step 2:\n",
    "Match dimensions:\n",
    "- b has fewer dimensions → add a new dimension at the beginning of size 1\n",
    "  b becomes (1, 3)\n",
    "\n",
    "Step 3:\n",
    "Broadcast:\n",
    "- a is (4, 3)\n",
    "- b is (1, 3)\n",
    "→ NumPy stretches bs first dimension from 1 to 4\n",
    "\n",
    "Final broadcasted b:\n",
    "[[0, 1, 2],\n",
    " [0, 1, 2],\n",
    " [0, 1, 2],\n",
    " [0, 1, 2]]  # Shape: (4, 3)\n",
    "\n",
    "Now shapes match → element-wise addition works\n",
    "\"\"\"\n",
    "\n",
    "\n",
    "a+b"
   ]
  },
  {
   "cell_type": "code",
   "execution_count": null,
   "id": "b87e5eab",
   "metadata": {},
   "outputs": [
    {
     "name": "stdout",
     "output_type": "stream",
     "text": [
      "a=\n",
      " [[ 0  1  2]\n",
      " [ 3  4  5]\n",
      " [ 6  7  8]\n",
      " [ 9 10 11]]\n",
      "b=\n",
      " [[0]\n",
      " [1]\n",
      " [2]\n",
      " [3]]\n"
     ]
    },
    {
     "data": {
      "text/plain": [
       "array([[ 0,  1,  2],\n",
       "       [ 4,  5,  6],\n",
       "       [ 8,  9, 10],\n",
       "       [12, 13, 14]])"
      ]
     },
     "execution_count": 37,
     "metadata": {},
     "output_type": "execute_result"
    }
   ],
   "source": [
    "a=np.arange(12).reshape(4,3)    #->(4,3)\n",
    "print(\"a=\\n\",a)\n",
    "b=np.arange(4).reshape(4,1)     #->(4,1)\n",
    "print(\"b=\\n\",b)\n",
    "\n",
    "\"\"\"\n",
    "a.shape = (4, 3)\n",
    "b.shape = (4, 1)\n",
    "\n",
    "Step 1: Align shapes from the right\n",
    "a → (4, 3)\n",
    "b → (4, 1)\n",
    "\n",
    "->(Same Dimension)\n",
    "Step 2: Compare each dimension\n",
    "- First dimension: 4 vs 4 →  same\n",
    "- Second dimension: 3 vs 1 →  1 can be stretched\n",
    "\n",
    "Step 3: Stretch b to match shape (4, 3)\n",
    "b becomes:\n",
    "[[0, 0, 0],\n",
    " [1, 1, 1],\n",
    " [2, 2, 2],\n",
    " [3, 3, 3]]\n",
    "\n",
    "Now both a and b are (4, 3) → Element-wise addition happens!\n",
    "\"\"\"\n",
    "\n",
    "a+b"
   ]
  },
  {
   "cell_type": "code",
   "execution_count": 42,
   "id": "79318a60",
   "metadata": {},
   "outputs": [
    {
     "name": "stdout",
     "output_type": "stream",
     "text": [
      "a=\n",
      " [[ 0  1  2  3]\n",
      " [ 4  5  6  7]\n",
      " [ 8  9 10 11]]\n",
      "b=\n",
      " [0 1 2]\n"
     ]
    },
    {
     "ename": "ValueError",
     "evalue": "operands could not be broadcast together with shapes (3,4) (3,) ",
     "output_type": "error",
     "traceback": [
      "\u001b[31m---------------------------------------------------------------------------\u001b[39m",
      "\u001b[31mValueError\u001b[39m                                Traceback (most recent call last)",
      "\u001b[36mCell\u001b[39m\u001b[36m \u001b[39m\u001b[32mIn[42]\u001b[39m\u001b[32m, line 30\u001b[39m\n\u001b[32m      4\u001b[39m \u001b[38;5;28mprint\u001b[39m(\u001b[33m\"\u001b[39m\u001b[33mb=\u001b[39m\u001b[38;5;130;01m\\n\u001b[39;00m\u001b[33m\"\u001b[39m,b)\n\u001b[32m      5\u001b[39m \u001b[33;03m\"\"\"\u001b[39;00m\n\u001b[32m      6\u001b[39m \u001b[33;03ma.shape = (3, 4)\u001b[39;00m\n\u001b[32m      7\u001b[39m \u001b[33;03mb.shape = (3,)\u001b[39;00m\n\u001b[32m   (...)\u001b[39m\u001b[32m     28\u001b[39m \u001b[33;03mError::\u001b[39;00m\n\u001b[32m     29\u001b[39m \u001b[33;03m\"\"\"\u001b[39;00m\n\u001b[32m---> \u001b[39m\u001b[32m30\u001b[39m \u001b[43ma\u001b[49m\u001b[43m+\u001b[49m\u001b[43mb\u001b[49m\n",
      "\u001b[31mValueError\u001b[39m: operands could not be broadcast together with shapes (3,4) (3,) "
     ]
    }
   ],
   "source": [
    "a=np.arange(12).reshape(3,4)    #->(3,4)\n",
    "print(\"a=\\n\",a)\n",
    "b=np.arange(3).reshape(3)     #->(3,)\n",
    "print(\"b=\\n\",b)\n",
    "\"\"\"\n",
    "a.shape = (3, 4)\n",
    "b.shape = (3,)\n",
    "\n",
    "Step 1: Align shapes from the right\n",
    "a → (3,4)\n",
    "b → (, 3)\n",
    "\n",
    "Step 2: Match dimensions:\n",
    "- b has fewer dimensions → add a new dimension at the beginning of size 1\n",
    "  b becomes (1, 3)\n",
    "\n",
    "step3:\n",
    "Compare each dimension\n",
    "- First dimension: 3 vs 1 →  1 can be stretched to 3\n",
    "- Second dimension: 3 vs 3→  here dimension not matches and not 1 (So no Streching)\n",
    "\n",
    "# here we can see that 2nd dimension not matches and not equal to 1\n",
    "# Broadcasting only works if:\n",
    "1..Dimensions Matches, or\n",
    "2...One of them is 1 (so it can be stretched)\n",
    "..\n",
    "\n",
    "Error::\n",
    "\"\"\"\n",
    "a+b"
   ]
  },
  {
   "cell_type": "code",
   "execution_count": 43,
   "id": "e384cbff",
   "metadata": {},
   "outputs": [
    {
     "name": "stdout",
     "output_type": "stream",
     "text": [
      "a=\n",
      " [[0 1 2]]\n",
      "b=\n",
      " [[0]\n",
      " [1]\n",
      " [2]\n",
      " [3]]\n"
     ]
    },
    {
     "data": {
      "text/plain": [
       "array([[0, 1, 2],\n",
       "       [1, 2, 3],\n",
       "       [2, 3, 4],\n",
       "       [3, 4, 5]])"
      ]
     },
     "execution_count": 43,
     "metadata": {},
     "output_type": "execute_result"
    }
   ],
   "source": [
    "a=np.arange(3).reshape(1,3)    #->(1,3)\n",
    "print(\"a=\\n\",a)\n",
    "b=np.arange(4).reshape(4,1)     #->(4,1)\n",
    "print(\"b=\\n\",b)\n",
    "\n",
    "\"\"\"\n",
    "a.shape = (1, 3)\n",
    "b.shape = (4, 1)\n",
    "\n",
    "Step 1: Align shapes from the right\n",
    "a → (1, 3)\n",
    "b → (4, 1)\n",
    "->(Same Dimension)\n",
    "Step 2: Compare each dimension\n",
    "- First dimension: 1 vs4  →  1 can be stretched to 4\n",
    "- Second dimension: 3 vs 1 →  1 can be stretched to 3\n",
    "\n",
    "Step 3: Stretch b to match shape (4, 3)\n",
    "a becomes :\n",
    "[[0,1,2],\n",
    "[0,1,2],\n",
    "[0,1,2],\n",
    "[0,1,2]]\n",
    "\n",
    "\n",
    "b becomes :\n",
    "[[0,0,0],\n",
    "[1,1,1],\n",
    "[2,2,2],\n",
    "[3,3,3]]\n",
    "Now both a and b are (4, 3) → Element-wise addition happens!\n",
    "\"\"\"\n",
    "a+b"
   ]
  },
  {
   "cell_type": "code",
   "execution_count": 50,
   "id": "b48a6a3e",
   "metadata": {},
   "outputs": [
    {
     "name": "stdout",
     "output_type": "stream",
     "text": [
      "a=\n",
      " [1]\n",
      "b=\n",
      " [[0 1]\n",
      " [2 3]]\n"
     ]
    },
    {
     "data": {
      "text/plain": [
       "array([[1, 2],\n",
       "       [3, 4]])"
      ]
     },
     "execution_count": 50,
     "metadata": {},
     "output_type": "execute_result"
    }
   ],
   "source": [
    "a=np.array([1])\n",
    "b=np.arange(4).reshape(2,2)\n",
    "print(\"a=\\n\",a)\n",
    "print(\"b=\\n\",b)\n",
    "\n",
    "\"\"\"\n",
    "How broadcasting happens:\n",
    "\n",
    "a.shape = (1)\n",
    "b.shape = (2,2)\n",
    "\n",
    "Step 1:\n",
    "Align shapes from the right:\n",
    "a -> ( ,1)\n",
    "b -> (2,2)\n",
    "\n",
    "Step 2:\n",
    "Match dimensions:\n",
    "- 1 has fewer dimensions → add a new dimension at the beginning of size 1\n",
    "  1 becomes (1, 1)\n",
    "\n",
    "Step 3:\n",
    "Broadcast:\n",
    "- a is (1, 1)\n",
    "- b is (2, 2)\n",
    "→ NumPy stretches a first dimension from 1 to 2 \n",
    "a -> [1,1]\n",
    "→ NumPy stretches a Second dimension from 1 to 2 \n",
    "a->[[1,1],\n",
    "    [1,1]]\n",
    "Final broadcasted a:\n",
    " a->[[1,1],\n",
    "    [1,1]]# Shape: (2, 2)\n",
    "\n",
    "Now shapes match → element-wise addition works\n",
    "\"\"\"\n",
    "\n",
    "a+b\n"
   ]
  },
  {
   "cell_type": "code",
   "execution_count": null,
   "id": "3a3cb613",
   "metadata": {},
   "outputs": [
    {
     "name": "stdout",
     "output_type": "stream",
     "text": [
      "a=\n",
      " [[ 0  1  2  3]\n",
      " [ 4  5  6  7]\n",
      " [ 8  9 10 11]\n",
      " [12 13 14 15]]\n",
      "b=\n",
      " [[0 1]\n",
      " [2 3]]\n"
     ]
    },
    {
     "ename": "ValueError",
     "evalue": "operands could not be broadcast together with shapes (4,4) (2,2) ",
     "output_type": "error",
     "traceback": [
      "\u001b[31m---------------------------------------------------------------------------\u001b[39m",
      "\u001b[31mValueError\u001b[39m                                Traceback (most recent call last)",
      "\u001b[36mCell\u001b[39m\u001b[36m \u001b[39m\u001b[32mIn[53]\u001b[39m\u001b[32m, line 35\u001b[39m\n\u001b[32m      4\u001b[39m \u001b[38;5;28mprint\u001b[39m(\u001b[33m\"\u001b[39m\u001b[33mb=\u001b[39m\u001b[38;5;130;01m\\n\u001b[39;00m\u001b[33m\"\u001b[39m,b)\n\u001b[32m      5\u001b[39m \u001b[33;03m\"\"\"\u001b[39;00m\n\u001b[32m      6\u001b[39m \u001b[33;03mHow broadcasting happens:\u001b[39;00m\n\u001b[32m      7\u001b[39m \n\u001b[32m   (...)\u001b[39m\u001b[32m     32\u001b[39m \u001b[33;03mError\u001b[39;00m\n\u001b[32m     33\u001b[39m \u001b[33;03m\"\"\"\u001b[39;00m\n\u001b[32m---> \u001b[39m\u001b[32m35\u001b[39m \u001b[43ma\u001b[49m\u001b[43m+\u001b[49m\u001b[43mb\u001b[49m\n",
      "\u001b[31mValueError\u001b[39m: operands could not be broadcast together with shapes (4,4) (2,2) "
     ]
    }
   ],
   "source": [
    "a=np.arange(16).reshape(4,4)\n",
    "b=np.arange(4).reshape(2,2)\n",
    "print(\"a=\\n\",a)\n",
    "print(\"b=\\n\",b)\n",
    "\"\"\"\n",
    "How broadcasting happens:\n",
    "\n",
    "a.shape = (4,4)\n",
    "b.shape = (2,2)\n",
    "\n",
    "Step 1:\n",
    "Align shapes from the right:\n",
    "a -> ( 4,4)\n",
    "b -> (2,2)\n",
    "\n",
    "Step 2:\n",
    "Match dimensions:\n",
    "--> Same Dimensions 2D\n",
    "\n",
    "Step 3:\n",
    "Broadcast:\n",
    "- a is (4, 4)\n",
    "- b is (2, 2)\n",
    "b -> does not have 1 in size\n",
    "\n",
    "# here we can see that both  dimensions of (b not matches with a) and (not equal to 1 )\n",
    "# Broadcasting only works if:\n",
    "1..Dimensions Matches, or\n",
    "2...One of them is 1 (so it can be stretched)\n",
    "..\n",
    "\n",
    "Error\n",
    "\"\"\"\n",
    "\n",
    "a+b"
   ]
  },
  {
   "cell_type": "markdown",
   "id": "7455fbdc",
   "metadata": {},
   "source": [
    "[__DAY 5__](./NumpyDay5.ipynb)"
   ]
  }
 ],
 "metadata": {
  "kernelspec": {
   "display_name": "Python 3",
   "language": "python",
   "name": "python3"
  },
  "language_info": {
   "codemirror_mode": {
    "name": "ipython",
    "version": 3
   },
   "file_extension": ".py",
   "mimetype": "text/x-python",
   "name": "python",
   "nbconvert_exporter": "python",
   "pygments_lexer": "ipython3",
   "version": "3.13.5"
  }
 },
 "nbformat": 4,
 "nbformat_minor": 5
}
