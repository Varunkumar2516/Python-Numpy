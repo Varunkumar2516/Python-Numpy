{
 "cells": [
  {
   "cell_type": "markdown",
   "id": "f91776d8",
   "metadata": {},
   "source": [
    "__DAY 1__"
   ]
  },
  {
   "cell_type": "markdown",
   "id": "33f7fe5c",
   "metadata": {},
   "source": [
    "### What is numpy?\n",
    "\n",
    "NumPy is the fundamental package for scientific computing in Python. It is a Python library that provides a multidimensional array object, various derived objects (such as masked arrays and matrices), and an assortment of routines for fast operations on arrays, including mathematical, logical, shape manipulation, sorting, selecting, I/O, discrete Fourier transforms, basic linear algebra, basic statistical operations, random simulation and much more.\n",
    "\n",
    "\n",
    "At the core of the NumPy package, is the ndarray object. This encapsulates n-dimensional arrays of homogeneous data types"
   ]
  },
  {
   "cell_type": "markdown",
   "id": "e0229e0a",
   "metadata": {},
   "source": [
    " Difference Between the Numpy array vs Python Sequences(list,tuple,sets)\n",
    "\n",
    "- NumPy arrays have a fixed size at creation, unlike Python lists (which can grow dynamically). Changing the size of an ndarray will create a new array and delete the original.\n",
    "\n",
    "- The elements in a NumPy array are all required to be of the same data type, and thus will be the same size in memory.\n",
    "\n",
    "- NumPy arrays facilitate advanced mathematical and other types of operations on large numbers of data. Typically, such operations are executed more efficiently and with less code than is possible using Python’s built-in sequences.\n",
    "\n",
    "- A growing plethora of scientific and mathematical Python-based packages are using NumPy arrays; though these typically support Python-sequence input, they convert such input to NumPy arrays prior to processing, and they often output NumPy arrays."
   ]
  },
  {
   "cell_type": "markdown",
   "id": "d50651fe",
   "metadata": {},
   "source": [
    "__Important Questions :__\n",
    "\n",
    "\n",
    "1.What is NumPy?\n",
    "\n",
    "2.Why use NumPy instead of lists?\n",
    "\n",
    "3.How to install and import it\n",
    "\n",
    "4.Creating NumPy arrays\n",
    "\n",
    "5.Basic array operations\n",
    "\n",
    " 1. What is NumPy?\n",
    "NumPy (Numerical Python) is a library for fast, efficient operations on large arrays and matrices of numeric data.\n",
    "\n",
    " 2. Why NumPy over Python Lists?\n",
    "- Faster execution\n",
    "\n",
    "- Uses less memory\n",
    "\n",
    "- Has many built-in mathematical operations\n",
    "\n",
    "- Supports broadcasting (element-wise operations without loops)\n",
    "\n",
    " 3. Installation & Import\n",
    "\n",
    "pip install numpy\n",
    "\n",
    "import numpy as np"
   ]
  },
  {
   "cell_type": "markdown",
   "id": "c45ba6a4",
   "metadata": {},
   "source": [
    "\n",
    " 4. Creating Numpy Arrays"
   ]
  },
  {
   "cell_type": "code",
   "execution_count": 5,
   "id": "146f003b",
   "metadata": {},
   "outputs": [
    {
     "name": "stdout",
     "output_type": "stream",
     "text": [
      "[1 2 3]\n",
      "<class 'numpy.ndarray'>\n",
      "[[1 2 3]\n",
      " [4 5 6]]\n",
      "<class 'numpy.ndarray'>\n",
      "[[[ 1  2]\n",
      "  [ 2  3]]\n",
      "\n",
      " [[ 2  3]\n",
      "  [24  4]]]\n",
      "<class 'numpy.ndarray'>\n"
     ]
    }
   ],
   "source": [
    "#importing the numpy \n",
    "import numpy as np\n",
    "\n",
    "# 1D array:Vector\n",
    "a = np.array([1, 2, 3])\n",
    "print(a)\n",
    "print(type(a))\n",
    "\n",
    "\n",
    "# 2D array:Matrix   \n",
    "b = np.array([[1, 2, 3], [4, 5, 6]])\n",
    "print(b)\n",
    "print(type(b))\n",
    "\n",
    "# 3D Array :Tensor\n",
    "c=np.array([[[1,2],[2,3]],[[2,3],[24,4]]])\n",
    "print(c)\n",
    "print(type(c))\n"
   ]
  },
  {
   "cell_type": "code",
   "execution_count": null,
   "id": "a37de6a8",
   "metadata": {},
   "outputs": [],
   "source": [
    "#Some Important Methods and Attributes :|\n",
    "                                        "
   ]
  },
  {
   "cell_type": "code",
   "execution_count": null,
   "id": "337a1b8c",
   "metadata": {},
   "outputs": [
    {
     "name": "stdout",
     "output_type": "stream",
     "text": [
      "[1. 2. 3.]\n",
      "[ True  True  True]\n"
     ]
    }
   ],
   "source": [
    "# Our Own Datatype Numpy array\n",
    "# dtype=type\n",
    "# float Array\n",
    "import numpy as n\n",
    "float_array=n.array([1,2,3] , dtype=float)\n",
    "print(float_array)\n",
    "\n",
    "# bool type\n",
    "bool_array=n.array([1,2,3],dtype=bool)\n",
    "print(bool_array)"
   ]
  },
  {
   "cell_type": "code",
   "execution_count": null,
   "id": "630860fc",
   "metadata": {},
   "outputs": [
    {
     "name": "stdout",
     "output_type": "stream",
     "text": [
      "Numpy Array of 0,10 [ 0  1  2  3  4  5  6  7  8  9 10]\n",
      "Numpy Array of even Numbers 0,20 [ 0  2  4  6  8 10 12 14 16 18 20]\n"
     ]
    }
   ],
   "source": [
    "# np.arange(start,end,step)::Creates an array with regularly spaced values (like Python's range() but returns a NumPy array).\n",
    "# similar to range(start,end,step)\n",
    "# it return the Numpy array\n",
    "print(\"Numpy Array of 0,10\",n.arange(0,11))\n",
    "b=print(\"Numpy Array of even Numbers 0,20\",n.arange(0,21,2))\n"
   ]
  },
  {
   "cell_type": "code",
   "execution_count": null,
   "id": "b9e75750",
   "metadata": {},
   "outputs": [
    {
     "name": "stdout",
     "output_type": "stream",
     "text": [
      "[[1 2 3]\n",
      " [2 3 4]]\n",
      "(2, 3)\n"
     ]
    }
   ],
   "source": [
    "# check the shape of our array \n",
    "# np.shape\n",
    "x=np.array([[1,2,3],[2,3,4]])\n",
    "print(x)\n",
    "Shape=x.shape\n",
    "print(Shape)   # (2,3) rows=2 and colums =3"
   ]
  },
  {
   "cell_type": "code",
   "execution_count": 4,
   "id": "c6c5286c",
   "metadata": {},
   "outputs": [
    {
     "name": "stdout",
     "output_type": "stream",
     "text": [
      "[0 1 2 3 4 5 6 7 8 9]\n",
      "(10,)\n",
      "[[0 1]\n",
      " [2 3]\n",
      " [4 5]\n",
      " [6 7]\n",
      " [8 9]]\n",
      "[[0 1 2 3 4]\n",
      " [5 6 7 8 9]]\n"
     ]
    }
   ],
   "source": [
    "#Changes the shape/structure of an array without changing its data.4\n",
    "# reshape(array , (newshape))\n",
    "# reshape(newshape)\n",
    "\n",
    "import numpy as np\n",
    "# reshape(array , (newshape))\n",
    "myarray=np.arange(0,10)\n",
    "print(myarray)\n",
    "print(myarray.shape)\n",
    "x=np.reshape(myarray,(5,2))\n",
    "print(x)\n",
    "\n",
    "# reshape(newshape)\n",
    "Numpy_array=np.arange(0,10)\n",
    "newarray=Numpy_array.reshape(2,5)\n",
    "print(newarray)"
   ]
  },
  {
   "cell_type": "code",
   "execution_count": 29,
   "id": "edc091bb",
   "metadata": {},
   "outputs": [
    {
     "name": "stdout",
     "output_type": "stream",
     "text": [
      "\n",
      "\n",
      "Zeroes Array (3*3)\n",
      " [[0. 0. 0.]\n",
      " [0. 0. 0.]\n",
      " [0. 0. 0.]]\n",
      "\n",
      "Zeroes Array (3*3)\n",
      " [[1. 1. 1.]\n",
      " [1. 1. 1.]\n",
      " [1. 1. 1.]]\n",
      "\n",
      "Random Number Array (3*3)\n",
      " [[0.43064127 0.74255023 0.76627421]\n",
      " [0.75876206 0.33718616 0.02322152]\n",
      " [0.35826562 0.42636613 0.58116035]]\n"
     ]
    }
   ],
   "source": [
    "\n",
    "# Zeros, Ones, and Random: USED To Initialize the Things\n",
    "zeros = np.zeros((3, 3))\n",
    "ones = np.ones((3, 3))\n",
    "randoms = np.random.random((3, 3))\n",
    "\n",
    "print(\"\\n\\nZeroes Array (3*3)\\n\",zeros)\n",
    "print(\"\\nZeroes Array (3*3)\\n\",ones)\n",
    "print(\"\\nRandom Number Array (3*3)\\n\",randoms)\n"
   ]
  },
  {
   "cell_type": "code",
   "execution_count": 24,
   "id": "cff32f8a",
   "metadata": {},
   "outputs": [
    {
     "name": "stdout",
     "output_type": "stream",
     "text": [
      "[-10.          -7.77777778  -5.55555556  -3.33333333  -1.11111111\n",
      "   1.11111111   3.33333333   5.55555556   7.77777778  10.        ]\n",
      "[-10  -8  -6  -4  -2   0   2   4   6   8]\n",
      "[-10.          -7.77777778  -5.55555556  -3.33333333  -1.11111111\n",
      "   1.11111111   3.33333333   5.55555556   7.77777778  10.        ]\n",
      "step  2.2222222222222223\n"
     ]
    },
    {
     "data": {
      "text/plain": [
       "'\\nReal Use Cases:\\nCreating smooth X-axis data for plotting curves\\n\\nGenerating inputs for simulation or equally spaced intervals\\n\\nUseful in data normalization, interpolation, or binning\\n\\n'"
      ]
     },
     "execution_count": 26,
     "metadata": {},
     "output_type": "execute_result"
    }
   ],
   "source": [
    "# np.linspace(start, stop, num=50, endpoint=True, retstep=False)\n",
    "# Returns an array of (evenly spaced values) over a specified interval.\n",
    "\n",
    "\"\"\"\n",
    "start: The starting value of the sequence.\n",
    "\n",
    "stop: The end value of the sequence.\n",
    "\n",
    "num: Number of points (default is 50).\n",
    "\n",
    "endpoint: If True (default), include stop; otherwise, dont take  it.\n",
    "\n",
    "retstep: If True, returns (array, step size).(by default it is false)\n",
    "\"\"\"\n",
    "\n",
    "# using the np.linspace()\n",
    "x=np.linspace(-10,10,10)\n",
    "print(x)\n",
    "\n",
    "# using it with endpoint \n",
    "x=np.linspace(-10,10,10,endpoint=False,dtype=int)\n",
    "print(x)\n",
    "\n",
    "#using the retstep\n",
    "x,step=np.linspace(-10,10,10,retstep=True)\n",
    "print(x)\n",
    "print(\"step \",step)\n",
    "\n",
    "\"\"\"\n",
    "Real Use Cases:\n",
    "Creating smooth X-axis data for plotting curves\n",
    "\n",
    "Generating inputs for simulation or equally spaced intervals\n",
    "\n",
    "Useful in data normalization, interpolation, or binning\n",
    "\n",
    "\"\"\"\n"
   ]
  },
  {
   "cell_type": "code",
   "execution_count": 58,
   "id": "6490c1ca",
   "metadata": {},
   "outputs": [
    {
     "name": "stdout",
     "output_type": "stream",
     "text": [
      "[[1 0 0]\n",
      " [0 1 0]\n",
      " [0 0 1]]\n",
      "[[1. 0. 0. 0.]\n",
      " [0. 1. 0. 0.]\n",
      " [0. 0. 1. 0.]]\n"
     ]
    }
   ],
   "source": [
    "# np.identity(n, dtype=None)\n",
    "#n: Number of rows and columns (since it’s square).\n",
    "\n",
    "#dtype: Data type (optional), like float, int, etc.\n",
    "print(np.identity(3,dtype=int))\n",
    "\n",
    "\n",
    "# np.eye()\n",
    "# np.identity(n) only creates square matrices\n",
    "# np.eye(n, m) lets you create non-square matrices and set diagonal offset(n,m) rows,columns\n",
    "print(np.eye(3,4))"
   ]
  },
  {
   "cell_type": "markdown",
   "id": "7f81948f",
   "metadata": {},
   "source": [
    "# Numpy Attributes"
   ]
  },
  {
   "cell_type": "code",
   "execution_count": null,
   "id": "a289e283",
   "metadata": {},
   "outputs": [
    {
     "name": "stdout",
     "output_type": "stream",
     "text": [
      "[0 1 2 3 4 5 6 7 8 9] \n",
      "\n",
      " [[ 0.  1.  2.  3.]\n",
      " [ 4.  5.  6.  7.]\n",
      " [ 8.  9. 10. 11.]] \n",
      "\n",
      " [[[0 1]\n",
      "  [2 3]]\n",
      "\n",
      " [[4 5]\n",
      "  [6 7]]]\n"
     ]
    }
   ],
   "source": [
    "import numpy as np\n",
    "#Example Arrays\n",
    "A1=np.arange(10)\n",
    "A2=np.arange(12,dtype=float).reshape(3,4)\n",
    "A3=np.arange(8,dtype=np.int32).reshape(2,2,2)\n",
    "print(A1,'\\n\\n',A2,\"\\n\\n\",A3)"
   ]
  },
  {
   "cell_type": "code",
   "execution_count": 49,
   "id": "ad8ee207",
   "metadata": {},
   "outputs": [
    {
     "name": "stdout",
     "output_type": "stream",
     "text": [
      "1\n",
      "2\n",
      "3\n"
     ]
    }
   ],
   "source": [
    "# ndim Attribute : Dimension of the Array \n",
    "print(A1.ndim)\n",
    "print(A2.ndim)\n",
    "print(A3.ndim)"
   ]
  },
  {
   "cell_type": "code",
   "execution_count": 50,
   "id": "aaccb1a3",
   "metadata": {},
   "outputs": [
    {
     "name": "stdout",
     "output_type": "stream",
     "text": [
      "(10,)\n",
      "(3, 4)\n",
      "(2, 2, 2)\n"
     ]
    }
   ],
   "source": [
    "# shape : To get the shape of the np.array\n",
    "# we have discussed this already above\n",
    "print(A1.shape)\n",
    "print(A2.shape)\n",
    "print(A3.shape)"
   ]
  },
  {
   "cell_type": "code",
   "execution_count": 51,
   "id": "673193f6",
   "metadata": {},
   "outputs": [
    {
     "name": "stdout",
     "output_type": "stream",
     "text": [
      "10\n",
      "12\n",
      "8\n"
     ]
    }
   ],
   "source": [
    "# size :provides the Number of elements of the array\n",
    "print(A1.size)\n",
    "print(A2.size)\n",
    "print(A3.size)"
   ]
  },
  {
   "cell_type": "code",
   "execution_count": 55,
   "id": "4db7fcd1",
   "metadata": {},
   "outputs": [
    {
     "name": "stdout",
     "output_type": "stream",
     "text": [
      "8\n",
      "8\n",
      "4\n"
     ]
    }
   ],
   "source": [
    "# itemsize : Gives how much memory the each element of numpy array takes in Memory \n",
    "# in bytes\n",
    "print(A1.itemsize)\n",
    "print(A2.itemsize)\n",
    "print(A3.itemsize)"
   ]
  },
  {
   "cell_type": "code",
   "execution_count": 56,
   "id": "0d0be786",
   "metadata": {},
   "outputs": [
    {
     "name": "stdout",
     "output_type": "stream",
     "text": [
      "int64\n",
      "float64\n",
      "int32\n"
     ]
    }
   ],
   "source": [
    "# dtype : gives the datatype of the items of Numpy array\n",
    "print(A1.dtype)\n",
    "print(A2.dtype)\n",
    "print(A3.dtype)"
   ]
  },
  {
   "cell_type": "markdown",
   "id": "3844c2ed",
   "metadata": {},
   "source": [
    "# Changing Datatypes Of Numpy Array: type conversion."
   ]
  },
  {
   "cell_type": "code",
   "execution_count": null,
   "id": "67e567f0",
   "metadata": {},
   "outputs": [
    {
     "name": "stdout",
     "output_type": "stream",
     "text": [
      "[0. 2. 4. 6. 8.] Step : 2.0\n",
      "float64\n",
      "8 kb\n",
      "[0. 2. 4. 6. 8.]\n",
      "8\n",
      "<class 'numpy.ndarray'>\n",
      "4\n"
     ]
    }
   ],
   "source": [
    "# astype():Converts (or casts) the data type of a NumPy array to a different one.\n",
    "k,step=np.linspace(0,10,5,retstep=True,endpoint=False)\n",
    "print(k,\"Step :\",step)\n",
    "print(k.dtype)\n",
    "print(k.itemsize,\"kb\")\n",
    "\n",
    "# to reduce size we can use the astype() to change its type to int32\n",
    "# Note: astype() returns a copy, not an in-place change. We have to assign it to some variable\n",
    "\n",
    "m=k.astype(np.int32)\n",
    "print(k)\n",
    "print(k.itemsize)\n",
    "print(m)\n",
    "print(m.itemsize)"
   ]
  },
  {
   "cell_type": "markdown",
   "id": "b9bf4451",
   "metadata": {},
   "source": [
    "[__Day 2__](./NumpyDay2.ipynb)"
   ]
  }
 ],
 "metadata": {
  "kernelspec": {
   "display_name": "Python 3",
   "language": "python",
   "name": "python3"
  },
  "language_info": {
   "codemirror_mode": {
    "name": "ipython",
    "version": 3
   },
   "file_extension": ".py",
   "mimetype": "text/x-python",
   "name": "python",
   "nbconvert_exporter": "python",
   "pygments_lexer": "ipython3",
   "version": "3.13.5"
  }
 },
 "nbformat": 4,
 "nbformat_minor": 5
}
