{
 "cells": [
  {
   "cell_type": "markdown",
   "id": "507e40ed",
   "metadata": {},
   "source": [
    "__Day 8 Numpy_TRicks__"
   ]
  },
  {
   "cell_type": "markdown",
   "id": "93bb52d2",
   "metadata": {},
   "source": [
    "1. numpy.sort()\n",
    ": NumPy's Sort Function\n",
    "\n",
    "\n",
    "https://numpy.org/doc/stable/reference/generated/numpy.sort.html"
   ]
  },
  {
   "cell_type": "code",
   "execution_count": 1,
   "id": "7dfff7a2",
   "metadata": {},
   "outputs": [
    {
     "data": {
      "text/plain": [
       "'\\naxis=0 column ,axis=1 row\\nkind= {‘quicksort’, ‘mergesort’, ‘heapsort’, ‘stable’}\\nBy default quickort\\n'"
      ]
     },
     "execution_count": 1,
     "metadata": {},
     "output_type": "execute_result"
    }
   ],
   "source": [
    "\"\"\"Theroy :\n",
    "np.sort(arr,axis=-1,kind=None,order=None,stable=None)\n",
    "\n",
    "\n",
    "Return the copy of Numpy array\n",
    "Works on NumPy arrays\n",
    "Supports multi-dimensional sorting with axis parameter\n",
    "Much faster for large arrays (uses quicksort, mergesort, etc.)\n",
    "Keeps the output as a NumPy array\"\"\"\n",
    "\n",
    "\n",
    "\"\"\"\n",
    "axis=0 column ,axis=1 row\n",
    "kind= {‘quicksort’, ‘mergesort’, ‘heapsort’, ‘stable’}\n",
    "By default quickort\n",
    "\"\"\""
   ]
  },
  {
   "cell_type": "code",
   "execution_count": 2,
   "id": "5f9df449",
   "metadata": {},
   "outputs": [
    {
     "name": "stdout",
     "output_type": "stream",
     "text": [
      "Numpy_Array : \n",
      " [72 66 34 29 87 75 38 68 36 85 74 76  7 74 20 57 17 42 36 62]\n",
      "Sorted ARray \n",
      "  [ 7 17 20 29 34 36 36 38 42 57 62 66 68 72 74 74 75 76 85 87]\n"
     ]
    }
   ],
   "source": [
    "import numpy as np\n",
    "n=np.random.randint(0,100,size=20)\n",
    "print(\"Numpy_Array : \\n\",n)\n",
    "\n",
    "sorted_form=np.sort(n)\n",
    "print(\"Sorted ARray \\n \",sorted_form)"
   ]
  },
  {
   "cell_type": "code",
   "execution_count": 3,
   "id": "571a6a0c",
   "metadata": {},
   "outputs": [
    {
     "name": "stdout",
     "output_type": "stream",
     "text": [
      "[[1 2 3]\n",
      " [4 5 6]]\n",
      "[[3 2 1]\n",
      " [6 5 4]]\n"
     ]
    },
    {
     "data": {
      "text/plain": [
       "array([[2, 1, 0],\n",
       "       [2, 1, 0]])"
      ]
     },
     "execution_count": 3,
     "metadata": {},
     "output_type": "execute_result"
    }
   ],
   "source": [
    "# 2D sort by row,columns\n",
    "a = np.array([[3, 2, 1], [6, 5, 4]])\n",
    "print(np.sort(a, axis=1))  # Row-wise sort\n",
    "print(np.sort(a, axis=0))  # Column-wise sort\n",
    "\n",
    "# we can also get indices: of sorted array \n",
    "np.argsort(a)\n"
   ]
  },
  {
   "cell_type": "code",
   "execution_count": 4,
   "id": "254543eb",
   "metadata": {},
   "outputs": [
    {
     "name": "stdout",
     "output_type": "stream",
     "text": [
      "[1, 2, 3]\n"
     ]
    }
   ],
   "source": [
    "\"\"\"sorted() - Python Built-in Function\n",
    "Works on any iterable (list, tuple, etc.)\n",
    "Can sort custom objects using the key parameter\n",
    "Returns a new list (not in-place)\n",
    "so if we use this on numpy array it returns the List....\"\"\"\n",
    "arr = [3, 1, 2]\n",
    "sorted_arr = sorted(arr)\n",
    "print(sorted_arr)  # Output: [1, 2, 3]\n"
   ]
  },
  {
   "cell_type": "code",
   "execution_count": 5,
   "id": "af91e411",
   "metadata": {},
   "outputs": [
    {
     "name": "stdout",
     "output_type": "stream",
     "text": [
      "[87 85 76 75 74 74 72 68 66 62 57 42 38 36 36 34 29 20 17  7]\n"
     ]
    }
   ],
   "source": [
    "# To Get the Reverse Sorted Array \n",
    "reverse_sorted=np.sort(n)[::-1]\n",
    "print(reverse_sorted)"
   ]
  },
  {
   "cell_type": "markdown",
   "id": "15205b07",
   "metadata": {},
   "source": [
    "------\n",
    "2. append()"
   ]
  },
  {
   "cell_type": "markdown",
   "id": "94161f97",
   "metadata": {},
   "source": [
    "The numpy.append() appends values along the mentioned axis at the end of the array\n",
    "\n",
    "https://numpy.org/doc/stable/reference/generated/numpy.append.html"
   ]
  },
  {
   "cell_type": "code",
   "execution_count": 6,
   "id": "b51fdfd3",
   "metadata": {},
   "outputs": [
    {
     "data": {
      "text/plain": [
       "'Theory\\nnp.append(arr, values, axis=None)\\n\\nnp.append() creates new array and returns it not change the original\\nAxis = none Flattens the array it means convert to 1d\\n\\nso if we want to ensure the size use axis=0 for rows and axis=1 for colums\\n'"
      ]
     },
     "execution_count": 6,
     "metadata": {},
     "output_type": "execute_result"
    }
   ],
   "source": [
    "\"\"\"Theory\n",
    "np.append(arr, values, axis=None)\n",
    " \n",
    "np.append() creates new array and returns it not change the original\n",
    "Axis = none Flattens the array it means convert to 1d\n",
    "\n",
    "so if we want to ensure the size use axis=0 for rows and axis=1 for colums\n",
    "\"\"\""
   ]
  },
  {
   "cell_type": "code",
   "execution_count": 7,
   "metadata": {},
   "outputs": [
    {
     "name": "stdout",
     "output_type": "stream",
     "text": [
      "[[1 2]\n",
      " [3 4]]\n",
      "[1 2 3 4 5 6]\n"
     ]
    }
   ],
   "source": [
    "import numpy as np\n",
    "\n",
    "a = np.array([[1, 2], [3, 4]])\n",
    "print(a)\n",
    "result = np.append(a, [5, 6])\n",
    "print(result)  # Output: [1 2 3 4 5 6]\n",
    "# axis=None (default) flattens the array before appending."
   ]
  },
  {
   "cell_type": "code",
   "execution_count": 8,
   "id": "9e16232b",
   "metadata": {},
   "outputs": [
    {
     "name": "stdout",
     "output_type": "stream",
     "text": [
      "[[1 2]\n",
      " [3 4]\n",
      " [5 6]]\n"
     ]
    }
   ],
   "source": [
    "#Append Along Axis\n",
    "# Append Rows (axis=0)\n",
    "\n",
    "a = np.array([[1, 2], [3, 4]])\n",
    "new_row = [[5, 6]]\n",
    "result = np.append(a, new_row, axis=0)\n",
    "print(result)"
   ]
  },
  {
   "cell_type": "code",
   "execution_count": 9,
   "id": "816f9887",
   "metadata": {},
   "outputs": [
    {
     "name": "stdout",
     "output_type": "stream",
     "text": [
      "[[1 2 5]\n",
      " [3 4 6]]\n"
     ]
    },
    {
     "data": {
      "text/plain": [
       "array([ 4,  6, 11])"
      ]
     },
     "execution_count": 9,
     "metadata": {},
     "output_type": "execute_result"
    }
   ],
   "source": [
    "#Append Columns (axis=1)\n",
    "a = np.array([[1, 2], [3, 4]])\n",
    "new_col = [[5],\n",
    "            [6]]\n",
    "result = np.append(a, new_col, axis=1)\n",
    "print(result)\n",
    "np.sum(result,axis=0)"
   ]
  },
  {
   "cell_type": "code",
   "execution_count": 10,
   "id": "9c2a0e9a",
   "metadata": {},
   "outputs": [
    {
     "data": {
      "text/plain": [
       "'Original Array (2x2):\\n\\n\\n[[1, 2],      ( Axis-1 →) →  across rows (add column)\\n [3, 4]]      ( Axis-0 ↓) ↓  down columns (add row)\\n\\nAppend along:\\n- axis=0 → add new row → shape changes in row count\\n- axis=1 → add new column → shape changes in column count\\n'"
      ]
     },
     "execution_count": 10,
     "metadata": {},
     "output_type": "execute_result"
    }
   ],
   "source": [
    "#Always ensure values are shaped correctly if you're using the axis parameter.\n",
    "\"\"\"Original Array (2x2):\n",
    "\n",
    "        \n",
    "[[1, 2],      ( Axis-1 →) →  across rows (add column)\n",
    " [3, 4]]      ( Axis-0 ↓) ↓  down columns (add row)\n",
    "\n",
    "Append along:\n",
    "- axis=0 → add new row → shape changes in row count\n",
    "- axis=1 → add new column → shape changes in column count\n",
    "\"\"\"\n",
    "# to add Row array should be of form row\n",
    "# [[1,2]] <- row\n",
    "# to add column array should be of form column\n",
    "# |column|\n",
    "# [[1],\n",
    "# [2]] \n"
   ]
  },
  {
   "cell_type": "markdown",
   "id": "381ebfbf",
   "metadata": {},
   "source": [
    "----------\n",
    "3. np.concatenate\n",
    "\n",
    "numpy.concatenate() function concatenate a sequence of arrays along an existing axis.\n",
    "\n",
    "https://numpy.org/doc/stable/reference/generated/numpy.concatenate.html"
   ]
  },
  {
   "cell_type": "code",
   "execution_count": 11,
   "id": "b515f73e",
   "metadata": {},
   "outputs": [
    {
     "data": {
      "text/plain": [
       "'Theory :\\nnp.concatenate((array1, array2, ...), axis=0)\\n\\nTakes a sequence (like a tuple or list) of arrays\\n\\naxis specifies how to concatenate\\n'"
      ]
     },
     "execution_count": 11,
     "metadata": {},
     "output_type": "execute_result"
    }
   ],
   "source": [
    "\"\"\"Theory :\n",
    "np.concatenate((array1, array2, ...), axis=0)\n",
    "\n",
    "Takes a sequence (like a tuple or list) of arrays\n",
    "\n",
    "axis specifies how to concatenate\n",
    "\"\"\"\n"
   ]
  },
  {
   "cell_type": "code",
   "execution_count": 12,
   "id": "97f5db0f",
   "metadata": {},
   "outputs": [
    {
     "data": {
      "text/plain": [
       "array([1, 2, 3, 4])"
      ]
     },
     "execution_count": 12,
     "metadata": {},
     "output_type": "execute_result"
    }
   ],
   "source": [
    "# Concatenating 1D Arrays\n",
    "import numpy as np\n",
    "\n",
    "a = np.array([1, 2])\n",
    "b = np.array([3, 4])\n",
    "\n",
    "np.concatenate((a, b))\n",
    "# Output: [1 2 3 4]\n"
   ]
  },
  {
   "cell_type": "code",
   "execution_count": 13,
   "id": "92401b68",
   "metadata": {},
   "outputs": [
    {
     "name": "stdout",
     "output_type": "stream",
     "text": [
      "FIrst Row Merged \n",
      " [[1 2]\n",
      " [3 4]\n",
      " [5 6]]\n",
      "Final Column Merged\n",
      " [[1 2 7]\n",
      " [3 4 8]\n",
      " [5 6 9]]\n"
     ]
    },
    {
     "data": {
      "text/plain": [
       "array([[1, 2, 7],\n",
       "       [3, 4, 8],\n",
       "       [5, 6, 9]])"
      ]
     },
     "execution_count": 13,
     "metadata": {},
     "output_type": "execute_result"
    }
   ],
   "source": [
    "#Concatenating 2D Arrays (Rows or Columns)\n",
    "a = np.array([[1, 2],\n",
    "              [3, 4]])\n",
    "\n",
    "b = np.array([[5, 6]])\n",
    "\n",
    "# Concatenate along rows (axis=0) (new row)\n",
    "Merged=np.concatenate((a, b), axis=0)\n",
    "print(\"FIrst Row Merged \\n\",Merged)\n",
    "\n",
    "# Concatenate along columns (axis=1) (new columns)\n",
    "c = np.array([[7],\n",
    "              [8],\n",
    "              [9]])\n",
    "\n",
    "\n",
    "Final_Merged=np.concatenate((Merged, c), axis=1)\n",
    "print(\"Final Column Merged\\n\",Final_Merged)\n",
    "\n",
    "# final version in single \n",
    "np.concatenate((np.concatenate((a, b)),c),axis=1)"
   ]
  },
  {
   "cell_type": "markdown",
   "id": "87ccef6b",
   "metadata": {},
   "source": [
    "### Mini CHallenge "
   ]
  },
  {
   "cell_type": "code",
   "execution_count": 14,
   "id": "8af9cc67",
   "metadata": {},
   "outputs": [
    {
     "data": {
      "text/plain": [
       "\"\\nUse np.concatenate() to:\\n\\n1....Stack b below a → (add as a new row)\\n\\n2.....Stack b beside a → (add as a new column, you'll need to reshape)\""
      ]
     },
     "execution_count": 14,
     "metadata": {},
     "output_type": "execute_result"
    }
   ],
   "source": [
    "\"\"\"Challenge 1: Concatenation Practice\"\"\"\n",
    "a = np.array([[1, 2], [3, 4]])\n",
    "b = np.array([[5, 6]])\n",
    "\"\"\"\n",
    "Use np.concatenate() to:\n",
    "\n",
    "1....Stack b below a → (add as a new row)\n",
    "\n",
    "2.....Stack b beside a → (add as a new column, you'll need to reshape)\"\"\""
   ]
  },
  {
   "cell_type": "code",
   "execution_count": 15,
   "id": "a5b5b468",
   "metadata": {},
   "outputs": [
    {
     "name": "stdout",
     "output_type": "stream",
     "text": [
      "1\n",
      " [[1 2]\n",
      " [3 4]\n",
      " [5 6]]\n",
      "2\n",
      " [[1 2 5]\n",
      " [3 4 6]]\n"
     ]
    }
   ],
   "source": [
    "#1\n",
    "result=np.concatenate((a,b),axis=0)\n",
    "print(\"1\\n\",result)\n",
    "#2 \n",
    "# change b to match the column size of a\n",
    "b=np.array([[5],\n",
    "             [6]])\n",
    "result=np.concatenate((a,b),axis=1)\n",
    "print(\"2\\n\",result)"
   ]
  },
  {
   "cell_type": "code",
   "execution_count": 16,
   "id": "2f75b831",
   "metadata": {},
   "outputs": [
    {
     "data": {
      "text/plain": [
       "'\\nUse np.append() to:\\n\\nAdd the numbers [40, 50]\\n\\nTry it with axis=0 — does it work?\\n\\nTry it with axis=1 — what happens?'"
      ]
     },
     "execution_count": 16,
     "metadata": {},
     "output_type": "execute_result"
    }
   ],
   "source": [
    "\"\"\"Challenge 2: Append Practice\"\"\"\n",
    "c = np.array([[10, 20, 30]])\n",
    "\"\"\"\n",
    "Use np.append() to:\n",
    "\n",
    "Add the numbers [40, 50]\n",
    "\n",
    "Try it with axis=0 — does it work?\n",
    "\n",
    "Try it with axis=1 — what happens?\"\"\""
   ]
  },
  {
   "cell_type": "code",
   "execution_count": 17,
   "id": "b2b6c6de",
   "metadata": {},
   "outputs": [
    {
     "name": "stdout",
     "output_type": "stream",
     "text": [
      "[10 20 30 40 50]\n",
      "[[10 20 30]\n",
      " [40 50 60]]\n",
      "[[10 20 30 50 60]]\n"
     ]
    }
   ],
   "source": [
    "#1 \n",
    "flattend=np.append(c,[40,50])\n",
    "print(flattend)\n",
    "\n",
    "#2 No it does not work because the row size is column size is not same original\n",
    "# flattend=np.append(c,[40,50],axis=0)\n",
    "# Error\n",
    "New_format=np.append(c,[[40,50,60]],axis=0)\n",
    "print(New_format)\n",
    "\n",
    "# 3\n",
    "column=np.append(c,[[50,60]],axis=1)\n",
    "print(column)"
   ]
  },
  {
   "cell_type": "code",
   "execution_count": 18,
   "id": "67e8bf7e",
   "metadata": {},
   "outputs": [
    {
     "name": "stdout",
     "output_type": "stream",
     "text": [
      "[[0 1 2]\n",
      " [3 4 5]]\n",
      "[[ 6  7  8]\n",
      " [ 9 10 11]]\n"
     ]
    }
   ],
   "source": [
    "\"\"\"Challenge 3\n",
    "1. row concatenation\n",
    "2. column concatenation\"\"\"\n",
    "# code\n",
    "c = np.arange(6).reshape(2,3)\n",
    "d = np.arange(6,12).reshape(2,3)\n",
    "\n",
    "print(c)\n",
    "print(d)"
   ]
  },
  {
   "cell_type": "code",
   "execution_count": 19,
   "id": "f87eda9d",
   "metadata": {},
   "outputs": [
    {
     "data": {
      "text/plain": [
       "array([[ 0,  1,  2],\n",
       "       [ 3,  4,  5],\n",
       "       [ 6,  7,  8],\n",
       "       [ 9, 10, 11]])"
      ]
     },
     "execution_count": 19,
     "metadata": {},
     "output_type": "execute_result"
    }
   ],
   "source": [
    "np.concatenate((c,d))\n",
    "np.concatenate((c,d),axis=0)\n",
    "#Both works\n"
   ]
  },
  {
   "cell_type": "code",
   "execution_count": 20,
   "id": "9508cb6a",
   "metadata": {},
   "outputs": [
    {
     "data": {
      "text/plain": [
       "array([[ 0,  1,  2,  6,  7,  8],\n",
       "       [ 3,  4,  5,  9, 10, 11]])"
      ]
     },
     "execution_count": 20,
     "metadata": {},
     "output_type": "execute_result"
    }
   ],
   "source": [
    "np.concatenate((c,d),axis=1)"
   ]
  },
  {
   "cell_type": "markdown",
   "id": "a70a502e",
   "metadata": {},
   "source": [
    "### 4. np.unique()"
   ]
  },
  {
   "cell_type": "code",
   "execution_count": 21,
   "id": "0412416f",
   "metadata": {},
   "outputs": [
    {
     "data": {
      "text/plain": [
       "'unique,counts=np.unique(arr,return_counts=True) \\nfinds all unique (non-repeating) values in the array \\n— but only one copy of each.\\nfor example;\\n\\n[1, 2, 2, 3, 4, 2, 5, 3, 3, 3]\\nit, return only \\nunique = [1, 2, 3, 4, 5]\\nif :\\nreturn_counts=True\\ntells NumPy to also return how many times each unique value appears.\\ncounts=[1, 3, 4, 1, 1]\\n\\n\\n# so to get the COmmon Element we can find the most common  from the Counts ( index=np.argmax(counts)) ,\\nit give us maximum count index and then we simply find the index \\narr[index]\\n'"
      ]
     },
     "execution_count": 21,
     "metadata": {},
     "output_type": "execute_result"
    }
   ],
   "source": [
    "\"\"\"unique,counts=np.unique(arr,return_counts=True) \n",
    "finds all unique (non-repeating) values in the array \n",
    "— but only one copy of each.\n",
    "for example;\n",
    "\n",
    "[1, 2, 2, 3, 4, 2, 5, 3, 3, 3]\n",
    "it, return only \n",
    "unique = [1, 2, 3, 4, 5]\n",
    "if :\n",
    "return_counts=True\n",
    "tells NumPy to also return how many times each unique value appears.\n",
    "counts=[1, 3, 4, 1, 1]\n",
    "\n",
    "\n",
    "# so to get the COmmon Element we can find the most common  from the Counts ( index=np.argmax(counts)) ,\n",
    "it give us maximum count index and then we simply find the index \n",
    "arr[index]\n",
    "\"\"\""
   ]
  },
  {
   "cell_type": "code",
   "execution_count": 22,
   "id": "b9bfbefe",
   "metadata": {},
   "outputs": [
    {
     "data": {
      "text/plain": [
       "array([1, 2, 3, 4, 5])"
      ]
     },
     "execution_count": 22,
     "metadata": {},
     "output_type": "execute_result"
    }
   ],
   "source": [
    "a=np.array([1, 2, 2, 3, 4, 2, 5, 3, 3, 3])\n",
    "np.unique(a)  #only unique"
   ]
  },
  {
   "cell_type": "markdown",
   "id": "7a54d5b0",
   "metadata": {},
   "source": [
    "### 5.np.expand_dims\n",
    "\n",
    "With the help of Numpy.expand_dims() method, we can get the expanded dimensions of an array\n",
    "\n",
    "https://numpy.org/doc/stable/reference/generated/numpy.expand_dims.html"
   ]
  },
  {
   "cell_type": "code",
   "execution_count": 23,
   "id": "0c1fd728",
   "metadata": {},
   "outputs": [
    {
     "data": {
      "text/plain": [
       "'Theory \\nnp.expand_dims(array,axis) - Add a New Axis (new Dimension)\\n\\nAdds a new axis (dimension) at the specified axis position.\\nIt does not change the data, just reshapes the array.\\n '"
      ]
     },
     "execution_count": 23,
     "metadata": {},
     "output_type": "execute_result"
    }
   ],
   "source": [
    "\"\"\"Theory \n",
    "np.expand_dims(array,axis) - Add a New Axis (new Dimension)\n",
    "\n",
    "Adds a new axis (dimension) at the specified axis position.\n",
    "It does not change the data, just reshapes the array.\n",
    " \"\"\"\n",
    "\n",
    "#used to create the row vector and column vector\n"
   ]
  },
  {
   "cell_type": "code",
   "execution_count": 24,
   "id": "e2b20a43",
   "metadata": {},
   "outputs": [
    {
     "name": "stdout",
     "output_type": "stream",
     "text": [
      "(15,)\n",
      "[ 0  1  2  3  4  5  6  7  8  9 10 11 12 13 14]\n"
     ]
    }
   ],
   "source": [
    "arr=np.arange(15)\n",
    "print(arr.shape)\n",
    "print(arr)"
   ]
  },
  {
   "cell_type": "code",
   "execution_count": 25,
   "id": "32f43c97",
   "metadata": {},
   "outputs": [
    {
     "name": "stdout",
     "output_type": "stream",
     "text": [
      "(1, 15)\n",
      "[[ 0  1  2  3  4  5  6  7  8  9 10 11 12 13 14]]\n"
     ]
    }
   ],
   "source": [
    "#row matrix\n",
    "row_matrix=np.expand_dims(arr,axis=0)\n",
    "print(row_matrix.shape)\n",
    "print(row_matrix)"
   ]
  },
  {
   "cell_type": "code",
   "execution_count": 26,
   "id": "337deaac",
   "metadata": {},
   "outputs": [
    {
     "name": "stdout",
     "output_type": "stream",
     "text": [
      "15\n",
      "[[ 0]\n",
      " [ 1]\n",
      " [ 2]\n",
      " [ 3]\n",
      " [ 4]\n",
      " [ 5]\n",
      " [ 6]\n",
      " [ 7]\n",
      " [ 8]\n",
      " [ 9]\n",
      " [10]\n",
      " [11]\n",
      " [12]\n",
      " [13]\n",
      " [14]]\n"
     ]
    }
   ],
   "source": [
    "#column Matrix \n",
    "column_matrix=np.expand_dims(arr,axis=1)\n",
    "print(column_matrix.size)\n",
    "print(column_matrix)\n"
   ]
  },
  {
   "cell_type": "markdown",
   "id": "f2b299ef",
   "metadata": {},
   "source": [
    "### 6.np.where()\n",
    "\n",
    "The numpy.where() function returns the indices of elements in an input array where the given condition is satisfied.\n",
    "\n",
    "https://numpy.org/doc/stable/reference/generated/numpy.where.html"
   ]
  },
  {
   "cell_type": "code",
   "execution_count": 27,
   "id": "172d613e",
   "metadata": {},
   "outputs": [
    {
     "name": "stdout",
     "output_type": "stream",
     "text": [
      "[  0.  25.  50.  75. 100.]\n",
      "(array([3, 4]),)\n"
     ]
    }
   ],
   "source": [
    "\"\"\"Using np.where( Given Condition )\"\"\"\n",
    "# used to Fetch THe Given Condition satifies ELement Index\n",
    "a=np.linspace(0,100,5)\n",
    "print(a)\n",
    "index_=np.where(a>50)\n",
    "print(index_)"
   ]
  },
  {
   "cell_type": "code",
   "execution_count": 28,
   "id": "7e87698b",
   "metadata": {},
   "outputs": [
    {
     "name": "stdout",
     "output_type": "stream",
     "text": [
      "[  0.  25.  50.  75. 100.]\n",
      "[ 0. 25. 50.  0.  0.]\n"
     ]
    }
   ],
   "source": [
    "\"\"\"used to Replace Elements with any Integer\n",
    "\n",
    "Using np.where( Condition(values to replace),COndition True ,Condition False ( for same use array name))\n",
    "\n",
    "return the new array with changed values\n",
    "\"\"\" \n",
    "print(a)\n",
    "# change the a>50 ELements to 0 other wise remains same\n",
    "b=np.where(a>50,0,a)\n",
    "print(b)\n"
   ]
  },
  {
   "cell_type": "code",
   "execution_count": 29,
   "id": "b590b981",
   "metadata": {},
   "outputs": [
    {
     "name": "stdout",
     "output_type": "stream",
     "text": [
      "[  0.  25.  50.  75. 100.]\n",
      "[  0.   0.   0. 250. 250.]\n"
     ]
    }
   ],
   "source": [
    "# change the a>50 with sum of a and otherwise with 0\n",
    "print(a)\n",
    "c=np.where(a>50,np.sum(a),0)\n",
    "print(c)"
   ]
  },
  {
   "cell_type": "code",
   "execution_count": 30,
   "id": "c4ea29f2",
   "metadata": {},
   "outputs": [
    {
     "name": "stdout",
     "output_type": "stream",
     "text": [
      "[nan 25. nan 75. nan]\n"
     ]
    }
   ],
   "source": [
    "# Even Numbers with nan \n",
    "d=np.where(a%2==0,np.nan,a)\n",
    "print(d)"
   ]
  },
  {
   "cell_type": "markdown",
   "id": "baa67984",
   "metadata": {},
   "source": [
    "### 7. np.argmax\n",
    "\n",
    "The numpy.argmax() function returns indices of the max element of the array in a particular axis.\n",
    "\n",
    "https://numpy.org/doc/stable/reference/generated/numpy.argmax.html"
   ]
  },
  {
   "cell_type": "code",
   "execution_count": 31,
   "id": "3baf2e0f",
   "metadata": {},
   "outputs": [
    {
     "name": "stdout",
     "output_type": "stream",
     "text": [
      "[ 1 24 59 40  9 35 36 20 51 30]\n",
      "59\n"
     ]
    }
   ],
   "source": [
    "a=np.random.randint(1,100,10)\n",
    "print(a)\n",
    "print(a[np.argmax(a)])"
   ]
  },
  {
   "cell_type": "code",
   "execution_count": 70,
   "id": "f0c8196d",
   "metadata": {},
   "outputs": [
    {
     "name": "stdout",
     "output_type": "stream",
     "text": [
      "[[68 54 75 70  8 90]\n",
      " [10 92 36 23 90 46]\n",
      " [36 24 54 36 95 55]\n",
      " [32 56 46 34 43 59]\n",
      " [27 20 56 57 40 35]\n",
      " [54 99 23 92 29 91]]\n",
      "Flat index: 31\n",
      "[5 1 4 5 3 1]\n",
      "[0 5 0 5 2 5]\n"
     ]
    }
   ],
   "source": [
    "#in 2D\n",
    "np.random.seed(67)\n",
    "b=np.random.randint(1,100,size=(6,6))\n",
    "print(b)\n",
    "#in whole array\n",
    "\n",
    "# Step 1: Get the index of the max value (flattened)\n",
    "idx = np.argmax(b)\n",
    "print(\"Flat index:\", idx)  \n",
    "\n",
    "#in rows\n",
    "print(np.argmax(b,axis=1))\n",
    "# in columns\n",
    "print(np.argmax(b,axis=0))\n"
   ]
  },
  {
   "cell_type": "code",
   "execution_count": 74,
   "id": "34ed30f6",
   "metadata": {},
   "outputs": [
    {
     "name": "stdout",
     "output_type": "stream",
     "text": [
      "Flat index: 31\n",
      "Position: 5 1\n",
      "Max value: 99\n",
      "Indexes from row max [5 1 4 5 3 1]\n",
      "Max value: [90 92 95 59 57 99]\n",
      "Indexes from column max [0 5 0 5 2 5]\n",
      "Max value: [68 99 75 92 95 91]\n"
     ]
    }
   ],
   "source": [
    "# TO PRINT THOSE VALUES USE no.unravel_index(index,arr.shape)\n",
    "\n",
    "# only Highest\n",
    "# Step 1: Get the index of the max value (flattened)\n",
    "idx = np.argmax(b)\n",
    "print(\"Flat index:\", idx)  \n",
    "# Step 2: Convert flat index to row/col using unravel_index\n",
    "row, col = np.unravel_index(idx, b.shape)\n",
    "print(\"Position:\", row, col)  \n",
    "\n",
    "# Step 3: Access the actual value\n",
    "print(\"Max value:\", b[row, col]) \n",
    "\n",
    "# from Rows\n",
    "# Step 1: Get the index of the max value from each row\n",
    "#This finds the column index of the max value in each row.\n",
    "# because we are using the axis=1\n",
    "columns=np.argmax(b,axis=1)\n",
    "print(\"Indexes from row max\",columns)\n",
    "# Step 2: we get our columns already we just now need of rows\n",
    "# to get rows , we know if (6,6) shape of array the rows=6 from 0 to 5\n",
    "# so just create the array of rows with arange from (0 to rows of array (b.shape[0]))\n",
    "rows=np.arange(b.shape[0])\n",
    "\n",
    "# Step 3: Access the actual value\n",
    "print(\"Max value:\", b[rows, columns]) \n",
    "\n",
    "\n",
    "\n",
    "# from columns\n",
    "# Step 1: Get the index of the max value from each column\n",
    "#This finds the rows index of the max value in each row.\n",
    "# because we are using the axis=0\n",
    "rows=np.argmax(b,axis=0)\n",
    "print(\"Indexes from column max\",rows)\n",
    "# Step 2: we get our Rows already we just now need of columns\n",
    "# to get columns , we know if (6,6) shape of array the columns=6 from 0 to 5\n",
    "# so just create the array of columns with arange from (0 to columns of array (b.shape[1]))\n",
    "columns=np.arange(b.shape[1])\n",
    "\n",
    "# Step 3: Access the actual value\n",
    "print(\"Max value:\", b[rows, columns]) \n",
    "\n"
   ]
  },
  {
   "cell_type": "markdown",
   "id": "69307e65",
   "metadata": {},
   "source": [
    "### 8. np.argmin()"
   ]
  },
  {
   "cell_type": "code",
   "execution_count": 75,
   "id": "6ffab40d",
   "metadata": {},
   "outputs": [
    {
     "name": "stdout",
     "output_type": "stream",
     "text": [
      "3\n",
      "2\n"
     ]
    }
   ],
   "source": [
    "import numpy as np\n",
    "\n",
    "arr = np.array([10, 5, 30, 2])\n",
    "idx = np.argmin(arr)\n",
    "print(idx)         # Output: 3\n",
    "print(arr[idx])    # Output: 2\n"
   ]
  },
  {
   "cell_type": "markdown",
   "id": "032c2b29",
   "metadata": {},
   "source": [
    "### 9. np.abs(arr)"
   ]
  },
  {
   "cell_type": "code",
   "execution_count": 33,
   "id": "139834af",
   "metadata": {},
   "outputs": [
    {
     "data": {
      "text/plain": [
       "array([ 1,  3,  1, 22,  3,  7,  9])"
      ]
     },
     "execution_count": 33,
     "metadata": {},
     "output_type": "execute_result"
    }
   ],
   "source": [
    "#np.abs(arraay) to find the all values distance from 0\n",
    "n=np.array([1,-3,1,22,3,-7,-9])\n",
    "np.abs(n)"
   ]
  },
  {
   "cell_type": "markdown",
   "id": "1df50a8a",
   "metadata": {},
   "source": [
    "### 10. Cummulative Maths:\n",
    "\n",
    "__Cumulative means:__\n",
    "\n",
    "__You keep adding (or applying some operation) to the previous total as you move through the array.__"
   ]
  },
  {
   "cell_type": "code",
   "execution_count": null,
   "id": "913ade18",
   "metadata": {},
   "outputs": [],
   "source": [
    "\"\"\" Common NumPy Cumulative Functions\n",
    "\n",
    "1.np.cumsum()   \tCumulative sum\t\n",
    "2.np.cumprod()\t    Cumulative product\t\n",
    "3.np.cummax()\t    Cumulative maximum value\t\n",
    "4.np.cummin()\t    Cumulative minimum value\t\"\"\""
   ]
  },
  {
   "cell_type": "code",
   "execution_count": 76,
   "id": "4e30767d",
   "metadata": {},
   "outputs": [
    {
     "name": "stdout",
     "output_type": "stream",
     "text": [
      "Cumulative Sum: [10 30 35 50]\n",
      "Cumulative Product: [   10   200  1000 15000]\n",
      "Cumulative Max: [10 20 20 20]\n",
      "Cumulative Min: [10 10  5  5]\n"
     ]
    }
   ],
   "source": [
    "import numpy as np\n",
    "\n",
    "a = np.array([10, 20, 5, 15])\n",
    "\n",
    "print(\"Cumulative Sum:\", np.cumsum(a))      # [10 30 35 50]\n",
    "print(\"Cumulative Product:\", np.cumprod(a)) # [10 200 1000 15000]\n",
    "\n",
    "# Cumulative min/max using ufuncs\n",
    "print(\"Cumulative Max:\", np.maximum.accumulate(a))  # [10 20 20 20]\n",
    "print(\"Cumulative Min:\", np.minimum.accumulate(a))  # [10 10 5 5]\n"
   ]
  },
  {
   "cell_type": "code",
   "execution_count": null,
   "id": "19bb322b",
   "metadata": {},
   "outputs": [
    {
     "name": "stdout",
     "output_type": "stream",
     "text": [
      "[[1 2]\n",
      " [4 6]]\n",
      "[[1 3]\n",
      " [3 7]]\n"
     ]
    }
   ],
   "source": [
    "a = np.array([[1, 2],\n",
    "              [3, 4]])\n",
    "\n",
    "# Cumulative sum along rows\n",
    "print(np.cumsum(a, axis=0))\n",
    "# Output:\n",
    "# [[1 2]\n",
    "#  [4 6]]\n",
    "\n",
    "# Cumulative sum along columns\n",
    "print(np.cumsum(a, axis=1))\n",
    "# Output:\n",
    "# [[1 3]\n",
    "#  [3 7]]\n"
   ]
  },
  {
   "cell_type": "code",
   "execution_count": null,
   "id": "f6e1866b",
   "metadata": {},
   "outputs": [],
   "source": [
    "\"\"\"Summary of Concepts\n",
    "Cumulative: keeps building on previous results\n",
    "\n",
    "Use np.cumsum() or np.cumprod() for running totals or multiplications\n",
    "\n",
    "For max/min: use np.maximum.accumulate() or np.minimum.accumulate()\n",
    "\n",
    "Use axis to apply it row-wise or column-wise\"\"\""
   ]
  },
  {
   "cell_type": "markdown",
   "id": "57be08ba",
   "metadata": {},
   "source": [
    "### 11. np.percentile\n",
    "\n",
    "numpy.percentile()function used to compute the nth percentile of the given data (array elements) along the specified axis.\n",
    "\n",
    "https://numpy.org/doc/stable/reference/generated/numpy.percentile.html"
   ]
  },
  {
   "cell_type": "code",
   "execution_count": null,
   "id": "058f7b06",
   "metadata": {},
   "outputs": [],
   "source": [
    "\"\"\"\n",
    "np.percentile() tells you the value below which a given percentage of data falls.\n",
    "50th percentile → the median\n",
    "\n",
    "25th percentile → first quartile (Q1)\n",
    "\n",
    "75th percentile → third quartile (Q3)\n",
    "\n",
    "100th percentile → max value\"\"\""
   ]
  },
  {
   "cell_type": "code",
   "execution_count": null,
   "id": "c4295967",
   "metadata": {},
   "outputs": [],
   "source": [
    "\"\"\"\n",
    "np.percentile(array, q, axis=None)\n",
    "\n",
    "array- \tYour data\n",
    "q -\tPercentile(s) to compute (0-100)\n",
    "axis\t- Axis to compute over (optional)\"\"\""
   ]
  },
  {
   "cell_type": "code",
   "execution_count": 84,
   "id": "4517b880",
   "metadata": {},
   "outputs": [
    {
     "name": "stdout",
     "output_type": "stream",
     "text": [
      "30.0\n",
      "50.0\n",
      "20.0\n"
     ]
    }
   ],
   "source": [
    "import numpy as np\n",
    "\n",
    "data = np.array([10, 20, 30, 40, 50])\n",
    "\n",
    "# Get the 50th percentile (median)\n",
    "print(np.percentile(data, 50))  # Output: 30.0\n",
    "print(np.percentile(data, 100))  # Output: 50.0\n",
    "print(np.percentile(data, 25))  # Output: 20.0\n"
   ]
  },
  {
   "cell_type": "markdown",
   "id": "7eb7a3c0",
   "metadata": {},
   "source": []
  },
  {
   "cell_type": "markdown",
   "id": "d19d7b1c",
   "metadata": {},
   "source": [
    "### 12 np.histogram\n",
    "\n",
    "Numpy has a built-in numpy.histogram() function which represents the frequency of data distribution in the graphical form.\n",
    "\n",
    "https://numpy.org/doc/stable/reference/generated/numpy.histogram.html"
   ]
  },
  {
   "cell_type": "code",
   "execution_count": null,
   "id": "c7ad346d",
   "metadata": {},
   "outputs": [
    {
     "name": "stdout",
     "output_type": "stream",
     "text": [
      "Counts: [3 1 2 0 1 0 2 0 0 1]\n",
      "Bin edges: [ 2.  10.8 19.6 28.4 37.2 46.  54.8 63.6 72.4 81.2 90. ]\n",
      "Counts: [2 2 2 0 1 1 1 0 0 1]\n",
      "Bin edges: [  0  10  20  30  40  50  60  70  80  90 100]\n"
     ]
    }
   ],
   "source": [
    "\"\"\"Theroy \n",
    "It counts how many values fall into equal-sized intervals (called bins) across a range.\n",
    "\"\"\"\n",
    "import numpy as np\n",
    "\n",
    "data = np.array([40, 2, 25, 21, 3, 60, 90, 56, 13, 10])\n",
    "\n",
    "# automatic Bins size \n",
    "counts, bins = np.histogram(data, bins=10)\n",
    "print(\"Counts:\", counts)\n",
    "print(\"Bin edges:\", bins)\n",
    "\n",
    "# own bins size\n",
    "counts, bins = np.histogram(data, bins=[0,10,20,30,40,50,60,70,80,90,100])\n",
    "print(\"Counts:\", counts)\n",
    "print(\"Bin edges:\", bins)\n",
    "\n"
   ]
  },
  {
   "cell_type": "code",
   "execution_count": null,
   "id": "3aba4636",
   "metadata": {},
   "outputs": [
    {
     "data": {
      "text/plain": [
       "(array([3., 1., 2., 0., 1., 0., 2., 0., 0., 1.]),\n",
       " array([ 2. , 10.8, 19.6, 28.4, 37.2, 46. , 54.8, 63.6, 72.4, 81.2, 90. ]),\n",
       " <BarContainer object of 10 artists>)"
      ]
     },
     "execution_count": 5,
     "metadata": {},
     "output_type": "execute_result"
    },
    {
     "data": {
      "image/png": "[encoded data removed]",
      "text/plain": [
       "<Figure size 640x480 with 1 Axes>"
      ]
     },
     "metadata": {},
     "output_type": "display_data"
    }
   ],
   "source": [
    "# its histogram graph \n",
    "import matplotlib.pyplot as plt\n",
    "plt.hist(data,bins=10)\n"
   ]
  },
  {
   "cell_type": "markdown",
   "id": "698089ac",
   "metadata": {},
   "source": [
    "### 13. np.corrcoef\n",
    "\n",
    "Return Pearson product-moment correlation coefficients.\n",
    "\n",
    "https://numpy.org/doc/stable/reference/generated/numpy.corrcoef.html"
   ]
  },
  {
   "cell_type": "code",
   "execution_count": null,
   "id": "bd66efee",
   "metadata": {},
   "outputs": [],
   "source": [
    "\"\"\"\n",
    "What Is the Correlation Coefficient?\n",
    "A value between -1 and 1:\n",
    "\n",
    "+1 → perfect positive correlation (both go up)\n",
    "\n",
    "-1 → perfect negative correlation (one goes up, the other down)\n",
    "\n",
    "0 → no linear correlation\"\"\""
   ]
  },
  {
   "cell_type": "code",
   "execution_count": null,
   "id": "c8146255",
   "metadata": {},
   "outputs": [
    {
     "data": {
      "text/plain": [
       "''"
      ]
     },
     "execution_count": 7,
     "metadata": {},
     "output_type": "execute_result"
    }
   ],
   "source": [
    "\"\"\"Theory\n",
    "np.corrcoef() - Pearson Correlation Coefficient\n",
    "It computes the correlation matrix showing how strongly variables are linearly related.\n",
    "\n",
    "Syntax:\n",
    "np.corrcoef(x, y=None, rowvar=True)\n",
    "x\t1D or 2D array\n",
    "y\tOptional second array\n",
    "rowvar\tIf True (default), each row is a variable\n",
    "Returns\tCorrelation coefficient matrix (2D square array)\n",
    "\"\"\""
   ]
  },
  {
   "cell_type": "code",
   "execution_count": 13,
   "id": "8e2db584",
   "metadata": {},
   "outputs": [
    {
     "name": "stdout",
     "output_type": "stream",
     "text": [
      "[[1.         0.17006327]\n",
      " [0.17006327 1.        ]]\n"
     ]
    },
    {
     "data": {
      "text/plain": [
       "np.float64(0.1700632730721078)"
      ]
     },
     "execution_count": 13,
     "metadata": {},
     "output_type": "execute_result"
    }
   ],
   "source": [
    "# 1 D arrays\n",
    "import numpy as np\n",
    "\n",
    "x = np.array([1, 2, 3, 4])\n",
    "y = np.array([50, 20, 87, 40])\n",
    "\n",
    "corr_matrix = np.corrcoef(x, y)\n",
    "print(corr_matrix)\n",
    "\n",
    "\n",
    "\"\"\"  \n",
    "x->[[1.         0.17006327]\n",
    "y-> [0.17006327 1.        ]]\n",
    "x has perfect correlation with itself → 1\n",
    "\n",
    "x has  correlation with y → 0.17 \n",
    "\n",
    "y has correaltion with x-> 0.17 \n",
    "\n",
    "y has perfect correaltion with itself 1\"\"\"\n",
    "\n",
    "# just find the correlation among two arrays \n",
    "np.corrcoef(x,y)[0,1]"
   ]
  },
  {
   "cell_type": "code",
   "execution_count": 12,
   "id": "0d19f4f4",
   "metadata": {},
   "outputs": [
    {
     "name": "stdout",
     "output_type": "stream",
     "text": [
      "[[ 1.         -0.80295507 -1.        ]\n",
      " [-0.80295507  1.          0.80295507]\n",
      " [-1.          0.80295507  1.        ]]\n"
     ]
    }
   ],
   "source": [
    "# 2 D \n",
    "data = np.array([\n",
    "    [1, 2, 3],   # Variable A\n",
    "    [100, 20, 30],  # Variable B\n",
    "    [3, 2, 1]    # Variable C (negatively correlated with A)\n",
    "])\n",
    "\n",
    "corr = np.corrcoef(data)\n",
    "print(corr)\n",
    "\n",
    "#By default (rowvar=True), each row is a variable, each column is an observation.\n",
    "# each row is treated as variable so , we just find the correlation with each row "
   ]
  },
  {
   "cell_type": "markdown",
   "id": "2b1fbd58",
   "metadata": {},
   "source": []
  },
  {
   "cell_type": "markdown",
   "id": "01de1f58",
   "metadata": {},
   "source": [
    "### 14. np.isin\n",
    "\n",
    "With the help of numpy.isin() method, we can see that one array having values are checked in a different numpy array having different elements with different sizes.\n",
    "\n",
    "https://numpy.org/doc/stable/reference/generated/numpy.isin.html"
   ]
  },
  {
   "cell_type": "code",
   "execution_count": null,
   "id": "be46739d",
   "metadata": {},
   "outputs": [],
   "source": [
    "\"\"\"Theroy \n",
    " np.isin(), a super useful function for element-wise membership testing\n",
    " Test for Membership\n",
    "\n",
    "\n",
    " Syntax :\n",
    "\n",
    "np.isin(array, test_elements, assume_unique=False, invert=False)\n",
    "1.array\t            Array to check\n",
    "2.test_elements  \tValues you're testing against\n",
    "3.assume_unique\t    Speed boost if arrays are unique\n",
    "4.invert\tIf True,    checks for elements not in test_elements\"\"\""
   ]
  },
  {
   "cell_type": "code",
   "execution_count": 19,
   "id": "727d700c",
   "metadata": {},
   "outputs": [
    {
     "name": "stdout",
     "output_type": "stream",
     "text": [
      "[False  True False  True False]\n",
      "[2 4]\n"
     ]
    }
   ],
   "source": [
    "import numpy as np\n",
    "\n",
    "a = np.array([1, 2, 3, 4, 5])\n",
    "test = [2, 4,15]\n",
    "\n",
    "# provides the boolean mask of which elements exist in array or not\n",
    "result = np.isin(a, test)\n",
    "print(result)         # Output: [False  True False  True False]\n",
    "print(a[result])      # Output: [2 4] 15 not exist in array\n"
   ]
  },
  {
   "cell_type": "code",
   "execution_count": 20,
   "id": "0cbb12b1",
   "metadata": {},
   "outputs": [
    {
     "name": "stdout",
     "output_type": "stream",
     "text": [
      "[ True False  True False  True]\n",
      "[1 3 5]\n"
     ]
    }
   ],
   "source": [
    "# invert =false (by default) finds elements that are in Test list\n",
    "# invert =True   finds the elements that are not in test list\n",
    "# do the revese work , \n",
    "mask=np.isin(a, test, invert=True)\n",
    "print(mask)\n",
    "# Output: [ True False  True False  True]\n",
    "print(a[mask])"
   ]
  },
  {
   "cell_type": "markdown",
   "id": "d8c96679",
   "metadata": {},
   "source": [
    "### 15. np.flip\n",
    "\n",
    "The numpy.flip() function reverses the order of array elements along the specified axis, preserving the shape of the array.\n",
    "\n",
    "https://numpy.org/doc/stable/reference/generated/numpy.flip.html"
   ]
  },
  {
   "cell_type": "code",
   "execution_count": null,
   "id": "8dd2c2e6",
   "metadata": {},
   "outputs": [],
   "source": [
    "\"\"\"Theory \n",
    "used to reverse the order of elements in an array along a specified axis.\n",
    "\n",
    "Syntax:\n",
    "np.flip(array, axis=None)\n",
    "\n",
    "array\tThe input array\n",
    "axis\tAxis to flip along (default: all axes)\n",
    "\"\"\"\n"
   ]
  },
  {
   "cell_type": "code",
   "execution_count": 22,
   "id": "45bf4d39",
   "metadata": {},
   "outputs": [
    {
     "name": "stdout",
     "output_type": "stream",
     "text": [
      "[4 3 2 1]\n"
     ]
    }
   ],
   "source": [
    "#1d\n",
    "a = np.array([1, 2, 3, 4])\n",
    "flipped = np.flip(a)\n",
    "print(flipped)  \n"
   ]
  },
  {
   "cell_type": "code",
   "execution_count": 28,
   "id": "0d23c335",
   "metadata": {},
   "outputs": [
    {
     "name": "stdout",
     "output_type": "stream",
     "text": [
      "[[ 0  1  2  3]\n",
      " [ 4  5  6  7]\n",
      " [ 8  9 10 11]]\n",
      "[[11 10  9  8]\n",
      " [ 7  6  5  4]\n",
      " [ 3  2  1  0]]\n"
     ]
    }
   ],
   "source": [
    "#2d \n",
    "a = np.arange(12).reshape(3,4)\n",
    "print(a)\n",
    "flipped = np.flip(a)\n",
    "print(flipped)  "
   ]
  },
  {
   "cell_type": "code",
   "execution_count": 35,
   "id": "d030b34c",
   "metadata": {},
   "outputs": [
    {
     "name": "stdout",
     "output_type": "stream",
     "text": [
      "[[ 8  9 10 11]\n",
      " [ 4  5  6  7]\n",
      " [ 0  1  2  3]]\n",
      "[[ 3  2  1  0]\n",
      " [ 7  6  5  4]\n",
      " [11 10  9  8]]\n",
      "\n",
      "\n",
      "[[ 8  9 10 11]\n",
      " [ 4  5  6  7]\n",
      " [ 0  1  2  3]]\n",
      "[[ 3  2  1  0]\n",
      " [ 7  6  5  4]\n",
      " [11 10  9  8]]\n"
     ]
    }
   ],
   "source": [
    "\n",
    "# Flip rows (vertically)\n",
    "print(np.flip(a, axis=0))\n",
    "\n",
    "\n",
    "# Flip columns (horizontally)\n",
    "print(np.flip(a, axis=1))\n",
    "\n",
    "\"\"\"\n",
    "np.flip(a, axis=0) == np.flipud(a)\n",
    "np.flip(a, axis=1) == np.fliplr(a)\n",
    "\"\"\"\n",
    "print(\"\\n\")\n",
    "print(np.flipud(a))\n",
    "print(np.fliplr(a))"
   ]
  },
  {
   "cell_type": "markdown",
   "id": "d9d67d4c",
   "metadata": {},
   "source": [
    "### 16. np.put\n",
    "\n",
    "The numpy.put() function replaces specific elements of an array with given values of p_array. Array indexed works on flattened array.\n",
    "\n",
    "https://numpy.org/doc/stable/reference/generated/numpy.put.html"
   ]
  },
  {
   "cell_type": "code",
   "execution_count": null,
   "id": "ba6ffd99",
   "metadata": {},
   "outputs": [],
   "source": [
    "\"\"\"\n",
    "np.put() - Replace Elements by Index\n",
    "It directly places values into specified flat indices of an array.\n",
    "\n",
    "np.put(a, indices, values, mode='raise')\n",
    "a\tTarget array\n",
    "indices\tFlat indices (0D indexing, like from .flat)\n",
    "values\tValues to insert\n",
    "mode\tHow to handle out-of-bounds ('raise', 'wrap', 'clip')\"\"\""
   ]
  },
  {
   "cell_type": "code",
   "execution_count": null,
   "id": "967cbbac",
   "metadata": {},
   "outputs": [],
   "source": [
    "\n",
    "a = np.array([10, 20, 30, 40])\n",
    "np.put(a, [1, 3], [99, 77])\n",
    "print(a)  # [10 99 30 77]\n",
    "\n",
    "# permanent changes "
   ]
  },
  {
   "cell_type": "markdown",
   "id": "6c15ccd7",
   "metadata": {},
   "source": [
    "### 17. np.delete\n",
    "\n",
    "The numpy.delete() function returns a new array with the deletion of sub-arrays along with the mentioned axis.\n",
    "\n",
    "https://numpy.org/doc/stable/reference/generated/numpy.delete.html"
   ]
  },
  {
   "cell_type": "code",
   "execution_count": null,
   "id": "65328ba4",
   "metadata": {},
   "outputs": [],
   "source": [
    "\"\"\"\n",
    "Theroy\n",
    " np.delete() - Delete Elements\n",
    " \n",
    " Syntax :\n",
    "np.delete(arr, obj, axis=None)\n",
    "1.arr\tInput array\n",
    "2.obj\tIndex (or indices) of elements to delete\n",
    "3.axis\tAxis along which to delete\n",
    "4.Returns\tA new array (original is unchanged)\n",
    " \"\"\""
   ]
  },
  {
   "cell_type": "code",
   "execution_count": null,
   "id": "de19351d",
   "metadata": {},
   "outputs": [
    {
     "name": "stdout",
     "output_type": "stream",
     "text": [
      "[10 20 30]\n",
      "[]\n"
     ]
    }
   ],
   "source": [
    "# Delete the maximum ELement from the array\n",
    "a = np.array([10, 20, 30, 40])\n",
    "\n",
    "max=np.argmax(a)\n",
    "a = np.delete(a, max)  \n",
    "print(a)  \n",
    "\n",
    "\n",
    "# delete all the rest elements\n",
    "a=np.delete(a,[0,1,2])\n",
    "print(a)"
   ]
  },
  {
   "cell_type": "code",
   "execution_count": null,
   "id": "7878ebd4",
   "metadata": {},
   "outputs": [],
   "source": [
    "\"\"\"\n",
    "\n",
    "Delete                1D element\t    np.delete(arr, index)\n",
    "Delete                multiple items\tnp.delete(arr, [i1, i2])\n",
    "Delete                a row in 2D\t    np.delete(arr, row_index, axis=0)\n",
    "Delete                a column in 2D\tnp.delete(arr, col_index, axis=1)\n",
    "Delete                from flattened\tnp.delete(arr, index) with no axis\"\"\""
   ]
  },
  {
   "cell_type": "markdown",
   "id": "8f117108",
   "metadata": {},
   "source": [
    "### 18. Set functions\n",
    "\n",
    "- np.union1d\n",
    "- np.intersect1d\n",
    "- np.setdiff1d\n",
    "- np.setxor1d\n",
    "- np.in1d"
   ]
  },
  {
   "cell_type": "code",
   "execution_count": 41,
   "id": "f0f49279",
   "metadata": {},
   "outputs": [
    {
     "name": "stdout",
     "output_type": "stream",
     "text": [
      "[1 2 3 4 5]\n"
     ]
    }
   ],
   "source": [
    "\"\"\"1. np.union1d()\n",
    "Returns unique elements that appear in either array.\"\"\"\n",
    "import numpy as np\n",
    "\n",
    "a = [1, 2, 3]\n",
    "b = [3, 4, 5]\n",
    "\n",
    "print(np.union1d(a, b))  # [1 2 3 4 5]\n"
   ]
  },
  {
   "cell_type": "code",
   "execution_count": null,
   "id": "e666138a",
   "metadata": {},
   "outputs": [
    {
     "name": "stdout",
     "output_type": "stream",
     "text": [
      "[3]\n"
     ]
    }
   ],
   "source": [
    "\"\"\"2. np.intersect1d()\n",
    "Returns common elements in both arrays.\"\"\"\n",
    "print(np.intersect1d(a, b)) "
   ]
  },
  {
   "cell_type": "code",
   "execution_count": 43,
   "id": "91e78d2a",
   "metadata": {},
   "outputs": [
    {
     "name": "stdout",
     "output_type": "stream",
     "text": [
      "[1 2]\n"
     ]
    }
   ],
   "source": [
    "\"\"\"3. np.setdiff1d()\n",
    "Returns elements in a that are not in b.\"\"\"\n",
    "print(np.setdiff1d(a,b))"
   ]
  },
  {
   "cell_type": "code",
   "execution_count": 45,
   "id": "1d3ce376",
   "metadata": {},
   "outputs": [
    {
     "name": "stdout",
     "output_type": "stream",
     "text": [
      "[1 2 4 5]\n"
     ]
    }
   ],
   "source": [
    "\"\"\"4. np.setxor1d()\n",
    "Returns elements that are in either array, but not both (XOR).\"\"\"\n",
    "print(np.setxor1d(a,b))"
   ]
  },
  {
   "cell_type": "code",
   "execution_count": 51,
   "id": "bca67f9f",
   "metadata": {},
   "outputs": [
    {
     "name": "stdout",
     "output_type": "stream",
     "text": [
      "[False False  True]\n",
      "[ True  True False]\n"
     ]
    },
    {
     "name": "stderr",
     "output_type": "stream",
     "text": [
      "C:\\Users\\a\\AppData\\Local\\Temp\\ipykernel_4524\\1643084940.py:3: DeprecationWarning: `in1d` is deprecated. Use `np.isin` instead.\n",
      "  print(np.in1d(a,b))\n",
      "C:\\Users\\a\\AppData\\Local\\Temp\\ipykernel_4524\\1643084940.py:6: DeprecationWarning: `in1d` is deprecated. Use `np.isin` instead.\n",
      "  print(np.in1d(a,[1,2,12]))\n"
     ]
    }
   ],
   "source": [
    "\"\"\"5. np.in1d()\n",
    "Returns a boolean array: is each element in a also in b?\"\"\"\n",
    "print(np.in1d(a,b))\n",
    "\n",
    "# searching element\n",
    "print(np.in1d(a,[1,2,12]))\n"
   ]
  },
  {
   "cell_type": "markdown",
   "id": "f5375468",
   "metadata": {},
   "source": [
    "### 19. np.clip\n",
    "\n",
    "numpy.clip() function is used to Clip (limit) the values in an array.\n",
    "\n",
    "https://numpy.org/doc/stable/reference/generated/numpy.clip.html"
   ]
  },
  {
   "cell_type": "code",
   "execution_count": null,
   "id": "360a6dc7",
   "metadata": {},
   "outputs": [],
   "source": [
    "\"\"\"\n",
    "Keep everything between min and max, and if something is lower or higher, clip it to the boundaries\n",
    "\n",
    "np.clip() - Clamp Values Between a Min and Max\n",
    "np.clip(array, min, max)\n",
    "\n",
    " It returns a new array (original stays unchanged unless you overwrite it)\n",
    "\"\"\""
   ]
  },
  {
   "cell_type": "code",
   "execution_count": 52,
   "id": "374e9826",
   "metadata": {},
   "outputs": [
    {
     "name": "stdout",
     "output_type": "stream",
     "text": [
      "[ 5  5 10 15 15]\n"
     ]
    }
   ],
   "source": [
    "import numpy as np\n",
    "\n",
    "a = np.array([1, 5, 10, 15, 20])\n",
    "\n",
    "clipped = np.clip(a, 5, 15)\n",
    "print(clipped)  # [ 5  5 10 15 15]\n"
   ]
  },
  {
   "cell_type": "code",
   "execution_count": null,
   "id": "f17896e4",
   "metadata": {},
   "outputs": [],
   "source": []
  }
 ],
 "metadata": {
  "kernelspec": {
   "display_name": "Python 3",
   "language": "python",
   "name": "python3"
  },
  "language_info": {
   "codemirror_mode": {
    "name": "ipython",
    "version": 3
   },
   "file_extension": ".py",
   "mimetype": "text/x-python",
   "name": "python",
   "nbconvert_exporter": "python",
   "pygments_lexer": "ipython3",
   "version": "3.13.5"
  }
 },
 "nbformat": 4,
 "nbformat_minor": 5
}
