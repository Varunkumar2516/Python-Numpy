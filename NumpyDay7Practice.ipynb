{
  "cells": [
    {
      "cell_type": "markdown",
      "metadata": {
        "id": "1uamk9vAix0o"
      },
      "source": [
        "###`Q-1:` Find the nearest element in the array to a given integer.\n",
        "Such that take the input as Full List and then convert the input string in python list and then do the conversion in numpy array for it ,\n",
        "```\n",
        "Ex:-\n",
        "\n",
        "a=23 and array - [10 17 24 31 38 45 52 59].\n",
        "Nearest element is 24\n",
        "```\n",
        "Hint: Read about this function `argmin()`"
      ]
    },
    {
      "cell_type": "code",
      "execution_count": 3,
      "metadata": {
        "id": "ddkpbpR6iySZ"
      },
      "outputs": [
        {
          "name": "stdout",
          "output_type": "stream",
          "text": [
            "[10, 17, 24, 31, 38, 45, 52, 59]\n"
          ]
        }
      ],
      "source": [
        "# code here\n",
        "def list_creation(a):\n",
        "    # doing the strip [] from the string from last\n",
        "    a=a.strip(\"[]\")\n",
        "\n",
        "    # first way\n",
        "    mylist=list(map(int,a.split(\",\")))\n",
        "\n",
        "    #list comprehension way\n",
        "    mylist2=[int(i.strip())for i in a.split(\",\") if i!=\"\"]\n",
        "    return mylist2\n",
        "import numpy as np\n",
        "\n",
        "string=input(\"Enter the list format \")\n",
        "#function to get the list\n",
        "mylist=list_creation(string)\n",
        "print(mylist)\n"
      ]
    },
    {
      "cell_type": "code",
      "execution_count": 4,
      "metadata": {},
      "outputs": [
        {
          "name": "stdout",
          "output_type": "stream",
          "text": [
            "[10 17 24 31 38 45 52 59]\n",
            "Nearest ELement of 23 is 24\n"
          ]
        }
      ],
      "source": [
        "\"\"\"Steps:\n",
        "Convert the list to a NumPy array.\n",
        "\n",
        "Subtract the target number from each element in the array.\n",
        "\n",
        "Take the absolute value of the result.np.abs() The absolute value of a\n",
        " number is its distance from zero on the number line, meaning it is always non-negative.\n",
        "\n",
        "Use argmin() to find the index of the smallest difference.\n",
        "\n",
        "Use that index to get the nearest element.\"\"\"\n",
        "\n",
        "Numpy_array=np.array(mylist)\n",
        "print(Numpy_array)\n",
        "n=int(input(\"Enter the integer from array\"))\n",
        "copy=np.copy(Numpy_array)\n",
        "\n",
        "copy=copy - n\n",
        "index=np.abs(copy).argmin()\n",
        "print(f\"Nearest ELement of {n} is\",Numpy_array[index])\n"
      ]
    },
    {
      "cell_type": "markdown",
      "metadata": {
        "id": "Y1QkHyPpizyp"
      },
      "source": [
        "###`Q-2:` Replace multiples of 3 or 5 as 0 in the given array.\n",
        "```\n",
        "arr=[1 2 3 4 5 6 7 9]\n",
        "\n",
        "result-> [1 2 0 4 0 0 7 0]\n",
        "```"
      ]
    },
    {
      "cell_type": "code",
      "execution_count": 5,
      "metadata": {
        "id": "JjtxMlhWi25l"
      },
      "outputs": [
        {
          "name": "stdout",
          "output_type": "stream",
          "text": [
            "[ 6 12 13  9 10 12  6 16  1 17]\n",
            "[ True  True False  True False  True  True False False False]\n",
            "[False False False False  True False False False False False]\n",
            "[ 0  0 13  0  0  0  0 16  1 17]\n"
          ]
        }
      ],
      "source": [
        "# code here\n",
        "import numpy as np\n",
        "np.random.seed(1)\n",
        "A=np.random.randint(1,30,size=10) \n",
        "print(A )\n",
        "maskthree=(A%3==0)\n",
        "print(maskthree)\n",
        "maskfive=(A%5==0)\n",
        "print(maskfive)\n",
        " \n",
        "#    3      or     5  \n",
        "A[maskthree | maskfive]=0\n",
        "\n",
        "print(A)\n"
      ]
    },
    {
      "cell_type": "markdown",
      "metadata": {
        "id": "Pi_dZSwTi4OI"
      },
      "source": [
        "###`Q-3:` Use Fancy Indexing.\n",
        "1. Double the array elements at  given indexes\n",
        "```\n",
        "arr = np.arrange(10)\n",
        "indexes = [0,3,4,9]\n",
        "```\n",
        "Result -> `[ 0  1  2  6  8  5  6  7  8 18]`\n",
        "\n",
        "2. Using a given array make a different array as in below example\n",
        "```\n",
        "\n",
        "result array -> [1 1 1 2 2 2 3 3 3]\n",
        "```\n",
        "* Internal-repetion should be as length of the array.\n",
        "\n",
        "Hint:\n",
        "```\n",
        "if a is an array\n",
        "a = [2,4]\n",
        "a[[1,1,0,1]] will result in-> [4 4 2 4]\n",
        "```"
      ]
    },
    {
      "cell_type": "code",
      "execution_count": 6,
      "metadata": {
        "id": "SHYuyuovi66N"
      },
      "outputs": [
        {
          "name": "stdout",
          "output_type": "stream",
          "text": [
            "[0 1 2 3 4 5 6 7 8 9]\n",
            "[ 0  1  2  6  8  5  6  7  8 18]\n",
            "[ 0  0  0  1  1  1  2  2  2  6  6  6  8  8  8  5  5  5  6  6  6  7  7  7\n",
            "  8  8  8 18 18 18]\n"
          ]
        }
      ],
      "source": [
        "# code here\n",
        "arr = np.arange(10)\n",
        "indexes = [0,3,4,9]\n",
        "print(arr)\n",
        "\n",
        "#1\n",
        "arr[indexes]=arr[indexes] *2\n",
        "print(arr)\n",
        "\n",
        "#2\n",
        "newarray=np.repeat(arr,3)\n",
        "print(newarray)"
      ]
    },
    {
      "cell_type": "markdown",
      "metadata": {
        "id": "UDehG0tFi89i"
      },
      "source": [
        "###`Q-4:` Your are given an array which is havig some nan value. You job is to fill those nan values with most common element in the array.\n",
        "```\n",
        "arr=np.array([[1,2,np.nan],[4,2,6],[np.nan,np.nan,5]])\n",
        "\n",
        "```"
      ]
    },
    {
      "cell_type": "code",
      "execution_count": null,
      "metadata": {},
      "outputs": [],
      "source": [
        "\"\"\"unique,counts=np.unique(arr,return_counts=True) \n",
        "finds all unique (non-repeating) values in the array \n",
        "— but only one copy of each.\n",
        "for example;\n",
        "\n",
        "[1, 2, 2, 3, 4, 2, 5, 3, 3, 3]\n",
        "it, return only \n",
        "unique = [1, 2, 3, 4, 5]\n",
        "if :\n",
        "return_counts=True\n",
        "tells NumPy to also return how many times each unique value appears.\n",
        "counts=[1, 3, 4, 1, 1]\n",
        "\n",
        "# so to get the COmmon Element we can find the most common  from the Counts ( index=np.argmax(counts)) ,\n",
        "it give us maximum count index and then we simply find the index \n",
        "arr[index]\n",
        "\"\"\""
      ]
    },
    {
      "cell_type": "code",
      "execution_count": 19,
      "metadata": {
        "id": "YH13A6w9jEyu"
      },
      "outputs": [
        {
          "name": "stdout",
          "output_type": "stream",
          "text": [
            "[[ 1.  2. nan]\n",
            " [ 2.  2.  6.]\n",
            " [nan nan  2.]]\n",
            "Common_Element 2.0\n",
            "Changed array\n",
            " [[1. 2. 2.]\n",
            " [2. 2. 6.]\n",
            " [2. 2. 2.]]\n"
          ]
        }
      ],
      "source": [
        "# code here\n",
        "arr=np.array([[1,2,np.nan],[2,2,6],[np.nan,np.nan,2]])\n",
        "print(arr)\n",
        "\n",
        "def Common_Element(arr):\n",
        "   element,count= np.unique(arr,return_counts=True)\n",
        "   index=np.argmax(count)\n",
        "   return element[index]\n",
        "\n",
        "common=Common_Element(arr)\n",
        "print(\"Common_Element\",common)\n",
        "arr[np.isnan(arr)]=common\n",
        "\n",
        "print(\"Changed array\\n\",arr)\n",
        "\n",
        "\n"
      ]
    },
    {
      "cell_type": "markdown",
      "metadata": {
        "id": "Tk2JnioUjJ_t"
      },
      "source": [
        "### `Q-5:` Write a NumPy program\n",
        "\n",
        "- to find the missing data in a given array. Return a boolean matrix.\n",
        "- also try to fill those missing values with 0. For that, you can use `np.nan_to_num(a)`\n",
        "\n",
        "```python\n",
        "import numpy as np\n",
        "\n",
        "np.array([[3, 2, np.nan, 1],\n",
        "          [10, 12, 10, 9],\n",
        "          [5, np.nan, 1, np.nan]])\n",
        "```"
      ]
    },
    {
      "cell_type": "code",
      "execution_count": 22,
      "metadata": {
        "id": "nPEBTQJ_jJZe"
      },
      "outputs": [
        {
          "name": "stdout",
          "output_type": "stream",
          "text": [
            "array :\n",
            " [[ 3.  2. nan  1.]\n",
            " [10. 12. 10.  9.]\n",
            " [ 5. nan  1. nan]]\n",
            "Nan Values Boolean Matrix:\n",
            " [[False False  True False]\n",
            " [False False False False]\n",
            " [False  True False  True]]\n",
            "Valid Values [ 3.  2.  1. 10. 12. 10.  9.  5.  1.]\n",
            "Chnaged Array :\n",
            " [[ 3.  2.  0.  1.]\n",
            " [10. 12. 10.  9.]\n",
            " [ 5.  0.  1.  0.]]\n"
          ]
        }
      ],
      "source": [
        "# code here\n",
        "#1\n",
        "import numpy as np\n",
        "\n",
        "arr=np.array([[3, 2, np.nan, 1],\n",
        "          [10, 12, 10, 9],\n",
        "          [5, np.nan, 1, np.nan]])\n",
        "\n",
        "def program(arr):\n",
        "    nan_values=np.isnan(arr)\n",
        "    print(\"array :\\n\",arr)\n",
        "    print(\"Nan Values Boolean Matrix:\\n\",nan_values)\n",
        "    print(\"Valid Values\",arr[~(nan_values)])\n",
        "\n",
        "    \"\"\"\n",
        "Replace np.nan with np.nan_to_num()\n",
        "\n",
        "Using np.nan_to_num( array, single_value_toreplace)\n",
        "\n",
        "return the new array with changed values\n",
        "\"\"\" \n",
        "    arr=np.nan_to_num(arr,0)\n",
        "    print(\"Chnaged Array :\\n\",arr)\n",
        "\n",
        "program(arr)"
      ]
    },
    {
      "cell_type": "markdown",
      "metadata": {
        "id": "FFUnZtG7jNBH"
      },
      "source": [
        "###`Q-6:` Given two arrays, X and Y, construct the Cauchy matrix C.\n",
        "`Cij =1/(xi - yj)`\n",
        "\n",
        "http://en.wikipedia.org/wiki/Cauchy_matrix\n",
        "```\n",
        "x = numpy.array([1,2,3,4]).reshape((-1, 1)\n",
        "y = numpy.array([5,6,7])\n",
        "```"
      ]
    },
    {
      "cell_type": "code",
      "execution_count": 25,
      "metadata": {},
      "outputs": [
        {
          "data": {
            "text/plain": [
              "'\\nUsing -1 as SIze tells NumPy:\\n\\n“You figure out this dimension automatically based on the size of the array.”'"
            ]
          },
          "execution_count": 25,
          "metadata": {},
          "output_type": "execute_result"
        }
      ],
      "source": [
        "\"\"\"\n",
        "Using -1 as SIze tells NumPy:\n",
        "\n",
        "“You figure out this dimension automatically based on the size of the array.”\"\"\""
      ]
    },
    {
      "cell_type": "code",
      "execution_count": 30,
      "metadata": {
        "id": "pQXHa38TjVEh"
      },
      "outputs": [
        {
          "name": "stdout",
          "output_type": "stream",
          "text": [
            "X=\n",
            "  [[1]\n",
            " [2]\n",
            " [3]\n",
            " [4]] \n",
            "Y=\n",
            " [5 6 7]\n",
            "[[-0.25       -0.2        -0.16666667]\n",
            " [-0.33333333 -0.25       -0.2       ]\n",
            " [-0.5        -0.33333333 -0.25      ]\n",
            " [-1.         -0.5        -0.33333333]]\n"
          ]
        }
      ],
      "source": [
        "# code here\n",
        "x = np.array([1,2,3,4]).reshape(-1, 1)\n",
        "y = np.array([5,6,7])\n",
        "print(\"X=\\n \",x,\"\\nY=\\n\",y)\n",
        "def Cauchy(x,y):\n",
        "    return 1 / (x[:np.newaxis] - y)\n",
        "\n",
        "Cauchy_matrix=Cauchy(x,y)\n",
        "print(Cauchy_matrix)\n"
      ]
    },
    {
      "cell_type": "markdown",
      "metadata": {
        "id": "EbkHZCF1jWNc"
      },
      "source": [
        "###`Q-7:` Plot this below equation.\n",
        "\n",
        "$$\\large y = \\frac{e^x - e^{-x}}{e^x + e^{-x}}$$\n",
        "\n",
        "**Note: This equation is called tanh activation function. In deep learning, many times this function is used. If you find some difference between the sigmoid function and this tanh function, note that to your notebook.**"
      ]
    },
    {
      "cell_type": "code",
      "execution_count": 35,
      "metadata": {
        "id": "n6OcN--FjbLC"
      },
      "outputs": [
        {
          "data": {
            "image/png": "[encoded data removed]",
            "text/plain": [
              "<Figure size 640x480 with 1 Axes>"
            ]
          },
          "metadata": {},
          "output_type": "display_data"
        }
      ],
      "source": [
        "# code here\n",
        "import numpy as np\n",
        "import matplotlib.pyplot as plt\n",
        "x=np.linspace(0,10,100)\n",
        "y= (np.exp(x) - np.exp(-x))/(np.exp(x) + np.exp(-x))\n",
        "plt.plot(x,y,color=\"blue\")\n",
        "plt.xlabel(\"x\")\n",
        "plt.ylabel(\"y=tanh\")\n",
        "plt.grid(True)\n",
        "plt.show()\n"
      ]
    },
    {
      "cell_type": "markdown",
      "metadata": {
        "id": "xujS-pu4jciH"
      },
      "source": [
        "### `Q-8:` Plot the below equation.\n",
        "\n",
        "$$\\large y = \\sqrt{36 - (x - 4)^2} + 2$$\n",
        "\n",
        "The range of x should be between -2 to 10. $x ∈ [-2, 10]$\n",
        "\n"
      ]
    },
    {
      "cell_type": "code",
      "execution_count": 36,
      "metadata": {
        "id": "7CagwKP_jhIQ"
      },
      "outputs": [
        {
          "data": {
            "image/png": "[encoded data removed]",
            "text/plain": [
              "<Figure size 640x480 with 1 Axes>"
            ]
          },
          "metadata": {},
          "output_type": "display_data"
        }
      ],
      "source": [
        "# code here\n",
        "x=np.linspace(-2,10,200)\n",
        "y=np.sqrt(36- np.square(x-4)) +2\n",
        "plt.plot(x,y,color=\"blue\")\n",
        "plt.xlabel(\"x\")\n",
        "plt.ylabel(\"y\")\n",
        "plt.grid(True)\n",
        "plt.show()\n"
      ]
    },
    {
      "cell_type": "markdown",
      "metadata": {
        "id": "Jf14pxCfjiX1"
      },
      "source": [
        "### `Q-9:` Write a program implement Boradcasting Rule to check if two array can be added or not.\n",
        "Given tuples of shapes.\n",
        "```\n",
        "shape of a- (3,2,2)\n",
        "shape of b- (2,2)\n",
        "\n",
        "check_broadcast(a, b) -> return Boolean (True if can broadcasted, False other wise.)\n",
        "```"
      ]
    },
    {
      "cell_type": "code",
      "execution_count": null,
      "metadata": {},
      "outputs": [],
      "source": [
        "\"\"\"Theory :\n",
        "1... zip() takes two\n",
        " (or more) iterables (like lists, tuples, arrays) \n",
        " and pairs their elements together — position by position.\n",
        " \n",
        "\"\"\""
      ]
    },
    {
      "cell_type": "code",
      "execution_count": 38,
      "metadata": {},
      "outputs": [
        {
          "name": "stdout",
          "output_type": "stream",
          "text": [
            "1 a\n",
            "2 b\n",
            "3 c\n"
          ]
        }
      ],
      "source": [
        "#zip()\n",
        "a = [1, 2, 3]\n",
        "b = ['a', 'b', 'c']\n",
        "\n",
        "zipped = zip(a, b)\n",
        "\n",
        "for x, y in zipped:\n",
        "    print(x, y)"
      ]
    },
    {
      "cell_type": "code",
      "execution_count": 39,
      "metadata": {
        "id": "qSKGG0Yajlc8"
      },
      "outputs": [],
      "source": [
        "# code here\n",
        "def Check_BroadCast(a,b):\n",
        "    shape1=a.shape\n",
        "    shape2=b.shape\n",
        "\n",
        "    # using zip function to getting it \n",
        "    zipping=zip(reversed(shape1),reversed(shape2))\n",
        "    for i,j in zipping:\n",
        "        if i!=j and i !=1 and j!=1:\n",
        "            return False\n",
        "        return True"
      ]
    },
    {
      "cell_type": "code",
      "execution_count": 41,
      "metadata": {},
      "outputs": [
        {
          "data": {
            "text/plain": [
              "True"
            ]
          },
          "execution_count": 41,
          "metadata": {},
          "output_type": "execute_result"
        }
      ],
      "source": [
        "\"\"\"shape of a- (3,2,2)\n",
        "shape of b- (2,2)\"\"\"\n",
        "a=np.random.randint(0,10,size=(3,2,2))\n",
        "b=np.random.randint(0,10,size=(2,2))\n",
        "Check_BroadCast(a,b)"
      ]
    },
    {
      "cell_type": "code",
      "execution_count": 42,
      "metadata": {},
      "outputs": [
        {
          "data": {
            "text/plain": [
              "False"
            ]
          },
          "execution_count": 42,
          "metadata": {},
          "output_type": "execute_result"
        }
      ],
      "source": [
        "# using Built In function np.broadcast_shapes(a.shape,b.shape)\n",
        "def can_broadcast_numpy(a, b):\n",
        "    try:\n",
        "        np.broadcast_shapes(a.shape, b.shape)\n",
        "        return True\n",
        "    except ValueError:\n",
        "        return False\n",
        "a=np.random.randint(0,10,size=(3,4))\n",
        "b=np.random.randint(0,10,size=(4,3))\n",
        "can_broadcast_numpy(a,b)"
      ]
    },
    {
      "cell_type": "markdown",
      "metadata": {},
      "source": [
        "[__DAy8__Tricks](./NumpyDay8Tricks.ipynb)"
      ]
    }
  ],
  "metadata": {
    "colab": {
      "provenance": []
    },
    "kernelspec": {
      "display_name": "Python 3",
      "name": "python3"
    },
    "language_info": {
      "codemirror_mode": {
        "name": "ipython",
        "version": 3
      },
      "file_extension": ".py",
      "mimetype": "text/x-python",
      "name": "python",
      "nbconvert_exporter": "python",
      "pygments_lexer": "ipython3",
      "version": "3.13.5"
    }
  },
  "nbformat": 4,
  "nbformat_minor": 0
}
