{
  "cells": [
    {
      "cell_type": "markdown",
      "metadata": {
        "id": "J88qfqQEk_sT"
      },
      "source": [
        "###`Q-1:` Create a random 3x4 matrix with value between 0-100. And perform below tasks\n",
        "\n",
        "    i. Sort this matrix. np.sort()\n",
        "    ii. Sort this matrix based on values in 2nd column.\n",
        "    iii. Sort this matrix based on max value in each row.\n",
        "    iv. Sort based on elements value.\n"
      ]
    },
    {
      "cell_type": "markdown",
      "metadata": {
        "id": "xpOwOdhqlE9R"
      },
      "source": [
        "See examples:\n",
        "```\n",
        "arr =\n",
        "    [[92 90 74]\n",
        "    [ 6 63 93]\n",
        "    [15 93 96]\n",
        "    [70 60 48]]\n",
        "```\n",
        "```\n",
        "i. np.sort\n",
        "[[74 90 92]\n",
        " [ 6 63 93]\n",
        " [15 93 96]\n",
        " [48 60 70]]\n",
        "\n",
        "ii. based on 2nd column\n",
        "[[70 60 48]\n",
        " [ 6 63 93]\n",
        " [92 90 74]\n",
        " [15 93 96]]\n",
        "\n",
        "iii. based on row max- ascending\n",
        "[[15 93 96]\n",
        " [ 6 63 93]\n",
        " [92 90 74]\n",
        " [70 60 48]]\n",
        "\n",
        "iv. based on elements value\n",
        "[[ 6 15 48]\n",
        " [60 63 70]\n",
        " [74 90 92]\n",
        " [93 93 96]]\n",
        "\n",
        "```"
      ]
    },
    {
      "cell_type": "code",
      "execution_count": 117,
      "metadata": {
        "id": "Auy-guUwlALv"
      },
      "outputs": [
        {
          "data": {
            "text/plain": [
              "array([[74, 90, 92],\n",
              "       [ 6, 63, 93],\n",
              "       [15, 93, 96],\n",
              "       [48, 60, 70]])"
            ]
          },
          "execution_count": 117,
          "metadata": {},
          "output_type": "execute_result"
        }
      ],
      "source": [
        "# code here\n",
        "import numpy as np\n",
        "arr=np.array([[92, 90, 74],\n",
        "              [ 6, 63, 93],\n",
        "              [15, 93, 96],\n",
        "              [70, 60, 48]])\n",
        "\n",
        "#1\n",
        "np.sort(arr)"
      ]
    },
    {
      "cell_type": "code",
      "execution_count": 118,
      "metadata": {},
      "outputs": [
        {
          "name": "stdout",
          "output_type": "stream",
          "text": [
            "[[2 1 0]\n",
            " [0 1 2]\n",
            " [0 1 2]\n",
            " [2 1 0]]\n",
            "Sorted Index\n",
            " [3 1 0 2]\n",
            "sorted INdex\n",
            " [[70 60 48]\n",
            " [ 6 63 93]\n",
            " [92 90 74]\n",
            " [15 93 96]]\n"
          ]
        }
      ],
      "source": [
        "#2\n",
        "\"\"\"sort by a Specific Row,column\n",
        "If you want to sort columns of the array based on the values in a specific row:\n",
        "np.argsort() givees the index of sorted array\n",
        "\"\"\"\n",
        "print(np.argsort(arr))\n",
        "\n",
        "# first get indices of what you want to sort\n",
        "#it gives the indices of the rows that would sort the array based on column 2.”\n",
        "sortedindex=np.argsort(arr[: , 1])  # 2nd column sorted index\n",
        "print(\"Sorted Index\\n\",sortedindex)\n",
        "\n",
        "\n",
        "# use those index to sort each column\n",
        "sorted_arr=arr[sortedindex]\n",
        "print(\"sorted INdex\\n\",sorted_arr)"
      ]
    },
    {
      "cell_type": "code",
      "execution_count": 119,
      "metadata": {},
      "outputs": [
        {
          "name": "stdout",
          "output_type": "stream",
          "text": [
            "[[74 90 92]\n",
            " [ 6 63 93]\n",
            " [15 93 96]\n",
            " [48 60 70]]\n",
            "[[92 90 74]\n",
            " [93 63  6]\n",
            " [96 93 15]\n",
            " [70 60 48]]\n"
          ]
        }
      ],
      "source": [
        "#3 \n",
        "x=np.sort(arr,axis=1)\n",
        "print(x)\n",
        "\n",
        "# reverse Order\n",
        "x=x[: , ::-1]\n",
        "print(x)"
      ]
    },
    {
      "cell_type": "code",
      "execution_count": 120,
      "metadata": {},
      "outputs": [
        {
          "data": {
            "text/plain": [
              "array([[ 6, 15, 48],\n",
              "       [60, 63, 70],\n",
              "       [74, 90, 92],\n",
              "       [93, 93, 96]])"
            ]
          },
          "execution_count": 120,
          "metadata": {},
          "output_type": "execute_result"
        }
      ],
      "source": [
        "#4\n",
        "np.sort(arr,axis=None).reshape(arr.shape)"
      ]
    },
    {
      "cell_type": "markdown",
      "metadata": {
        "id": "Jx_I3gx9lBay"
      },
      "source": [
        "###`Q-2:` There is an array of marks of 5 students in 4 subjects. Further you are asked to perform below task.\n",
        "    i. Add marks every student of an extra subject in the same array.\n",
        "    ii. Add two new students marks in respective 5 subjects.(one subject added in above task)\n",
        "    iii. Add extra column with sum of all subjects(5-subjects) marks\n",
        "    iv. Sort the array(non-ascending order) on total marks column--one added in above task. Show top 2 rows.\n",
        "\n",
        "Note: Change dimension of arrays during concatenation or appending if required."
      ]
    },
    {
      "cell_type": "markdown",
      "metadata": {
        "id": "lXF-CE6ylNIw"
      },
      "source": [
        "Given Array-\n",
        "```\n",
        "marks = [[13, 10,  9, 33],\n",
        "       [63, 46, 90, 42],\n",
        "       [39, 76, 13, 29],\n",
        "       [82,  9, 29, 78],\n",
        "       [67, 61, 59, 36]]\n",
        "\n",
        "extra_subject = [41, 87, 72, 36, 92]\n",
        "#Two extra students record-\n",
        "rec1 = [77, 83, 98, 95, 89]\n",
        "rec2 = [92, 71, 52, 61, 53]\n",
        "```"
      ]
    },
    {
      "cell_type": "code",
      "execution_count": 121,
      "metadata": {
        "id": "7YKsWO2olMkq"
      },
      "outputs": [],
      "source": [
        "# code here\n",
        "import numpy as np\n",
        "marks = [[13, 10,  9, 33],\n",
        "       [63, 46, 90, 42],\n",
        "       [39, 76, 13, 29],\n",
        "       [82,  9, 29, 78],\n",
        "       [67, 61, 59, 36]]\n",
        "data=np.array(marks)\n",
        "\n",
        "extra_subject = [41, 87, 72, 36, 92]\n",
        "extra=np.array(extra_subject )\n",
        "#Two extra students record-\n",
        "rec1 = [77, 83, 98, 95, 89]\n",
        "\n",
        "rec2 = [92, 71, 52, 61, 53]\n"
      ]
    },
    {
      "cell_type": "code",
      "execution_count": 122,
      "metadata": {},
      "outputs": [
        {
          "name": "stdout",
          "output_type": "stream",
          "text": [
            "[[13 10  9 33 41]\n",
            " [63 46 90 42 87]\n",
            " [39 76 13 29 72]\n",
            " [82  9 29 78 36]\n",
            " [67 61 59 36 92]]\n",
            "[[13 10  9 33]\n",
            " [63 46 90 42]\n",
            " [39 76 13 29]\n",
            " [82  9 29 78]\n",
            " [67 61 59 36]]\n"
          ]
        }
      ],
      "source": [
        "# 1\n",
        "extra=np.expand_dims(extra,axis=1)\n",
        "newdata=np.hstack((data,extra))\n",
        "print(newdata)\n",
        "print(data)"
      ]
    },
    {
      "cell_type": "code",
      "execution_count": 123,
      "metadata": {},
      "outputs": [
        {
          "name": "stdout",
          "output_type": "stream",
          "text": [
            "[[13 10  9 33 41]\n",
            " [63 46 90 42 87]\n",
            " [39 76 13 29 72]\n",
            " [82  9 29 78 36]\n",
            " [67 61 59 36 92]\n",
            " [77 83 98 95 89]\n",
            " [92 71 52 61 53]]\n"
          ]
        }
      ],
      "source": [
        "#2 \n",
        "stu1=np.array(rec1)\n",
        "stu2=np.array(rec2)\n",
        "newdata=np.vstack((newdata,stu1,stu2))\n",
        "print(newdata)\n"
      ]
    },
    {
      "cell_type": "code",
      "execution_count": 124,
      "metadata": {},
      "outputs": [
        {
          "name": "stdout",
          "output_type": "stream",
          "text": [
            "[106 328 229 234 315 442 329]\n",
            "[[106]\n",
            " [328]\n",
            " [229]\n",
            " [234]\n",
            " [315]\n",
            " [442]\n",
            " [329]]\n",
            "\n",
            " sum added :\n",
            "[[ 13  10   9  33  41 106]\n",
            " [ 63  46  90  42  87 328]\n",
            " [ 39  76  13  29  72 229]\n",
            " [ 82   9  29  78  36 234]\n",
            " [ 67  61  59  36  92 315]\n",
            " [ 77  83  98  95  89 442]\n",
            " [ 92  71  52  61  53 329]]\n"
          ]
        }
      ],
      "source": [
        "# 3\n",
        "Row_sum=np.sum(newdata,axis=1)\n",
        "print(Row_sum)\n",
        "Row_sum=np.expand_dims(Row_sum,axis=1)\n",
        "print(Row_sum)\n",
        "\n",
        "print(\"\\n sum added :\")\n",
        "newdata=np.append(newdata,Row_sum,axis=1)\n",
        "print(newdata)"
      ]
    },
    {
      "cell_type": "code",
      "execution_count": 125,
      "metadata": {},
      "outputs": [
        {
          "name": "stdout",
          "output_type": "stream",
          "text": [
            "[[ 13  10   9  33  41 106]\n",
            " [ 63  46  90  42  87 328]\n",
            " [ 39  76  13  29  72 229]\n",
            " [ 82   9  29  78  36 234]\n",
            " [ 67  61  59  36  92 315]\n",
            " [ 77  83  98  95  89 442]\n",
            " [ 92  71  52  61  53 329]]\n",
            "(7, 6)\n",
            "[0 2 3 4 1 6 5]\n",
            "[[ 13  10   9  33  41 106]\n",
            " [ 39  76  13  29  72 229]\n",
            " [ 82   9  29  78  36 234]\n",
            " [ 67  61  59  36  92 315]\n",
            " [ 63  46  90  42  87 328]\n",
            " [ 92  71  52  61  53 329]\n",
            " [ 77  83  98  95  89 442]]\n"
          ]
        }
      ],
      "source": [
        "# 4 sort the array according to last row \n",
        "# In Descending order\n",
        "\n",
        "print(newdata)\n",
        "print(newdata.shape)\n",
        "# getting the sorted row index\n",
        "last_column_sortedIndex=np.argsort(newdata,axis=0)[:,-1]\n",
        "print(last_column_sortedIndex)\n",
        "# using those index for sorting\n",
        "newdata=newdata[last_column_sortedIndex]\n",
        "print(newdata)\n",
        "\n",
        "# now convert it to reverse order\n",
        "newdata=newdata[::-1]\n"
      ]
    },
    {
      "cell_type": "code",
      "execution_count": 134,
      "metadata": {},
      "outputs": [
        {
          "name": "stdout",
          "output_type": "stream",
          "text": [
            "[[ 77  83  98  95  89 442]\n",
            " [ 92  71  52  61  53 329]\n",
            " [ 63  46  90  42  87 328]\n",
            " [ 67  61  59  36  92 315]\n",
            " [ 82   9  29  78  36 234]\n",
            " [ 39  76  13  29  72 229]\n",
            " [ 13  10   9  33  41 106]]\n"
          ]
        }
      ],
      "source": [
        "print(newdata)"
      ]
    },
    {
      "cell_type": "code",
      "execution_count": 135,
      "metadata": {},
      "outputs": [
        {
          "name": "stdout",
          "output_type": "stream",
          "text": [
            "[[ 77  83  98  95  89 442]\n",
            " [ 92  71  52  61  53 329]\n",
            " [ 63  46  90  42  87 328]]\n"
          ]
        }
      ],
      "source": [
        "# 3 Toppers \n",
        "print(newdata[0:3,:])"
      ]
    },
    {
      "cell_type": "markdown",
      "metadata": {
        "id": "VmOyK_8klRqR"
      },
      "source": [
        "###`Q-3:` Find unique arrays from a 2D array column wise and row wise.\n",
        "```\n",
        "arr = np.array([[1,2,3,3,1,1],\n",
        "                [0,9,1,2,8,8],\n",
        "                [1,2,3,8,8,8],\n",
        "                [1,2,3,3,1,1]])\n",
        "```\n",
        "Expected Result-\n",
        "```\n",
        "Row Wise\n",
        "[[0 9 1 2 8 8]\n",
        " [1 2 3 3 1 1]\n",
        " [1 2 3 8 8 8]]\n",
        "\n",
        "Col Wise\n",
        "[[1 1 2 3 3]\n",
        " [0 8 9 1 2]\n",
        " [1 8 2 3 8]\n",
        " [1 1 2 3 3]]\n",
        "```"
      ]
    },
    {
      "cell_type": "code",
      "execution_count": 140,
      "metadata": {
        "id": "LJl10VQrlU5q"
      },
      "outputs": [
        {
          "data": {
            "text/plain": [
              "array([[0, 9, 1, 2, 8, 8],\n",
              "       [1, 2, 3, 3, 1, 1],\n",
              "       [1, 2, 3, 8, 8, 8]])"
            ]
          },
          "execution_count": 140,
          "metadata": {},
          "output_type": "execute_result"
        }
      ],
      "source": [
        "# code here\n",
        "arr = np.array([[1,2,3,3,1,1],\n",
        "                [0,9,1,2,8,8],\n",
        "                [1,2,3,8,8,8],\n",
        "                [1,2,3,3,1,1]])\n",
        "np.unique(arr,axis=0)\n"
      ]
    },
    {
      "cell_type": "code",
      "execution_count": 139,
      "metadata": {},
      "outputs": [
        {
          "data": {
            "text/plain": [
              "array([[1, 1, 2, 3, 3],\n",
              "       [0, 8, 9, 1, 2],\n",
              "       [1, 8, 2, 3, 8],\n",
              "       [1, 1, 2, 3, 3]])"
            ]
          },
          "execution_count": 139,
          "metadata": {},
          "output_type": "execute_result"
        }
      ],
      "source": [
        "np.unique(arr,axis=1)"
      ]
    },
    {
      "cell_type": "markdown",
      "metadata": {
        "id": "RaXwVkywlWY2"
      },
      "source": [
        "###`Q-4:` Flip given 2-D array along both axes at the same time."
      ]
    },
    {
      "cell_type": "code",
      "execution_count": 141,
      "metadata": {
        "id": "mN7-4G8Kleeq"
      },
      "outputs": [
        {
          "data": {
            "text/plain": [
              "array([[1, 1, 3, 3, 2, 1],\n",
              "       [8, 8, 8, 3, 2, 1],\n",
              "       [8, 8, 2, 1, 9, 0],\n",
              "       [1, 1, 3, 3, 2, 1]])"
            ]
          },
          "execution_count": 141,
          "metadata": {},
          "output_type": "execute_result"
        }
      ],
      "source": [
        "# code here\n",
        "arr = np.array([[1,2,3,3,1,1],\n",
        "                [0,9,1,2,8,8],\n",
        "                [1,2,3,8,8,8],\n",
        "                [1,2,3,3,1,1]])\n",
        "\n",
        "np.flip(arr,axis=None)"
      ]
    },
    {
      "cell_type": "markdown",
      "metadata": {
        "id": "X0S7BUNTlfoq"
      },
      "source": [
        "### `Q-5:` Get row numbers of NumPy array having element larger than X.\n",
        "```\n",
        "arr = [[1,2,3,4,5],\n",
        "      [10,-3,30,4,5],\n",
        "      [3,2,5,-4,5],\n",
        "      [9,7,3,6,5]]\n",
        "\n",
        "X = 6\n",
        "```"
      ]
    },
    {
      "cell_type": "code",
      "execution_count": null,
      "metadata": {
        "id": "bi8jRmWhlkBU"
      },
      "outputs": [
        {
          "name": "stdout",
          "output_type": "stream",
          "text": [
            "[[False False False False False]\n",
            " [ True False  True False False]\n",
            " [False False False False False]\n",
            " [ True  True False False False]]\n",
            "[1 1 3 3]\n"
          ]
        }
      ],
      "source": [
        "# code here\n",
        "arr = np.array([[1,2,3,4,5],\n",
        "      [10,-3,30,4,5],\n",
        "      [3,2,5,-4,5],\n",
        "      [9,7,3,6,5]])\n",
        "\n",
        "# simple Boolean Mask TO get > 6\n",
        "X = 6\n",
        "Mask=arr > X\n",
        "print(Mask)\n",
        "\n",
        "# to get Indices OF Elements\n",
        "print(np.where(arr>6 )[0])\n",
        "\n"
      ]
    },
    {
      "cell_type": "markdown",
      "metadata": {
        "id": "DSCQMo4mlnDG"
      },
      "source": [
        "### `Q-6:` How to convert an array of arrays into a flat 1d array?\n"
      ]
    },
    {
      "cell_type": "code",
      "execution_count": 157,
      "metadata": {
        "id": "QZhSkUT2lsJW"
      },
      "outputs": [
        {
          "name": "stdout",
          "output_type": "stream",
          "text": [
            "[[[0 1 2]]\n",
            "\n",
            " [[4 5 6]]\n",
            "\n",
            " [[7 8 9]]]\n"
          ]
        }
      ],
      "source": [
        "# These arrays are given.\n",
        "arr1 = np.arange(3)\n",
        "arr2 = np.arange(4,7)\n",
        "arr3 = np.arange(7,10)\n",
        "\n",
        "GroupArray=np.array([[arr1],[arr2],[arr3]])\n",
        "print(GroupArray)"
      ]
    },
    {
      "cell_type": "code",
      "execution_count": 158,
      "metadata": {
        "id": "f42OXNrFls0I"
      },
      "outputs": [
        {
          "data": {
            "text/plain": [
              "array([0, 1, 2, 4, 5, 6, 7, 8, 9])"
            ]
          },
          "execution_count": 158,
          "metadata": {},
          "output_type": "execute_result"
        }
      ],
      "source": [
        "# code here\n",
        "GroupArray.flatten()"
      ]
    },
    {
      "cell_type": "code",
      "execution_count": 160,
      "metadata": {},
      "outputs": [
        {
          "data": {
            "text/plain": [
              "array([0, 1, 2, 4, 5, 6, 7, 8, 9])"
            ]
          },
          "execution_count": 160,
          "metadata": {},
          "output_type": "execute_result"
        }
      ],
      "source": [
        "np.ravel(GroupArray)"
      ]
    },
    {
      "cell_type": "markdown",
      "metadata": {
        "id": "A1J4oOVCluqO"
      },
      "source": [
        "### `Q-7:` You are given a array. You have to find the minimum and maximum array element and remove that from the array.\n",
        "\n",
        "```python\n",
        "import numpy as np\n",
        "\n",
        "np.random.seed(400)\n",
        "arr = np.random.randint(100, 1000, 200).reshape((1, 200))\n",
        "```"
      ]
    },
    {
      "cell_type": "code",
      "execution_count": 173,
      "metadata": {
        "id": "c6kmgtUJlybZ"
      },
      "outputs": [
        {
          "name": "stdout",
          "output_type": "stream",
          "text": [
            "[[448 563 418 240 507 362 345 236 719 291 298 639 458 387 262 613 267 882\n",
            "  181 425 790 635 889 818 872 967 277 470 336 920 917 295 557 830 506 385\n",
            "  353 975 592 997 137 340 222 215 472 459 617 649 935 956 914 932 645 952\n",
            "  921 490 527 972 278 307 840 958 246 449 251 957 103 627 920 824 356 825\n",
            "  173 323 372 960 710 464 244 782 763 635 436 774 171 469 178 458 624 211\n",
            "  771 270 308 231 952 514 699 702 433 900 373 318 998 265 503 320 230 324\n",
            "  922 967 620 743 527 117 566 804 123 946 587 227 853 757 944 328 855 930\n",
            "  325 729 426 514 296 879 575 936 705 209 191 743 510 513 628 559 658 528\n",
            "  395 525 922 136 496 225 895 975 263 908 420 711 800 976 786 235 930 859\n",
            "  618 226 695 460 218 483 490 803 621 453 193 607 677 637 728 724 534 748\n",
            "  291 194 761 875 687 569 228 482 781 554 654 739 885 197 266 228 892 207\n",
            "  883 588]]\n",
            "(1, 200)\n",
            "Minimun : 103   At Index  66 \n",
            "Maximum: 998   At Index  102\n",
            "(198,)\n",
            "[[448 563 418 240 507 362 345 236 719 291 298 639 458 387 262 613 267 882\n",
            "  181 425 790 635 889 818 872 967 277 470 336 920 917 295 557 830 506 385\n",
            "  353 975 592 997 137 340 222 215 472 459 617 649 935 956 914 932 645 952\n",
            "  921 490 527 972 278 307 840 958 246 449 251 957 627 920 824 356 825 173\n",
            "  323 372 960 710 464 244 782 763 635 436 774 171 469 178 458 624 211 771\n",
            "  270 308 231 952 514 699 702 433 900 373 318 265 503 320 230 324 922 967\n",
            "  620 743 527 117 566 804 123 946 587 227 853 757 944 328 855 930 325 729\n",
            "  426 514 296 879 575 936 705 209 191 743 510 513 628 559 658 528 395 525\n",
            "  922 136 496 225 895 975 263 908 420 711 800 976 786 235 930 859 618 226\n",
            "  695 460 218 483 490 803 621 453 193 607 677 637 728 724 534 748 291 194\n",
            "  761 875 687 569 228 482 781 554 654 739 885 197 266 228 892 207 883 588]]\n"
          ]
        }
      ],
      "source": [
        "# code here\n",
        "import numpy as np\n",
        "\n",
        "np.random.seed(400)\n",
        "arr = np.random.randint(100, 1000, 200).reshape((1, 200))\n",
        "print(arr)\n",
        "print(arr.shape)\n",
        "min=np.min(arr)\n",
        "min_index=np.argmin(arr)\n",
        "max=np.max(arr)\n",
        "max_index=np.argmax(arr)\n",
        "print(\"Minimun :\",min,\"  At Index \",min_index,\"\\nMaximum:\",max,\"  At Index \",max_index)\n",
        "\n",
        "# to remove use delete \n",
        "arr=np.delete(arr,[min_index,max_index])\n",
        "#it chnages the shape of array to flattend 1d\n",
        "print(arr.shape)\n",
        "# getting shape back \n",
        "arr= np.reshape(arr,(1,arr.size))\n",
        "print(arr)"
      ]
    },
    {
      "cell_type": "markdown",
      "metadata": {
        "id": "0dHN1sdnl0Jy"
      },
      "source": [
        "### `Q-8:` You are given an arrays. You have to limit this array's elements between 100 to 200. $arr ∈ [100, 700]$. So replace those values accordingly with the minimum and maximum value. Then sort the array and perform the cumulative sum of that array."
      ]
    },
    {
      "cell_type": "code",
      "execution_count": null,
      "metadata": {
        "id": "a3YF_E-Hlza7"
      },
      "outputs": [
        {
          "name": "stdout",
          "output_type": "stream",
          "text": [
            "[551 440 461 233 236 460 148 185 215 558 369 161 243 449 454 415 630 370\n",
            " 202 449 540 663 270 510 422 109 481 594 181 576 447 591 675 698 131 120\n",
            " 633 128 659 494 102 522 299 648 223 476 317 393 463 550 566 650 410 523\n",
            " 146 451 260 107 482 493 526 119 404 628 212 306 218 205 348 198 315 326\n",
            " 106 512 583 175 367 274 320 556 573 247 670 481 475 480 655 627 128 269\n",
            " 244 686 261 593 554 619 518 250 576 441] \n",
            "\n",
            "Clipped\n",
            " [100-200] [200 200 200 200 200 200 148 185 200 200 200 161 200 200 200 200 200 200\n",
            " 200 200 200 200 200 200 200 109 200 200 181 200 200 200 200 200 131 120\n",
            " 200 128 200 200 102 200 200 200 200 200 200 200 200 200 200 200 200 200\n",
            " 146 200 200 107 200 200 200 119 200 200 200 200 200 200 200 198 200 200\n",
            " 106 200 200 175 200 200 200 200 200 200 200 200 200 200 200 200 128 200\n",
            " 200 200 200 200 200 200 200 200 200 200]\n",
            "Sorted:\n",
            " [102 106 107 109 119 120 128 128 131 146 148 161 175 181 185 198 200 200\n",
            " 200 200 200 200 200 200 200 200 200 200 200 200 200 200 200 200 200 200\n",
            " 200 200 200 200 200 200 200 200 200 200 200 200 200 200 200 200 200 200\n",
            " 200 200 200 200 200 200 200 200 200 200 200 200 200 200 200 200 200 200\n",
            " 200 200 200 200 200 200 200 200 200 200 200 200 200 200 200 200 200 200\n",
            " 200 200 200 200 200 200 200 200 200 200]\n",
            "Cummulative_sum\n",
            " [  102   208   315   424   543   663   791   919  1050  1196  1344  1505\n",
            "  1680  1861  2046  2244  2444  2644  2844  3044  3244  3444  3644  3844\n",
            "  4044  4244  4444  4644  4844  5044  5244  5444  5644  5844  6044  6244\n",
            "  6444  6644  6844  7044  7244  7444  7644  7844  8044  8244  8444  8644\n",
            "  8844  9044  9244  9444  9644  9844 10044 10244 10444 10644 10844 11044\n",
            " 11244 11444 11644 11844 12044 12244 12444 12644 12844 13044 13244 13444\n",
            " 13644 13844 14044 14244 14444 14644 14844 15044 15244 15444 15644 15844\n",
            " 16044 16244 16444 16644 16844 17044 17244 17444 17644 17844 18044 18244\n",
            " 18444 18644 18844 19044]\n"
          ]
        }
      ],
      "source": [
        "# code here\n",
        "np.random.seed(8)\n",
        "A=np.random.randint(100,700,size=100)\n",
        "print(A,\"\\n\")\n",
        "\n",
        "Clipped_version=np.clip(A,100,200)\n",
        "print(\"Clipped\\n [100-200]\",Clipped_version)\n",
        "\n",
        "sorted=np.sort(Clipped_version)\n",
        "print(\"Sorted:\\n\",sorted)\n",
        "\n",
        "# it gives the full array of cummulative sum\n",
        "cummulative_sum=np.cumsum(sorted)\n",
        "print(\"Cummulative_sum\\n\",cummulative_sum)"
      ]
    },
    {
      "cell_type": "markdown",
      "metadata": {
        "id": "cXj90Susl4-I"
      },
      "source": [
        "### `Q-9:` You are given a array ($arr ∈ [0, 1]$). First you have round off the elements upto 3 decimal places and compare that\n",
        "- 0th percentile == minimum value of the array\n",
        "- 100th percentile == maximum value of the array\n",
        "- also find the difference betwen 51th percenile and 50th percentile values"
      ]
    },
    {
      "cell_type": "code",
      "execution_count": 205,
      "metadata": {
        "id": "SgBEHodgl7Lo"
      },
      "outputs": [
        {
          "name": "stdout",
          "output_type": "stream",
          "text": [
            "Rounded array: [0.893 0.332 0.821 0.042 0.108 0.595 0.53  0.419 0.335 0.623 0.438 0.736\n",
            " 0.518 0.579 0.645]\n",
            "0th percentile == min: True\n",
            "100th percentile == max: True\n",
            "51st - 50th percentile = 0.006859999999999977\n"
          ]
        }
      ],
      "source": [
        "\n",
        "\n",
        "np.random.seed(6)\n",
        "arr = np.random.random(size=15)\n",
        "\n",
        "# Round to 3 decimal places\n",
        "arr = np.round(arr, 3)\n",
        "print(\"Rounded array:\", arr)\n",
        "\n",
        "# Check 0th percentile == min\n",
        "print(\"0th percentile == min:\", np.percentile(arr, 0) == np.min(arr))\n",
        "\n",
        "# Check 100th percentile == max\n",
        "print(\"100th percentile == max:\", np.percentile(arr, 100) == np.max(arr))\n",
        "\n",
        "# Difference between 51st and 50th percentiles\n",
        "diff = np.percentile(arr, 51) - np.percentile(arr, 50)\n",
        "print(\"51st - 50th percentile =\", diff)\n"
      ]
    }
  ],
  "metadata": {
    "colab": {
      "provenance": []
    },
    "kernelspec": {
      "display_name": "Python 3",
      "name": "python3"
    },
    "language_info": {
      "codemirror_mode": {
        "name": "ipython",
        "version": 3
      },
      "file_extension": ".py",
      "mimetype": "text/x-python",
      "name": "python",
      "nbconvert_exporter": "python",
      "pygments_lexer": "ipython3",
      "version": "3.13.5"
    }
  },
  "nbformat": 4,
  "nbformat_minor": 0
}
