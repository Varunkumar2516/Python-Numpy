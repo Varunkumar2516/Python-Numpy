{
 "cells": [
  {
   "cell_type": "markdown",
   "id": "4a32a2a6",
   "metadata": {},
   "source": [
    "__DAY 2__"
   ]
  },
  {
   "cell_type": "markdown",
   "id": "9f2d94da",
   "metadata": {},
   "source": [
    "### Basic Operations On Numpy_Array"
   ]
  },
  {
   "cell_type": "code",
   "execution_count": 2,
   "id": "f130ab10",
   "metadata": {},
   "outputs": [],
   "source": [
    "import numpy as np"
   ]
  },
  {
   "cell_type": "code",
   "execution_count": 52,
   "id": "788404da",
   "metadata": {},
   "outputs": [
    {
     "name": "stdout",
     "output_type": "stream",
     "text": [
      "[6 7 8]\n",
      "[-4 -3 -2]\n",
      "[ 5 10 15]\n",
      "[0.2 0.4 0.6]\n",
      "[False  True  True]\n",
      "[5 7 9]\n",
      "[-3 -3 -3]\n",
      "[ 4 10 18]\n",
      "[0.25 0.4  0.5 ]\n"
     ]
    }
   ],
   "source": [
    "x = np.array([1, 2, 3])\n",
    "y = np.array([4, 5, 6])\n",
    "\n",
    "# scalar Operations:A scalar is just a single number (like 5). \n",
    "# When We perform operations between a NumPy array and a scalar, NumPy broadcasts the scalar to all elements.\n",
    "print(x + 5)        # [6 7 8]\n",
    "print(x-5)          # [-4 -3 -2]\n",
    "print(x*5)          # [ 5 10 15]\n",
    "print(x/5)          # [0.2 0.4 0.6]\n",
    "\n",
    "# Relation Operations: x>1\n",
    "# Compares each element of x with 1.\n",
    "# Returns a Boolean array:\n",
    "\"\"\"\n",
    "1 > 1 → False\n",
    "\n",
    "2 > 1 → True\n",
    "\n",
    "3 > 1 → True\"\"\"\n",
    "print(x>1)           #[False  True  True]\n",
    "\n",
    "# vector Operations:These are operations between two arrays of the same shape (x and y). Each element from x is combined with the corresponding element in y.\n",
    "\n",
    "print(x+y)           #[5 7 9]\n",
    "print(x-y)            #[-3 -3 -3]\n",
    "print(x*y)           #[ 4 10 18]\n",
    "print(x/y)            #[0.25 0.4  0.5 ]"
   ]
  },
  {
   "cell_type": "code",
   "execution_count": 53,
   "id": "bb5a57aa",
   "metadata": {},
   "outputs": [
    {
     "name": "stdout",
     "output_type": "stream",
     "text": [
      "[[ 0  1  2  3]\n",
      " [ 4  5  6  7]\n",
      " [ 8  9 10 11]] \n",
      "\n",
      " [[12 13 14 15]\n",
      " [16 17 18 19]\n",
      " [20 21 22 23]]\n",
      "[[ 2  3  4  5]\n",
      " [ 6  7  8  9]\n",
      " [10 11 12 13]]\n",
      "[[-2 -1  0  1]\n",
      " [ 2  3  4  5]\n",
      " [ 6  7  8  9]]\n",
      "[[  0   1   4   9]\n",
      " [ 16  25  36  49]\n",
      " [ 64  81 100 121]]\n",
      "[[0.  0.5 1.  1.5]\n",
      " [2.  2.5 3.  3.5]\n",
      " [4.  4.5 5.  5.5]]\n",
      "[[12 14 16 18]\n",
      " [20 22 24 26]\n",
      " [28 30 32 34]]\n",
      "[[  0  13  28  45]\n",
      " [ 64  85 108 133]\n",
      " [160 189 220 253]]\n"
     ]
    }
   ],
   "source": [
    "# another Example\n",
    "x = np.arange(12).reshape(3,4)\n",
    "y = np.arange(12,24).reshape(3,4)\n",
    "print(x,\"\\n\\n\",y)\n",
    "\n",
    "# Scalar Operations   \n",
    "print(x + 2)\n",
    "print(x - 2 )   \n",
    "print(x ** 2)      \n",
    "print(x / 2)     \n",
    "\n",
    "\n",
    "#Vector Operations\n",
    "print(x + y)       \n",
    "print(x * y) \n",
    " "
   ]
  },
  {
   "cell_type": "markdown",
   "id": "b92914af",
   "metadata": {},
   "source": [
    "# Array Function"
   ]
  },
  {
   "cell_type": "code",
   "execution_count": 54,
   "id": "afad8f28",
   "metadata": {},
   "outputs": [
    {
     "name": "stdout",
     "output_type": "stream",
     "text": [
      "[[81. 48. 39.]\n",
      " [84. 34. 65.]\n",
      " [37. 96. 14.]]\n"
     ]
    }
   ],
   "source": [
    "# Array Functions\n",
    "A=np.random.random((3,3))\n",
    "A=np.round(A*100)\n",
    "print(A)"
   ]
  },
  {
   "cell_type": "code",
   "execution_count": 55,
   "id": "63697027",
   "metadata": {},
   "outputs": [
    {
     "name": "stdout",
     "output_type": "stream",
     "text": [
      "96.0\n",
      "14.0\n",
      "498.0\n",
      "1399791705661440.0\n"
     ]
    }
   ],
   "source": [
    "# max/min/sum/prod\n",
    "\n",
    "#1. max\n",
    "max=np.max(A)\n",
    "print(max)\n",
    "\n",
    "#2 min\n",
    "min=np.min(A)\n",
    "print(min)\n",
    "\n",
    "#3 sum\n",
    "sum=np.sum(A)\n",
    "print(sum)\n",
    "\n",
    "#4 prod\n",
    "product=np.prod(A)\n",
    "print(product)"
   ]
  },
  {
   "cell_type": "code",
   "execution_count": 56,
   "id": "a27da53d",
   "metadata": {},
   "outputs": [
    {
     "name": "stdout",
     "output_type": "stream",
     "text": [
      "\n",
      " Array ::\n",
      "[[81. 48. 39.]\n",
      " [84. 34. 65.]\n",
      " [37. 96. 14.]]\n",
      "\n",
      "Columns Maximum [84. 96. 65.]\n",
      "Row Maximum [81. 84. 96.]\n",
      "\n",
      "Columns Minimum [37. 34. 14.]\n",
      "Row Minimum [39. 34. 14.]\n",
      "\n",
      "Columns product [251748. 156672.  35490.]\n",
      "Row product [151632. 185640.  49728.]\n",
      "\n",
      "Columns sum [202. 178. 118.]\n",
      "Row sum [168. 183. 147.]\n"
     ]
    }
   ],
   "source": [
    "# In specific Colums or rows \n",
    "# use axis=0 for colums and axis=1 for rows\n",
    "print(f\"\\n Array ::\\n{A}\\n\")\n",
    "max=np.max(A,axis=0)\n",
    "print(\"Columns Maximum\",max)\n",
    "max=np.max(A,axis=1)\n",
    "print(\"Row Maximum\",max)\n",
    "\n",
    "Min=np.min(A,axis=0)\n",
    "print(\"\\nColumns Minimum\",Min)\n",
    "Min=np.min(A,axis=1)\n",
    "print(\"Row Minimum\",Min)\n",
    "\n",
    "\n",
    "prod=np.prod(A,axis=0)\n",
    "print(\"\\nColumns product\",prod)\n",
    "prod=np.prod(A,axis=1)\n",
    "print(\"Row product\",prod)\n",
    "\n",
    "sum=np.sum(A,axis=0)\n",
    "print(\"\\nColumns sum\",sum)\n",
    "sum=np.sum(A,axis=1)\n",
    "print(\"Row sum\",sum)\n"
   ]
  },
  {
   "cell_type": "code",
   "execution_count": 57,
   "id": "94dc4614",
   "metadata": {},
   "outputs": [
    {
     "name": "stdout",
     "output_type": "stream",
     "text": [
      "[12 15 20 22 24 30]\n",
      "Mean: 20.5\n",
      "Median: 21.0\n",
      "Standard Deviation: 5.880759588125784\n",
      "Variance: 34.583333333333336\n"
     ]
    }
   ],
   "source": [
    "# Statistics Related Computations\n",
    "\"\"\"NumPy allows fast computation of common statistics useful in data science and machine learning.\"\"\"\n",
    "\n",
    "data = np.array([12, 15, 20, 22, 24, 30])\n",
    "print(data)\n",
    "print(\"Mean:\", np.mean(data))          # 20.5\n",
    "print(\"Median:\", np.median(data))      # 21.0\n",
    "print(\"Standard Deviation:\", np.std(data))  # ~5.9\n",
    "print(\"Variance:\", np.var(data))       # ~34.8"
   ]
  },
  {
   "cell_type": "code",
   "execution_count": 58,
   "id": "b894feeb",
   "metadata": {},
   "outputs": [
    {
     "name": "stdout",
     "output_type": "stream",
     "text": [
      "[[0.87008726 0.47360805]\n",
      " [0.80091075 0.52047748]]\n",
      "[[0.93278468 0.68819187]\n",
      " [0.89493617 0.72144125]]\n",
      "[[2.38711914 1.60577747]\n",
      " [2.22756877 1.68283098]]\n",
      "[[-0.13916178 -0.74737521]\n",
      " [-0.22200576 -0.65300866]]\n",
      "[[1. 0.]\n",
      " [1. 1.]]\n",
      "[[0. 0.]\n",
      " [0. 0.]]\n",
      "[[1. 1.]\n",
      " [1. 1.]]\n"
     ]
    }
   ],
   "source": [
    "# Universal Functions\n",
    "\"\"\"ufuncs (universal functions) operate element-wise and are optimized in C, making them super fast.\"\"\"\n",
    "\n",
    "a = np.random.rand(2,2)\n",
    "print(a)\n",
    "print(np.sqrt(a)) # square Root of all elements    \n",
    "print(np.exp(a))  # Exponent of all Elements\n",
    "print(np.log(a))  # Log of all Elements \n",
    "print(np.round(a))   #Rounds to the nearest integer (or to a specified number of decimal places).\n",
    "print(np.floor(a))    #np.floor() – Round down(Rounds down to the nearest whole number (towards negative infinity).)\n",
    "print(np.ceil(a))    #np.ceil() – Round up(Rounds up to the nearest whole number (towards positive infinity).)"
   ]
  },
  {
   "cell_type": "code",
   "execution_count": 59,
   "id": "2f2aaa78",
   "metadata": {},
   "outputs": [
    {
     "name": "stdout",
     "output_type": "stream",
     "text": [
      "[[ 0  1  2]\n",
      " [ 3  4  5]\n",
      " [ 6  7  8]\n",
      " [ 9 10 11]] \n",
      "\n",
      " [[12 13 14 15]\n",
      " [16 17 18 19]\n",
      " [20 21 22 23]]\n"
     ]
    },
    {
     "data": {
      "text/plain": [
       "array([[ 56,  59,  62,  65],\n",
       "       [200, 212, 224, 236],\n",
       "       [344, 365, 386, 407],\n",
       "       [488, 518, 548, 578]])"
      ]
     },
     "execution_count": 59,
     "metadata": {},
     "output_type": "execute_result"
    }
   ],
   "source": [
    "# .dot product of matrix\n",
    "A1=np.arange(0,12).reshape(4,3)\n",
    "A2=np.arange(12,24).reshape(3,4)\n",
    "print(A1,'\\n\\n',A2)\n",
    "np.dot(A1,A2)"
   ]
  },
  {
   "cell_type": "code",
   "execution_count": null,
   "id": "ef358447",
   "metadata": {},
   "outputs": [
    {
     "name": "stdout",
     "output_type": "stream",
     "text": [
      "[[0.93763523 0.67204106 0.26669688 0.56406436]\n",
      " [0.95693298 0.11348592 0.27222936 0.08205775]\n",
      " [0.76527058 0.02168872 0.13725135 0.26062867]\n",
      " [0.87108257 0.17941007 0.43327873 0.32511791]]\n",
      "[[0.98493331 0.89658126 0.27111339 0.47319005]\n",
      " [0.47975387 0.50839039 0.96725931 0.09995852]\n",
      " [0.03965046 0.48370646 0.45825901 0.23526284]\n",
      " [0.05887028 0.12384442 0.85675525 0.39966737]]\n",
      "[[-0.23832062 -0.05912959  1.49489033 -1.15855523]\n",
      " [ 0.72864179  0.22063566 -1.20546017  1.17720756]\n",
      " [ 0.91476442 -0.50437277 -0.73624645  0.92785877]\n",
      " [ 0.49764578  1.72888385  0.73452906 -2.38828008]]\n",
      "[[71 15 78 35]\n",
      " [52  7 51 51]\n",
      " [29 55 11 67]\n",
      " [77 55 88 68]]\n",
      "[[20 40 30 20]\n",
      " [20 30 40 30]\n",
      " [30 20 10 40]\n",
      " [20 40 20 30]]\n",
      "[10, 30, 20, 40]\n"
     ]
    }
   ],
   "source": [
    "# Random Functions: Provides tools for random number generation, simulations, and probabilistic tasks.\n",
    "\n",
    "# Uniform Distribution [0.0,1.0)\n",
    "# 1. np.random.random(size=(n,m)):\n",
    "\"\"\"Returns a n*m NumPy array filled with random float values \n",
    "between 0.0 and 1.0 (uniform distribution)[0.0, 1.0)..\n",
    "it takes a tuple for shape.\"\"\"\n",
    "A=np.random.random(size=(4,4))\n",
    "np.random.random((4,4)) # both can work but requires always tuple: (n,m)\n",
    "print(A)\n",
    "\n",
    "\n",
    "#2 .np.random.rand(n,m)\n",
    "\"\"\"Returns a n*m NumPy array filled with random float values \n",
    "between 0.0 and 1.0 (uniform distribution).\n",
    "it takes a two values  for shape.\n",
    "size =(n,m) not work here\"\"\"\n",
    "B=np.random.rand(4,4)\n",
    "print(B)\n",
    "\n",
    "\n",
    "\n",
    "# normal Distribution(Gaussian) (-∞, ∞)\n",
    "#3 .np.random.randn(n)\n",
    "\"\"\"\n",
    "Generates random floats from a standard normal distribution(-∞, ∞)\n",
    "(mean = 0, standard deviation = 1).\n",
    "\n",
    "This is useful when simulating data that follows a bell curve (Gaussian distribution).\n",
    "it takes a two values for shape\"\"\"\n",
    "\n",
    "C=np.random.randn(4,4)\n",
    "print(C)\n",
    "\n",
    "\n",
    "#Discrete uniform  : [low, high)\n",
    "# 4. .np.random.randint(low,high,size=(n,m))\n",
    "D=np.random.randint(0,100,size=(4,4))\n",
    "print(D)\n",
    "\n",
    "\n",
    "\n",
    "# 5. np.random.choice(array, size, replace=True, p=probabilities)\n",
    "\"\"\"Selects random elements from a 1D array or list.\n",
    "\n",
    "Bootstrap with Replacement\n",
    "replace=True: sampling with replacement(by default): \n",
    "if it is true we can generate the aray of any size\n",
    "but replace=False , only can generate the array size or < array size\n",
    "p: probabilities for each element (optional)\"\"\"\n",
    "\n",
    "E = [10, 20, 30, 40]\n",
    "F=np.random.choice(E, size=(4,4))\n",
    "print(F)\n",
    "\n",
    "\n",
    "\n",
    "# 6. np.random.shuffle(array)\n",
    "\"\"\"Randomly shuffles the elements of an array in-place (only along the first axis).\"\"\"\n",
    "E = [10, 20, 30, 40]\n",
    "# Permanenet Operation ,also changes to Original\n",
    "G=np.random.shuffle(E)\n",
    "print(E)\n",
    "\n",
    "\n"
   ]
  },
  {
   "cell_type": "code",
   "execution_count": null,
   "id": "d8d00e09",
   "metadata": {},
   "outputs": [
    {
     "name": "stdout",
     "output_type": "stream",
     "text": [
      "[0.5488135  0.71518937 0.60276338]\n"
     ]
    },
    {
     "data": {
      "text/plain": [
       "array([[67,  9, 83, 21],\n",
       "       [36, 87, 70, 88],\n",
       "       [88, 12, 58, 65],\n",
       "       [39, 87, 46, 88]], dtype=int32)"
      ]
     },
     "execution_count": 3,
     "metadata": {},
     "output_type": "execute_result"
    }
   ],
   "source": [
    "\n",
    "# 7. np.random.seed(number)\n",
    "\"\"\"sets the starting point (called a seed) for NumPps random number generator.\n",
    "Because by default, random numbers change every time you run your script.\n",
    "But if you use np.random.seed(0),  so you'll get the same output every time.\n",
    "Change the seed → change the output (but still fixed) for next run \n",
    "WE get the same Numbers on DIfferent Devices , with same constant 0 ,1, 2 or so on\n",
    "\"\"\"\n",
    "np.random.seed(0)\n",
    "print(np.random.rand(3))\n",
    "# Will always return the same 3 numbers every run\n",
    "\n",
    "\n",
    "np.random.randint(0,100,size=(4,4))\n"
   ]
  },
  {
   "cell_type": "markdown",
   "id": "48fe8275",
   "metadata": {},
   "source": [
    "__Simple Task to perfomr ::__ \n",
    "\n",
    "1.Create a 4×4 matrix of random integers from 0 to 100.\n",
    "\n",
    "2/Find the sum, mean and std of each column.\n",
    "\n",
    "3.Use np.sqrt() on only even numbers in an array."
   ]
  },
  {
   "cell_type": "code",
   "execution_count": 62,
   "id": "a8420202",
   "metadata": {},
   "outputs": [
    {
     "name": "stdout",
     "output_type": "stream",
     "text": [
      "Random Array from 0,100\n",
      " [[81 37 25 77]\n",
      " [72  9 20 80]\n",
      " [69 79 47 64]\n",
      " [82 99 88 49]]\n",
      "Sum : [304 224 180 270] \n",
      "Mean : [76.  56.  45.  67.5] \n",
      "Standard Deviation:  [ 5.61248608 35.17101079 26.82349716 12.25765067]\n",
      "[[False False False False]\n",
      " [ True False  True  True]\n",
      " [False False False  True]\n",
      " [ True False  True False]]\n",
      "New Array With Square Root of only Even Elements :\n",
      " [[81 37 25 77]\n",
      " [ 8  9  4  8]\n",
      " [69 79 47  8]\n",
      " [ 9 99  9 49]]\n"
     ]
    }
   ],
   "source": [
    "import numpy as np\n",
    "#1 Crete the 4*4 array with (0-100 )Elements\n",
    "myArray=np.random.randint(0,101,size=(4,4))\n",
    "print(\"Random Array from 0,100\\n\",myArray)\n",
    "\n",
    "#2 axis=0 for colums\n",
    "sum=np.sum(myArray,axis=0)\n",
    "mean=np.mean(myArray,axis=0)\n",
    "standard_deviation=np.std(myArray,axis=0)\n",
    "print(\"Sum :\",sum,\"\\nMean :\",mean,\"\\nStandard Deviation: \",standard_deviation)\n",
    "\n",
    "#3 : Sqrt() the Even Elements LeaveOther Elements as they are\n",
    "# creating the Bool Matrix with using the COndition\n",
    "Even_Bool=myArray%2==0\n",
    "print(Even_Bool)\n",
    "# create the Copy of the array to not change the original array\n",
    "copyarray=myArray.copy()\n",
    "# Using Boolean Indexing, it only gives tthe True Values and apply the Operation on it \n",
    "# copyarray[Even_bool] =>> this line give the only those elements of Numpy array that are true in bool format\n",
    "copyarray[Even_Bool]=np.sqrt(copyarray[Even_Bool])\n",
    "print(\"New Array With Square Root of only Even Elements :\\n\",copyarray)"
   ]
  },
  {
   "cell_type": "code",
   "execution_count": 63,
   "id": "555875c5",
   "metadata": {},
   "outputs": [],
   "source": [
    "# round \n",
    "A=np.random.random(size=(4,4)) * 100\n",
    "#using with astype()\n",
    "B=A.astype(np.int32)\n",
    "\n",
    "#using with ro"
   ]
  },
  {
   "cell_type": "markdown",
   "id": "b5c5d49c",
   "metadata": {},
   "source": [
    "# Indexing And Slicing "
   ]
  },
  {
   "cell_type": "code",
   "execution_count": 64,
   "id": "5e22f89e",
   "metadata": {},
   "outputs": [
    {
     "name": "stdout",
     "output_type": "stream",
     "text": [
      "10\n",
      "40\n",
      "2\n"
     ]
    }
   ],
   "source": [
    "# Array Indexing\n",
    "import numpy as np\n",
    "\n",
    "#1D Array\n",
    "a = np.array([10, 20, 30, 40])\n",
    "print(a[0])     # 10\n",
    "print(a[-1])    # 40\n",
    "\n",
    "#2D Array :Matrix\n",
    "b = np.array([[1, 2, 3], [4, 5, 6]])\n",
    "print(b[0, 1])  # 2 (row 0, column 1)\n"
   ]
  },
  {
   "cell_type": "code",
   "execution_count": 65,
   "id": "106baa3a",
   "metadata": {},
   "outputs": [
    {
     "name": "stdout",
     "output_type": "stream",
     "text": [
      "3D \n",
      " [[[5 8]\n",
      "  [9 5]]\n",
      "\n",
      " [[0 0]\n",
      "  [1 7]]]\n",
      "9\n",
      "7\n",
      "1\n"
     ]
    }
   ],
   "source": [
    "# 3D Array :Tensor\n",
    "np.random.seed(1)\n",
    "a3=np.random.randint(0,10,size=(2,2,2))\n",
    "print(\"3D \\n\",a3)\n",
    "\n",
    "# to print 9\n",
    "print(a3[0,1,0])\n",
    "\n",
    "# to print 7\n",
    "print(a3[1,1,1])\n",
    "\n",
    "# to print 1\n",
    "print(a3[1,1,0])"
   ]
  },
  {
   "cell_type": "code",
   "execution_count": 66,
   "id": "67602f82",
   "metadata": {},
   "outputs": [
    {
     "name": "stdout",
     "output_type": "stream",
     "text": [
      "[10 20 30 40 50]\n",
      "[20 30 40]\n",
      "[10 30 50]\n",
      "[50 40 30 20 10]\n"
     ]
    }
   ],
   "source": [
    "# Array Slicing :Slicing means selecting a subsection of an array using the syntax:\n",
    "\"\"\"\n",
    "array[start:stop:step]\n",
    "\"\"\"\n",
    "# 1D : Similar to List and string \n",
    "a = np.array([10, 20, 30, 40, 50])\n",
    "print(a)\n",
    "\n",
    "print(a[1:4])   # [20 30 40]\n",
    "print(a[::2])   \n",
    "print(a[::-1])  # Reverse\n"
   ]
  },
  {
   "cell_type": "code",
   "execution_count": 67,
   "id": "735ba539",
   "metadata": {},
   "outputs": [
    {
     "name": "stdout",
     "output_type": "stream",
     "text": [
      "[[5 0 3 3]\n",
      " [7 9 3 5]\n",
      " [2 4 7 6]\n",
      " [8 8 1 6]]\n",
      "1st Row\n",
      "[5 0 3 3]\n",
      "3rd row\n",
      "[2 4 7 6]\n",
      "1st Column\n",
      "[5 7 2 8]\n",
      "3rd Column\n",
      "[3 3 7 1]\n",
      "Specific part :\n",
      " arr2D[row_start:row_stop, col_start:col_stop]\n",
      "[[4 7]\n",
      " [8 1]]\n",
      "[[0 3 3]\n",
      " [9 3 5]\n",
      " [4 7 6]\n",
      " [8 1 6]]\n",
      "[[5 3]\n",
      " [8 6]]\n",
      "[[0 3]\n",
      " [8 6]]\n",
      "[7 5]\n",
      "[[9 3 5]\n",
      " [4 7 6]]\n"
     ]
    }
   ],
   "source": [
    "# TO stop new random values\n",
    "np.random.seed(0)\n",
    "# 2D \n",
    "\n",
    "b = np.random.randint(0,10,size=(4,4))\n",
    "print(b)\n",
    "\"\"\"\n",
    "[[5 0 3 3]\n",
    " [7 9 3 5]\n",
    " [2 4 7 6]\n",
    " [8 8 1 6]]\n",
    " \"\"\"\n",
    "\n",
    "\n",
    "# Only 1st row \n",
    "print(\"1st Row\")\n",
    "print(b[0,:])      # (row 1, all columns)\n",
    "# 3rd row \n",
    "print(\"3rd row\")\n",
    "print(b[2, :])     # (row 3, all columns)\n",
    "\n",
    "\n",
    "# only 1st column\n",
    "print(\"1st Column\")\n",
    "print(b[:,0])\n",
    "\n",
    "# only 3rd column\n",
    "print(\"3rd Column\")\n",
    "print(b[:,2])\n",
    "\n",
    "\n",
    "print(\"Specific part :\\n arr2D[row_start:row_stop, col_start:col_stop]\")\n",
    "\"arr2D[row_start:row_stop, col_start:col_stop]\"\n",
    "print(b[2:4,1:3])\n",
    "\n",
    "print(b[:,1:])\n",
    "\n",
    "print(b[::3,::3])\n",
    "\n",
    "\n",
    "print(b[::3,1::2])\n",
    "\n",
    "print(b[1,::3])\n",
    "\n",
    "\n",
    "print(b[1:3,1:])"
   ]
  },
  {
   "cell_type": "code",
   "execution_count": 68,
   "id": "c203f5e3",
   "metadata": {},
   "outputs": [
    {
     "name": "stdout",
     "output_type": "stream",
     "text": [
      "[[10 20 30]\n",
      " [40 50 60]\n",
      " [70 80 90]]\n",
      "[40 50 60]\n",
      "[30 60 90]\n",
      "[[20 30]\n",
      " [50 60]]\n",
      "[10 50 90]\n"
     ]
    }
   ],
   "source": [
    "# QUestion \n",
    "arr = np.array([[10, 20, 30],\n",
    "                 [40, 50, 60],\n",
    "                 [70, 80, 90]])\n",
    "\"\"\"\n",
    "Try to get:\n",
    "\n",
    "1.Second row\n",
    "\n",
    "2.Last column\n",
    "\n",
    "3.Top-left 2x2 subarray\n",
    "\n",
    "4.A diagonal \"\"\"\n",
    "\n",
    "print(arr)\n",
    "#1\n",
    "print(arr[1,:])\n",
    "\n",
    "#2 \n",
    "print(arr[:,2])\n",
    "\n",
    "#3\n",
    "print(arr[0:2,1:])\n",
    "\n",
    "#4\n",
    "\"\"\"\n",
    "indices = np.arange(3)  # [0, 1, 2]\n",
    "arr[indices, indices]   # → [arr[0,0], arr[1,1], arr[2,2]]\n",
    "\"\"\"\n",
    "print(arr[np.arange(3),np.arange(3)])"
   ]
  },
  {
   "cell_type": "code",
   "execution_count": 69,
   "id": "6f24ff59",
   "metadata": {},
   "outputs": [
    {
     "name": "stdout",
     "output_type": "stream",
     "text": [
      "[[[ 0  1  2]\n",
      "  [ 3  4  5]\n",
      "  [ 6  7  8]]\n",
      "\n",
      " [[ 9 10 11]\n",
      "  [12 13 14]\n",
      "  [15 16 17]]\n",
      "\n",
      " [[18 19 20]\n",
      "  [21 22 23]\n",
      "  [24 25 26]]]\n",
      "1.\n",
      " [[ 9 10 11]\n",
      " [12 13 14]\n",
      " [15 16 17]]\n",
      "2.\n",
      " [[[ 9 10 11]\n",
      "  [12 13 14]\n",
      "  [15 16 17]]\n",
      "\n",
      " [[18 19 20]\n",
      "  [21 22 23]\n",
      "  [24 25 26]]]\n",
      "3.\n",
      " [[[ 0  1  2]\n",
      "  [ 3  4  5]\n",
      "  [ 6  7  8]]\n",
      "\n",
      " [[18 19 20]\n",
      "  [21 22 23]\n",
      "  [24 25 26]]]\n"
     ]
    }
   ],
   "source": [
    "# 3D Slicing:\n",
    "a=np.arange(27).reshape(3,3,3)\n",
    "print(a)\n",
    "\"\"\"\n",
    "arr3D[start_depth:end_depth, start_row:end_row, start_col:end_col]\n",
    "\"\"\"\n",
    "#1 print 2nd sub 2D array\n",
    "print(\"1.\\n\",a[1])\n",
    "\n",
    "#2 print last two sub 2D array\n",
    "print(\"2.\\n\",a[1:,])\n",
    "\n",
    "#3 print Alternate sub 2D arrays\n",
    "print(\"3.\\n\",a[::2])"
   ]
  },
  {
   "cell_type": "code",
   "execution_count": 70,
   "id": "e4ef4cd2",
   "metadata": {},
   "outputs": [
    {
     "name": "stdout",
     "output_type": "stream",
     "text": [
      "4. \n",
      " [3 4 5]\n",
      "5.\n",
      " [10 13 16]\n",
      "6.\n",
      " [[22 23]\n",
      " [25 26]]\n",
      "7.\n",
      " [[ 0  2]\n",
      " [18 20]]\n"
     ]
    }
   ],
   "source": [
    "#print 1st 2d array : 2nd row\n",
    "print(\"4. \\n\",a[0,1])\n",
    "\n",
    "#print 2nd 2d array:2nd column\n",
    "print(\"5.\\n\",a[1,:,1])\n",
    "\n",
    "#print 3nd 2d array:left bottom 2*2 array\n",
    "print(\"6.\\n\",a[2,1:,1:])\n",
    "\n",
    "#print 1st 2d array and 3rd 2d array :top left and right element\n",
    "print(\"7.\\n\",a[::2,0,::2])"
   ]
  },
  {
   "cell_type": "code",
   "execution_count": 71,
   "id": "08290ce1",
   "metadata": {},
   "outputs": [],
   "source": [
    "#Iterting Numpy array\n",
    "A1=np.arange(12)\n",
    "A2=np.arange(12).reshape(4,3)\n",
    "A3=np.arange(12).reshape(3,2,2)"
   ]
  },
  {
   "cell_type": "code",
   "execution_count": 72,
   "id": "c291f131",
   "metadata": {},
   "outputs": [
    {
     "name": "stdout",
     "output_type": "stream",
     "text": [
      "0\n",
      "1\n",
      "2\n",
      "3\n",
      "4\n",
      "5\n",
      "6\n",
      "7\n",
      "8\n",
      "9\n",
      "10\n",
      "11\n"
     ]
    }
   ],
   "source": [
    "# 1d :print each element one by one\n",
    "\n",
    "for i in A1:\n",
    "    print(i)\n"
   ]
  },
  {
   "cell_type": "code",
   "execution_count": 73,
   "id": "d7ac28e5",
   "metadata": {},
   "outputs": [
    {
     "name": "stdout",
     "output_type": "stream",
     "text": [
      "[0 1 2]\n",
      "[3 4 5]\n",
      "[6 7 8]\n",
      "[ 9 10 11]\n"
     ]
    }
   ],
   "source": [
    "#2D : print the each row one by one\n",
    "for i in A2:\n",
    "    print(i)"
   ]
  },
  {
   "cell_type": "code",
   "execution_count": 74,
   "id": "872735e5",
   "metadata": {},
   "outputs": [
    {
     "name": "stdout",
     "output_type": "stream",
     "text": [
      "[[0 1]\n",
      " [2 3]]\n",
      "[[4 5]\n",
      " [6 7]]\n",
      "[[ 8  9]\n",
      " [10 11]]\n"
     ]
    }
   ],
   "source": [
    "#3D :print the 2D array one by one\n",
    "for i in A3:\n",
    "    print(i)"
   ]
  },
  {
   "cell_type": "code",
   "execution_count": 75,
   "id": "44633c7a",
   "metadata": {},
   "outputs": [
    {
     "name": "stdout",
     "output_type": "stream",
     "text": [
      "0\n",
      "1\n",
      "2\n",
      "3\n",
      "4\n",
      "5\n",
      "6\n",
      "7\n",
      "8\n",
      "9\n",
      "10\n",
      "11\n"
     ]
    }
   ],
   "source": [
    "# to print always Elements: WE use The nd.nditer() function\n",
    "# it convert the n dimensional array to 1d and print the Elements one by one \n",
    "for i in np.nditer(A3):\n",
    "    print(i)"
   ]
  },
  {
   "cell_type": "code",
   "execution_count": 76,
   "id": "b8bc1fdc",
   "metadata": {},
   "outputs": [
    {
     "name": "stdout",
     "output_type": "stream",
     "text": [
      "[[ 0  1  2]\n",
      " [ 3  4  5]\n",
      " [ 6  7  8]\n",
      " [ 9 10 11]]\n",
      "Transpose\n",
      " [[ 0  3  6  9]\n",
      " [ 1  4  7 10]\n",
      " [ 2  5  8 11]]\n",
      "[[ 0  3  6  9]\n",
      " [ 1  4  7 10]\n",
      " [ 2  5  8 11]]\n",
      "[[ 0  3  6  9]\n",
      " [ 1  4  7 10]\n",
      " [ 2  5  8 11]]\n",
      "[[ 0  3  6  9]\n",
      " [ 1  4  7 10]\n",
      " [ 2  5  8 11]]\n"
     ]
    }
   ],
   "source": [
    "# Transpose(): CHange the rows into columns and vice versa\n",
    "# it does not change the original array just return the new array\n",
    "print(A2)\n",
    "print(\"Transpose\\n\",A2.transpose())\n",
    "\n",
    "c=A2.transpose()\n",
    "print(c)\n",
    "\n",
    "d=np.transpose(A2)\n",
    "print(d)\n",
    "\n",
    "# simle method array.T\n",
    "print(A2.T)\n"
   ]
  },
  {
   "cell_type": "code",
   "execution_count": null,
   "id": "3bce9635",
   "metadata": {},
   "outputs": [
    {
     "name": "stdout",
     "output_type": "stream",
     "text": [
      "[[[ 0  1]\n",
      "  [ 2  3]]\n",
      "\n",
      " [[ 4  5]\n",
      "  [ 6  7]]\n",
      "\n",
      " [[ 8  9]\n",
      "  [10 11]]]\n",
      "1D format\n",
      " [ 0  1  2  3  4  5  6  7  8  9 10 11]\n"
     ]
    }
   ],
   "source": [
    "# ravel  : convert n dimensional array into 1 d\n",
    "# it does not change the original array just return the new array\n",
    "print(A3)\n",
    "print(\"1D format\\n\",(A3.ravel()))\n",
    "\n",
    "\n",
    "# to get the size of particular index \n",
    "#  np.unravel_index(index  , x.shape)\n",
    "# location=np.unravel_index(4,A3.shape)\n",
    "# print(location)"
   ]
  },
  {
   "cell_type": "markdown",
   "id": "fc44be04",
   "metadata": {},
   "source": [
    "# Stacking\n",
    "\n",
    "Stacking means joining two or more arrays along a new or existing axis.\n",
    "\n",
    "Think of stacking like:\n",
    "\n",
    "- Vertical stacking → stacking pages on top of each other\n",
    "\n",
    "- Horizontal stacking → laying bricks side by side\n",
    "\n",
    "- Depth stacking → stacking slices into layers\n",
    "\n"
   ]
  },
  {
   "cell_type": "code",
   "execution_count": 78,
   "id": "bacf55df",
   "metadata": {},
   "outputs": [
    {
     "data": {
      "text/plain": [
       "'\\nnp.hstack()\\t      Stack horizontally (column-wise)\\nnp.vstack()\\t      Stack vertically (row-wise)\\nnp.dstack()\\t      Stack depth-wise (along 3rd axis)\\nnp.stack()\\t      Stack along any axis\\nnp.concatenate()\\tJoin arrays along existing axis\\n\\n'"
      ]
     },
     "execution_count": 78,
     "metadata": {},
     "output_type": "execute_result"
    }
   ],
   "source": [
    "\"\"\"\n",
    "np.hstack()\t      Stack horizontally (column-wise)\n",
    "np.vstack()\t      Stack vertically (row-wise)\n",
    "np.dstack()\t      Stack depth-wise (along 3rd axis)\n",
    "np.stack()\t      Stack along any axis\n",
    "np.concatenate()\tJoin arrays along existing axis\n",
    "\n",
    "\"\"\""
   ]
  },
  {
   "cell_type": "code",
   "execution_count": 79,
   "id": "2ed961d7",
   "metadata": {},
   "outputs": [],
   "source": [
    "a4=np.arange(0,12).reshape(3,4)\n",
    "a5=np.arange(12,24).reshape(3,4)"
   ]
  },
  {
   "cell_type": "code",
   "execution_count": 80,
   "id": "851b59e9",
   "metadata": {},
   "outputs": [
    {
     "data": {
      "text/plain": [
       "array([[ 0,  1,  2,  3, 12, 13, 14, 15],\n",
       "       [ 4,  5,  6,  7, 16, 17, 18, 19],\n",
       "       [ 8,  9, 10, 11, 20, 21, 22, 23]])"
      ]
     },
     "execution_count": 80,
     "metadata": {},
     "output_type": "execute_result"
    }
   ],
   "source": [
    "# Horizontal Stacking\n",
    "np.hstack((a4,a5))"
   ]
  },
  {
   "cell_type": "code",
   "execution_count": 81,
   "id": "b3191d2e",
   "metadata": {},
   "outputs": [
    {
     "data": {
      "text/plain": [
       "array([[ 0,  1,  2,  3],\n",
       "       [ 4,  5,  6,  7],\n",
       "       [ 8,  9, 10, 11],\n",
       "       [12, 13, 14, 15],\n",
       "       [16, 17, 18, 19],\n",
       "       [20, 21, 22, 23]])"
      ]
     },
     "execution_count": 81,
     "metadata": {},
     "output_type": "execute_result"
    }
   ],
   "source": [
    "# verticle Stacking\n",
    "np.vstack((a4,a5))"
   ]
  },
  {
   "cell_type": "code",
   "execution_count": 82,
   "id": "803382bc",
   "metadata": {},
   "outputs": [
    {
     "name": "stdout",
     "output_type": "stream",
     "text": [
      "[[[ 0 12]\n",
      "  [ 1 13]\n",
      "  [ 2 14]\n",
      "  [ 3 15]]\n",
      "\n",
      " [[ 4 16]\n",
      "  [ 5 17]\n",
      "  [ 6 18]\n",
      "  [ 7 19]]\n",
      "\n",
      " [[ 8 20]\n",
      "  [ 9 21]\n",
      "  [10 22]\n",
      "  [11 23]]]\n"
     ]
    }
   ],
   "source": [
    "# depth Stacking : add one more dimensional\n",
    "c=np.dstack((a4,a5))\n",
    "print(c)\n"
   ]
  },
  {
   "cell_type": "code",
   "execution_count": 83,
   "id": "09eb56f6",
   "metadata": {},
   "outputs": [
    {
     "name": "stdout",
     "output_type": "stream",
     "text": [
      "[[[ 0  1  2  3]\n",
      "  [ 4  5  6  7]\n",
      "  [ 8  9 10 11]]\n",
      "\n",
      " [[12 13 14 15]\n",
      "  [16 17 18 19]\n",
      "  [20 21 22 23]]]\n",
      "\n",
      "\n",
      "\n",
      "[[[ 0  1  2  3]\n",
      "  [12 13 14 15]]\n",
      "\n",
      " [[ 4  5  6  7]\n",
      "  [16 17 18 19]]\n",
      "\n",
      " [[ 8  9 10 11]\n",
      "  [20 21 22 23]]]\n"
     ]
    }
   ],
   "source": [
    "# custom stacking : axis=0 -> verticle and axis=1 -> horizontal\n",
    "\n",
    "\"\"\"\n",
    "np.stack((a, b), axis=0):\n",
    "Adds a new axis at position 0\n",
    "\"\"\"\n",
    "k=np.stack((a4,a5),axis=0)\n",
    "print(k)\n",
    "\n",
    "\n",
    "print(\"\\n\\n\")\n",
    "\"\"\"\n",
    "np.stack((a, b), axis=1):\n",
    "Adds a new axis at position 1\n",
    "\"\"\"\n",
    "m=np.stack((a4,a5),axis=1)\n",
    "print(m)"
   ]
  },
  {
   "cell_type": "markdown",
   "id": "53604d01",
   "metadata": {},
   "source": [
    "# Splitting:\n",
    "\n",
    "Splitting means dividing one array into multiple sub-arrays along a specific axis.\n",
    "\n",
    "Useful when you want to:\n",
    "\n",
    "Split data into batches\n",
    "\n",
    "Divide datasets into training/testing sets\n",
    "\n",
    "Process parts of arrays independently\n",
    "\n"
   ]
  },
  {
   "cell_type": "code",
   "execution_count": 84,
   "id": "fd457253",
   "metadata": {},
   "outputs": [
    {
     "data": {
      "text/plain": [
       "'\\nnp.split()\\tSplit evenly into parts (specify number of splits)\\nnp.array_split()\\tSplit into parts (can be uneven sizes)\\nnp.hsplit()\\tHorizontal split (columns)\\nnp.vsplit()\\tVertical split (rows)\\nnp.dsplit()\\tDepth-wise split (3D arrays)\\n'"
      ]
     },
     "execution_count": 84,
     "metadata": {},
     "output_type": "execute_result"
    }
   ],
   "source": [
    "\"\"\"\n",
    "np.split()\tSplit evenly into parts (specify number of splits)\n",
    "np.array_split()\tSplit into parts (can be uneven sizes)\n",
    "np.hsplit()\tHorizontal split (columns)\n",
    "np.vsplit()\tVertical split (rows)\n",
    "np.dsplit()\tDepth-wise split (3D arrays)\n",
    "\"\"\""
   ]
  },
  {
   "cell_type": "code",
   "execution_count": 85,
   "id": "bdf2534f",
   "metadata": {},
   "outputs": [
    {
     "name": "stdout",
     "output_type": "stream",
     "text": [
      "(2, 6)\n"
     ]
    }
   ],
   "source": [
    "import numpy as np\n",
    "\n",
    "arr = np.array([\n",
    "    [10, 20, 30, 40, 50, 60],\n",
    "    [70, 80, 90, 100, 110, 120]\n",
    "])\n",
    "# shape = (2, 6)\n",
    "print(arr.shape)"
   ]
  },
  {
   "cell_type": "markdown",
   "id": "50743908",
   "metadata": {},
   "source": [
    " In NumPy:\n",
    "\n",
    "__axis=0 means  rows are affected (operate down the columns)__\n",
    "\n",
    "__axis=1 means  columns are affected (operate across the rows)__\n",
    "\n"
   ]
  },
  {
   "cell_type": "code",
   "execution_count": 86,
   "id": "e36dde28",
   "metadata": {},
   "outputs": [
    {
     "data": {
      "text/plain": [
       "[array([[10, 20],\n",
       "        [70, 80]]),\n",
       " array([[ 30,  40],\n",
       "        [ 90, 100]]),\n",
       " array([[ 50,  60],\n",
       "        [110, 120]])]"
      ]
     },
     "execution_count": 86,
     "metadata": {},
     "output_type": "execute_result"
    }
   ],
   "source": [
    "# np.split() → Split evenly\n",
    "np.split(arr, 3,axis=1)\n"
   ]
  },
  {
   "cell_type": "code",
   "execution_count": 87,
   "id": "a2a466a4",
   "metadata": {},
   "outputs": [
    {
     "data": {
      "text/plain": [
       "[array([[10, 20, 30, 40, 50, 60]]),\n",
       " array([[ 70,  80,  90, 100, 110, 120]]),\n",
       " array([], shape=(0, 6), dtype=int64),\n",
       " array([], shape=(0, 6), dtype=int64)]"
      ]
     },
     "execution_count": 87,
     "metadata": {},
     "output_type": "execute_result"
    }
   ],
   "source": [
    "#  np.array_split() → Allows uneven splits\n",
    "\n",
    "np.array_split(arr, 4, axis=0)\n"
   ]
  },
  {
   "cell_type": "code",
   "execution_count": 88,
   "id": "31133c2f",
   "metadata": {},
   "outputs": [
    {
     "data": {
      "text/plain": [
       "[array([[10],\n",
       "        [70]]),\n",
       " array([[20],\n",
       "        [80]]),\n",
       " array([[30],\n",
       "        [90]]),\n",
       " array([[ 40],\n",
       "        [100]]),\n",
       " array([[ 50],\n",
       "        [110]]),\n",
       " array([[ 60],\n",
       "        [120]])]"
      ]
     },
     "execution_count": 88,
     "metadata": {},
     "output_type": "execute_result"
    }
   ],
   "source": [
    "#np.hsplit() → Split horizontally (columns)\n",
    "np.hsplit(arr, 6)\n"
   ]
  },
  {
   "cell_type": "code",
   "execution_count": 89,
   "id": "eb921ea1",
   "metadata": {},
   "outputs": [
    {
     "data": {
      "text/plain": [
       "[array([[10, 20, 30, 40, 50, 60]]), array([[ 70,  80,  90, 100, 110, 120]])]"
      ]
     },
     "execution_count": 89,
     "metadata": {},
     "output_type": "execute_result"
    }
   ],
   "source": [
    "#   np.vsplit() → Split vertically (rows)\n",
    "np.vsplit(arr, 2)\n"
   ]
  },
  {
   "cell_type": "code",
   "execution_count": 90,
   "id": "26e5681d",
   "metadata": {},
   "outputs": [
    {
     "data": {
      "text/plain": [
       "[array([[[ 0,  1],\n",
       "         [ 4,  5],\n",
       "         [ 8,  9]],\n",
       " \n",
       "        [[12, 13],\n",
       "         [16, 17],\n",
       "         [20, 21]]]),\n",
       " array([[[ 2,  3],\n",
       "         [ 6,  7],\n",
       "         [10, 11]],\n",
       " \n",
       "        [[14, 15],\n",
       "         [18, 19],\n",
       "         [22, 23]]])]"
      ]
     },
     "execution_count": 90,
     "metadata": {},
     "output_type": "execute_result"
    }
   ],
   "source": [
    "# np.dsplit() → Split along depth \n",
    "arr3D = np.arange(24).reshape(2, 3, 4)\n",
    "\n",
    "np.dsplit(arr3D, 2)  # Split along 3rd axis (depth)\n"
   ]
  }
 ],
 "metadata": {
  "kernelspec": {
   "display_name": "Python 3",
   "language": "python",
   "name": "python3"
  },
  "language_info": {
   "codemirror_mode": {
    "name": "ipython",
    "version": 3
   },
   "file_extension": ".py",
   "mimetype": "text/x-python",
   "name": "python",
   "nbconvert_exporter": "python",
   "pygments_lexer": "ipython3",
   "version": "3.13.5"
  }
 },
 "nbformat": 4,
 "nbformat_minor": 5
}
